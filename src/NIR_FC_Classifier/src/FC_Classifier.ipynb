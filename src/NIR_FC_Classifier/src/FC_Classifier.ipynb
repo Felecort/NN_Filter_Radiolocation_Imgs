{
 "cells": [
  {
   "cell_type": "code",
   "execution_count": 1,
   "metadata": {},
   "outputs": [],
   "source": [
    "# Data Handlers\n",
    "import numpy as np\n",
    "\n",
    "# Pytorch\n",
    "import torch\n",
    "import torch.nn as nn\n",
    "import torch.optim as optim\n",
    "\n",
    "# Other\n",
    "from pathlib import Path\n",
    "from os import listdir\n",
    "from time import time\n",
    "from sklearn.preprocessing import OneHotEncoder\n",
    "from PIL import Image, ImageOps\n",
    "\n",
    "# Graphics\n",
    "from matplotlib import pyplot as plt\n",
    "import seaborn as sns\n",
    "\n",
    "# Additional modules\n",
    "from sar_handler.dataset_creator import generate_unshuffled_csv\n",
    "from sar_handler.assistive_funcs import filtering_image, check_ssim, check_gmsd\n",
    "from sar_handler.csv_dataloader import get_train_test_small_data\n",
    "from sar_handler.image_processing import add_noise"
   ]
  },
  {
   "cell_type": "code",
   "execution_count": 2,
   "metadata": {},
   "outputs": [
    {
     "data": {
      "text/plain": [
       "device(type='cuda')"
      ]
     },
     "execution_count": 2,
     "metadata": {},
     "output_type": "execute_result"
    }
   ],
   "source": [
    "# Paths\n",
    "p_main_data = Path(\"../data\")\n",
    "p_models = Path(\"../models\")\n",
    "\n",
    "p_scv_folder = p_main_data / \"csv_files\"\n",
    "\n",
    "p_train_images = p_main_data / \"train\"\n",
    "p_test_images = p_main_data / \"test\"\n",
    "\n",
    "p_train_noised_images = p_main_data / \"train_noised\"\n",
    "p_test_noised_images = p_main_data / \"test_noised\"\n",
    "\n",
    "# p_train_filtered_images = p_main_data / \"train_filtered\"\n",
    "p_test_filtered_images = p_main_data / \"test_filtered\"\n",
    "\n",
    "device = torch.device(\"cuda\" if torch.cuda.is_available() else \"cpu\")\n",
    "device"
   ]
  },
  {
   "cell_type": "code",
   "execution_count": 3,
   "metadata": {},
   "outputs": [],
   "source": [
    "# Dataset\n",
    "win_size = 5\n",
    "step = 3\n",
    "create_dataset = 1\n",
    "train_dataset_name = f\"train_W{win_size}_S{step}.csv\""
   ]
  },
  {
   "cell_type": "code",
   "execution_count": 4,
   "metadata": {},
   "outputs": [
    {
     "name": "stdout",
     "output_type": "stream",
     "text": [
      "img: 8/8\n",
      "Samples: 329672\n"
     ]
    }
   ],
   "source": [
    "# Train dataset\n",
    "if create_dataset:\n",
    "    generate_unshuffled_csv(win_size=win_size, dump_to_file=100000, step=step,\n",
    "                 img_path=p_train_images,\n",
    "                 datasets_path=p_scv_folder,\n",
    "                 noise_imgs_path=p_train_noised_images,\n",
    "                 dataset_name=train_dataset_name,\n",
    "                 force_create_dataset=1)"
   ]
  },
  {
   "cell_type": "code",
   "execution_count": 5,
   "metadata": {},
   "outputs": [],
   "source": [
    "test_img_names = listdir(p_test_images)\n",
    "for name in test_img_names:\n",
    "    img = np.array(ImageOps.grayscale(Image.open(p_test_images / name)))\n",
    "    noised_img = add_noise(img)\n",
    "    Image.fromarray(noised_img.astype(np.uint8)).save(p_test_noised_images / name)"
   ]
  },
  {
   "cell_type": "code",
   "execution_count": 6,
   "metadata": {},
   "outputs": [],
   "source": [
    "class FCBlock(nn.Module):\n",
    "    def __init__(self, in_len, out_len, p_dropout=False) -> None:\n",
    "        super().__init__()\n",
    "        if p_dropout:\n",
    "            self.fc_block = nn.Sequential(\n",
    "                nn.Linear(in_len, out_len),\n",
    "                nn.Dropout(p_dropout),\n",
    "                nn.ReLU(),\n",
    "            )\n",
    "        else:\n",
    "            self.fc_block = nn.Sequential(\n",
    "                nn.Linear(in_len, out_len),\n",
    "                nn.BatchNorm1d(out_len),\n",
    "                nn.ReLU(),\n",
    "            )\n",
    "    \n",
    "    def forward(self, x):\n",
    "        return self.fc_block(x)"
   ]
  },
  {
   "cell_type": "code",
   "execution_count": 7,
   "metadata": {},
   "outputs": [],
   "source": [
    "class DefaultModel(nn.Module):\n",
    "    def __init__(self, in_len, out_len) -> None:\n",
    "        super().__init__()\n",
    "        double_in_len = in_len * 2\n",
    "        triple_in_len = in_len * 3\n",
    "\n",
    "        self.structure = nn.Sequential(\n",
    "            FCBlock(in_len, double_in_len,        p_dropout=0),\n",
    "            FCBlock(double_in_len, triple_in_len, p_dropout=0),\n",
    "            FCBlock(triple_in_len, triple_in_len, p_dropout=0),\n",
    "            FCBlock(triple_in_len, double_in_len, p_dropout=0),\n",
    "            nn.Linear(double_in_len, out_len),\n",
    "        )\n",
    "\n",
    "    def forward(self, x):\n",
    "        x = self.structure(x)\n",
    "        return x"
   ]
  },
  {
   "cell_type": "code",
   "execution_count": 8,
   "metadata": {},
   "outputs": [],
   "source": [
    "class FitModel():\n",
    "    def __init__(self, model, criterion, optimizer, scheduler,\n",
    "                 p_scv_folder, train_dataset_name,\n",
    "                 batch_size, device, num_epoches, normalize_data):\n",
    "        # Model\n",
    "        self.model = model\n",
    "        self.criterion = criterion\n",
    "        self.optimizer = optimizer\n",
    "        self.scheduler = scheduler\n",
    "        \n",
    "        # Params\n",
    "        self.num_epoches = num_epoches\n",
    "        self.batch_size = batch_size\n",
    "        self.normalize_data = normalize_data\n",
    "        \n",
    "        # Folders\n",
    "        self.p_scv_folder = p_scv_folder\n",
    "        self.train_dataset_name = train_dataset_name\n",
    "        \n",
    "        # Flags\n",
    "        self.device = device  \n",
    "        \n",
    "        # Constants\n",
    "        self.train_losses = []\n",
    "        self.valid_losses = []\n",
    "        self.images_filtered = False\n",
    "        \n",
    "\n",
    "        X = [[i] for i in range(0, 256)]\n",
    "        self.enc = OneHotEncoder()\n",
    "        self.enc.fit(X)\n",
    "\n",
    "    def _train(self, current_epoch):\n",
    "        total_loss = []\n",
    "        start_time = time()\n",
    "        self.model.train()\n",
    "        for data, targets in self.train_loader:\n",
    "            data = data.to(device=self.device)\n",
    "            if self.normalize_data:\n",
    "                data /= 255\n",
    "            targets = torch.Tensor(self.enc.transform(targets).toarray()).to(device=self.device)\n",
    "\n",
    "            scores = self.model(data)\n",
    "            loss = self.criterion(scores, targets)\n",
    "            loss.backward()\n",
    "           \n",
    "            self.optimizer.step()\n",
    "            self.optimizer.zero_grad()\n",
    "            \n",
    "            total_loss.append(loss.item())\n",
    "        \n",
    "        mean_total_loss = np.mean(total_loss)\n",
    "        self.train_losses.append(mean_total_loss)\n",
    "        print(f\"Epoch: {current_epoch}/{self.num_epoches}, time: {int(time() - start_time)}s, lr = {self.scheduler.get_last_lr()}\\n\\tTrain loss: {mean_total_loss:.2f}\")\n",
    "        \n",
    "    def _valid(self, current_epoch):\n",
    "        total_loss = []\n",
    "\n",
    "        self.model.eval()\n",
    "        with torch.no_grad():\n",
    "            for data, targets in self.valid_loader:\n",
    "                \n",
    "                data = data.to(device=self.device)\n",
    "                if self.normalize_data:\n",
    "                    data /= 255\n",
    "                targets = torch.Tensor(self.enc.transform(targets).toarray()).to(device=self.device)\n",
    "                \n",
    "                # Forward\n",
    "                scores = self.model(data)\n",
    "                loss = self.criterion(scores, targets)\n",
    "                total_loss.append(loss.item())\n",
    "        \n",
    "        mean_total_loss = np.mean(total_loss)\n",
    "        self.valid_losses.append(mean_total_loss)\n",
    "        print(f\"\\tValid loss: {mean_total_loss:.2f}\")\n",
    "    \n",
    "    def fit(self):\n",
    "        self.train_loader, self.valid_loader = get_train_test_small_data(scv_folder=self.p_scv_folder, dataset_name=self.train_dataset_name,\n",
    "                                                        batch_size=self.batch_size, split=True)\n",
    "        for epoch in range(self.num_epoches):\n",
    "            self._train(epoch + 1)\n",
    "            self._valid(epoch + 1)\n",
    "            if self.scheduler is not None:\n",
    "                self.scheduler.step()\n",
    "                \n",
    "    def plot_graph(self):\n",
    "        sns.set()\n",
    "        fig, (ax_train, ax_test) = plt.subplots(nrows=1, ncols=2, figsize=(12, 6))\n",
    "        # fig.suptitle('Loss')\n",
    "\n",
    "        ax_train.set_title(\"Функция потерь для тренировочного набора данных\")\n",
    "        ax_test.set_title(\"Функция потерь для валидационного набора данных\")\n",
    "\n",
    "        ax_train.set_ylabel('Величина функции потерь')\n",
    "        ax_test.set_ylabel('Величина функции потерь')\n",
    "\n",
    "        ax_train.set_xlabel(\"Эпоха\")\n",
    "        ax_test.set_xlabel(\"Эпоха\")\n",
    "\n",
    "        sns.lineplot(data=self.train_losses, ax=ax_train)\n",
    "        sns.lineplot(data=self.valid_losses, ax=ax_test)\n",
    "\n",
    "        plt.show()\n",
    "    \n",
    "    def filtering_all_images(self):\n",
    "        self.images_filtered = True\n",
    "        images_names = listdir(p_test_noised_images)\n",
    "        for name in images_names:\n",
    "            filtering_image(self.model, p_test_filtered_images, p_test_noised_images, name, win_size, self.device, normalize_data=self.normalize_data, classifier=True)\n",
    "        \n",
    "    @staticmethod\n",
    "    def _check_filtering(p_target_images, p_original_images):\n",
    "        ssim_metric = []\n",
    "        gmsd_metric = []\n",
    "        images_names = listdir(p_target_images)\n",
    "        for name in images_names:\n",
    "            ssim_metric.append(check_ssim(p_target_images, p_original_images, name))\n",
    "            gmsd_metric.append(check_gmsd(p_target_images, p_original_images, name))\n",
    "        return ssim_metric, gmsd_metric\n",
    "        # print(f\"SSIM avg: {sum(ssim_metric) / len(ssim_metric)}\")\n",
    "        # print(f\"GMSD avg: {sum(gmsd_metric) / len(gmsd_metric)}\")\n",
    "    \n",
    "    def check_metrics(self, verbose=False):\n",
    "        if not self.images_filtered:\n",
    "            print(\"Warning: images weren't filtered\")\n",
    "        metrics_after_filtering = self._check_filtering(p_test_filtered_images, p_test_images)\n",
    "        metrics_befor_filtering = self._check_filtering(p_test_noised_images, p_test_images)\n",
    "        if verbose:\n",
    "            print(f\"After filtering\\n\\tmean SSIM: {np.mean(metrics_after_filtering[0]):.3f}\\n\\tmean GMSD: {np.mean(metrics_after_filtering[1]):.3f}\")\n",
    "            print(f\"Before filtering\\n\\tmean SSIM: {np.mean(metrics_befor_filtering[0]):.3f}\\n\\tmean GMSD: {np.mean(metrics_befor_filtering[1]):.3f}\")\n",
    "            \n",
    "            print(f\"After filtering\\n\\tSSIM: {metrics_after_filtering[0]}\\n\\tGMSD: {metrics_after_filtering[1]}\")\n",
    "            print(f\"Before filtering\\n\\tSSIM: {metrics_befor_filtering[0]}\\n\\tGMSD: {metrics_befor_filtering[1]}\")\n",
    "        else:\n",
    "            print(f\"After filtering\\n\\tSSIM: {np.mean(metrics_after_filtering[0]):.3f}\\n\\tGMSD: {np.mean(metrics_after_filtering[1]):.3f}\")\n",
    "            print(f\"Before filtering\\n\\tSSIM: {np.mean(metrics_befor_filtering[0]):.3f}\\n\\tGMSD: {np.mean(metrics_befor_filtering[1]):.3f}\")\n",
    "        "
   ]
  },
  {
   "cell_type": "code",
   "execution_count": 9,
   "metadata": {},
   "outputs": [],
   "source": [
    "# Hyperparameters \n",
    "learning_rate = 0.1\n",
    "num_epoches = 20\n",
    "batch_size = 1024\n",
    "normalize_data = False\n",
    "\n",
    "\n",
    "model = DefaultModel(in_len=(win_size ** 2), out_len=256).to(device=device)\n",
    "criterion = nn.CrossEntropyLoss()\n",
    "optimizer = optim.NAdam(model.parameters(), lr=learning_rate)\n",
    "scheduler = optim.lr_scheduler.MultiStepLR(optimizer, milestones=[5, 10, 15], gamma=0.1) # StepLR\n",
    "# scheduler = None\n",
    "\n",
    "\n",
    "fit_model = FitModel(model, criterion, optimizer, scheduler,\n",
    "                     p_scv_folder, train_dataset_name,\n",
    "                     batch_size, device, num_epoches,\n",
    "                     normalize_data)"
   ]
  },
  {
   "cell_type": "code",
   "execution_count": 10,
   "metadata": {},
   "outputs": [
    {
     "name": "stdout",
     "output_type": "stream",
     "text": [
      "Epoch: 1/20, time: 5s, lr = [0.1]\n",
      "\tTrain loss: 3.50\n",
      "\tValid loss: 3.95\n",
      "Epoch: 2/20, time: 4s, lr = [0.1]\n",
      "\tTrain loss: 3.23\n",
      "\tValid loss: 4.00\n",
      "Epoch: 3/20, time: 4s, lr = [0.1]\n",
      "\tTrain loss: 3.17\n",
      "\tValid loss: 3.52\n",
      "Epoch: 4/20, time: 4s, lr = [0.1]\n",
      "\tTrain loss: 3.15\n",
      "\tValid loss: 3.47\n",
      "Epoch: 5/20, time: 4s, lr = [0.1]\n",
      "\tTrain loss: 3.13\n",
      "\tValid loss: 3.37\n",
      "Epoch: 6/20, time: 4s, lr = [0.010000000000000002]\n",
      "\tTrain loss: 3.03\n",
      "\tValid loss: 3.00\n",
      "Epoch: 7/20, time: 4s, lr = [0.010000000000000002]\n",
      "\tTrain loss: 3.02\n",
      "\tValid loss: 3.00\n",
      "Epoch: 8/20, time: 4s, lr = [0.010000000000000002]\n",
      "\tTrain loss: 3.02\n",
      "\tValid loss: 3.00\n",
      "Epoch: 9/20, time: 4s, lr = [0.010000000000000002]\n",
      "\tTrain loss: 3.02\n",
      "\tValid loss: 3.00\n",
      "Epoch: 10/20, time: 4s, lr = [0.010000000000000002]\n",
      "\tTrain loss: 3.02\n",
      "\tValid loss: 3.00\n",
      "Epoch: 11/20, time: 4s, lr = [0.0010000000000000002]\n",
      "\tTrain loss: 3.00\n",
      "\tValid loss: 2.97\n",
      "Epoch: 12/20, time: 4s, lr = [0.0010000000000000002]\n",
      "\tTrain loss: 3.00\n",
      "\tValid loss: 2.97\n",
      "Epoch: 13/20, time: 4s, lr = [0.0010000000000000002]\n",
      "\tTrain loss: 3.00\n",
      "\tValid loss: 2.97\n",
      "Epoch: 14/20, time: 4s, lr = [0.0010000000000000002]\n",
      "\tTrain loss: 3.00\n",
      "\tValid loss: 2.97\n",
      "Epoch: 15/20, time: 4s, lr = [0.0010000000000000002]\n",
      "\tTrain loss: 3.00\n",
      "\tValid loss: 2.97\n",
      "Epoch: 16/20, time: 4s, lr = [0.00010000000000000003]\n",
      "\tTrain loss: 3.00\n",
      "\tValid loss: 2.97\n",
      "Epoch: 17/20, time: 4s, lr = [0.00010000000000000003]\n",
      "\tTrain loss: 3.00\n",
      "\tValid loss: 2.97\n",
      "Epoch: 18/20, time: 4s, lr = [0.00010000000000000003]\n",
      "\tTrain loss: 3.00\n",
      "\tValid loss: 2.97\n",
      "Epoch: 19/20, time: 4s, lr = [0.00010000000000000003]\n",
      "\tTrain loss: 3.00\n",
      "\tValid loss: 2.97\n",
      "Epoch: 20/20, time: 4s, lr = [0.00010000000000000003]\n",
      "\tTrain loss: 3.00\n",
      "\tValid loss: 2.97\n"
     ]
    }
   ],
   "source": [
    "fit_model.fit()"
   ]
  },
  {
   "cell_type": "code",
   "execution_count": 11,
   "metadata": {},
   "outputs": [
    {
     "data": {
      "image/png": "[encoded data removed]",
      "text/plain": [
       "<Figure size 1200x600 with 2 Axes>"
      ]
     },
     "metadata": {},
     "output_type": "display_data"
    }
   ],
   "source": [
    "fit_model.plot_graph()"
   ]
  },
  {
   "cell_type": "code",
   "execution_count": 12,
   "metadata": {},
   "outputs": [
    {
     "name": "stderr",
     "output_type": "stream",
     "text": [
      "100%|██████████| 608/608 [00:01<00:00, 313.02it/s]\n",
      "100%|██████████| 608/608 [00:01<00:00, 325.94it/s]\n",
      "100%|██████████| 825/825 [00:03<00:00, 231.95it/s]\n",
      "100%|██████████| 825/825 [00:03<00:00, 234.98it/s]\n",
      "100%|██████████| 825/825 [00:03<00:00, 238.24it/s]\n",
      "100%|██████████| 825/825 [00:03<00:00, 231.75it/s]\n",
      "100%|██████████| 825/825 [00:03<00:00, 245.25it/s]\n",
      "100%|██████████| 825/825 [00:03<00:00, 223.47it/s]\n"
     ]
    }
   ],
   "source": [
    "fit_model.filtering_all_images()"
   ]
  },
  {
   "cell_type": "code",
   "execution_count": 13,
   "metadata": {},
   "outputs": [
    {
     "ename": "FileNotFoundError",
     "evalue": "[Errno 2] No such file or directory: 'D:\\\\Projects\\\\PythonProjects\\\\NIR\\\\src\\\\NIR_FC_Classifier\\\\data\\\\test\\\\ICEYE_ARCHIVE_SL_12978_20191025T070230.png'",
     "output_type": "error",
     "traceback": [
      "\u001b[1;31m---------------------------------------------------------------------------\u001b[0m",
      "\u001b[1;31mFileNotFoundError\u001b[0m                         Traceback (most recent call last)",
      "\u001b[1;32md:\\Projects\\PythonProjects\\NIR\\src\\NIR_FC_Classifier\\src\\FC_Classifier.ipynb Cell 13\u001b[0m in \u001b[0;36m1\n\u001b[1;32m----> <a href='vscode-notebook-cell:/d%3A/Projects/PythonProjects/NIR/src/NIR_FC_Classifier/src/FC_Classifier.ipynb#X15sZmlsZQ%3D%3D?line=0'>1</a>\u001b[0m fit_model\u001b[39m.\u001b[39;49mcheck_metrics(verbose\u001b[39m=\u001b[39;49m\u001b[39mTrue\u001b[39;49;00m)\n",
      "\u001b[1;32md:\\Projects\\PythonProjects\\NIR\\src\\NIR_FC_Classifier\\src\\FC_Classifier.ipynb Cell 13\u001b[0m in \u001b[0;36m1\n\u001b[0;32m    <a href='vscode-notebook-cell:/d%3A/Projects/PythonProjects/NIR/src/NIR_FC_Classifier/src/FC_Classifier.ipynb#X15sZmlsZQ%3D%3D?line=123'>124</a>\u001b[0m \u001b[39mif\u001b[39;00m \u001b[39mnot\u001b[39;00m \u001b[39mself\u001b[39m\u001b[39m.\u001b[39mimages_filtered:\n\u001b[0;32m    <a href='vscode-notebook-cell:/d%3A/Projects/PythonProjects/NIR/src/NIR_FC_Classifier/src/FC_Classifier.ipynb#X15sZmlsZQ%3D%3D?line=124'>125</a>\u001b[0m     \u001b[39mprint\u001b[39m(\u001b[39m\"\u001b[39m\u001b[39mWarning: images weren\u001b[39m\u001b[39m'\u001b[39m\u001b[39mt filtered\u001b[39m\u001b[39m\"\u001b[39m)\n\u001b[1;32m--> <a href='vscode-notebook-cell:/d%3A/Projects/PythonProjects/NIR/src/NIR_FC_Classifier/src/FC_Classifier.ipynb#X15sZmlsZQ%3D%3D?line=125'>126</a>\u001b[0m metrics_after_filtering \u001b[39m=\u001b[39m \u001b[39mself\u001b[39;49m\u001b[39m.\u001b[39;49m_check_filtering(p_test_filtered_images, p_test_images)\n\u001b[0;32m    <a href='vscode-notebook-cell:/d%3A/Projects/PythonProjects/NIR/src/NIR_FC_Classifier/src/FC_Classifier.ipynb#X15sZmlsZQ%3D%3D?line=126'>127</a>\u001b[0m metrics_befor_filtering \u001b[39m=\u001b[39m \u001b[39mself\u001b[39m\u001b[39m.\u001b[39m_check_filtering(p_test_noised_images, p_test_images)\n\u001b[0;32m    <a href='vscode-notebook-cell:/d%3A/Projects/PythonProjects/NIR/src/NIR_FC_Classifier/src/FC_Classifier.ipynb#X15sZmlsZQ%3D%3D?line=127'>128</a>\u001b[0m \u001b[39mif\u001b[39;00m verbose:\n",
      "\u001b[1;32md:\\Projects\\PythonProjects\\NIR\\src\\NIR_FC_Classifier\\src\\FC_Classifier.ipynb Cell 13\u001b[0m in \u001b[0;36m1\n\u001b[0;32m    <a href='vscode-notebook-cell:/d%3A/Projects/PythonProjects/NIR/src/NIR_FC_Classifier/src/FC_Classifier.ipynb#X15sZmlsZQ%3D%3D?line=114'>115</a>\u001b[0m images_names \u001b[39m=\u001b[39m listdir(p_target_images)\n\u001b[0;32m    <a href='vscode-notebook-cell:/d%3A/Projects/PythonProjects/NIR/src/NIR_FC_Classifier/src/FC_Classifier.ipynb#X15sZmlsZQ%3D%3D?line=115'>116</a>\u001b[0m \u001b[39mfor\u001b[39;00m name \u001b[39min\u001b[39;00m images_names:\n\u001b[1;32m--> <a href='vscode-notebook-cell:/d%3A/Projects/PythonProjects/NIR/src/NIR_FC_Classifier/src/FC_Classifier.ipynb#X15sZmlsZQ%3D%3D?line=116'>117</a>\u001b[0m     ssim_metric\u001b[39m.\u001b[39mappend(check_ssim(p_target_images, p_original_images, name))\n\u001b[0;32m    <a href='vscode-notebook-cell:/d%3A/Projects/PythonProjects/NIR/src/NIR_FC_Classifier/src/FC_Classifier.ipynb#X15sZmlsZQ%3D%3D?line=117'>118</a>\u001b[0m     gmsd_metric\u001b[39m.\u001b[39mappend(check_gmsd(p_target_images, p_original_images, name))\n\u001b[0;32m    <a href='vscode-notebook-cell:/d%3A/Projects/PythonProjects/NIR/src/NIR_FC_Classifier/src/FC_Classifier.ipynb#X15sZmlsZQ%3D%3D?line=118'>119</a>\u001b[0m \u001b[39mreturn\u001b[39;00m ssim_metric, gmsd_metric\n",
      "File \u001b[1;32md:\\Projects\\PythonProjects\\_venvs\\3.9_venv\\lib\\site-packages\\sar_handler\\assistive_funcs.py:71\u001b[0m, in \u001b[0;36mcheck_ssim\u001b[1;34m(filtered_images, genuine_images, image_name, print_metric)\u001b[0m\n\u001b[0;32m     69\u001b[0m \u001b[39mdef\u001b[39;00m \u001b[39mcheck_ssim\u001b[39m(filtered_images, genuine_images, image_name, print_metric\u001b[39m=\u001b[39m\u001b[39mFalse\u001b[39;00m) \u001b[39m-\u001b[39m\u001b[39m>\u001b[39m \u001b[39mNone\u001b[39;00m:\n\u001b[0;32m     70\u001b[0m     filtered_img \u001b[39m=\u001b[39m np\u001b[39m.\u001b[39marray(ImageOps\u001b[39m.\u001b[39mgrayscale(Image\u001b[39m.\u001b[39mopen(filtered_images \u001b[39m/\u001b[39m image_name)))\n\u001b[1;32m---> 71\u001b[0m     genuine_img \u001b[39m=\u001b[39m np\u001b[39m.\u001b[39marray(ImageOps\u001b[39m.\u001b[39mgrayscale(Image\u001b[39m.\u001b[39;49mopen(genuine_images \u001b[39m/\u001b[39;49m image_name)))\n\u001b[0;32m     72\u001b[0m     ssim_metric \u001b[39m=\u001b[39m ssim(filtered_img, genuine_img)\n\u001b[0;32m     73\u001b[0m     \u001b[39mif\u001b[39;00m print_metric:\n",
      "File \u001b[1;32md:\\Projects\\PythonProjects\\_venvs\\3.9_venv\\lib\\site-packages\\PIL\\Image.py:3131\u001b[0m, in \u001b[0;36mopen\u001b[1;34m(fp, mode, formats)\u001b[0m\n\u001b[0;32m   3128\u001b[0m     filename \u001b[39m=\u001b[39m fp\n\u001b[0;32m   3130\u001b[0m \u001b[39mif\u001b[39;00m filename:\n\u001b[1;32m-> 3131\u001b[0m     fp \u001b[39m=\u001b[39m builtins\u001b[39m.\u001b[39;49mopen(filename, \u001b[39m\"\u001b[39;49m\u001b[39mrb\u001b[39;49m\u001b[39m\"\u001b[39;49m)\n\u001b[0;32m   3132\u001b[0m     exclusive_fp \u001b[39m=\u001b[39m \u001b[39mTrue\u001b[39;00m\n\u001b[0;32m   3134\u001b[0m \u001b[39mtry\u001b[39;00m:\n",
      "\u001b[1;31mFileNotFoundError\u001b[0m: [Errno 2] No such file or directory: 'D:\\\\Projects\\\\PythonProjects\\\\NIR\\\\src\\\\NIR_FC_Classifier\\\\data\\\\test\\\\ICEYE_ARCHIVE_SL_12978_20191025T070230.png'"
     ]
    }
   ],
   "source": [
    "fit_model.check_metrics(verbose=True)"
   ]
  }
 ],
 "metadata": {
  "kernelspec": {
   "display_name": "3.9_venv",
   "language": "python",
   "name": "python3"
  },
  "language_info": {
   "codemirror_mode": {
    "name": "ipython",
    "version": 3
   },
   "file_extension": ".py",
   "mimetype": "text/x-python",
   "name": "python",
   "nbconvert_exporter": "python",
   "pygments_lexer": "ipython3",
   "version": "3.9.13"
  },
  "orig_nbformat": 4,
  "vscode": {
   "interpreter": {
    "hash": "88cdb296fa45150573a7479e53c46514a0e326ba4c5c7ce7e99a342aad6ba12b"
   }
  }
 },
 "nbformat": 4,
 "nbformat_minor": 2
}
