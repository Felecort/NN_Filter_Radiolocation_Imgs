{
 "cells": [
  {
   "cell_type": "code",
   "execution_count": 1,
   "metadata": {},
   "outputs": [
    {
     "name": "stderr",
     "output_type": "stream",
     "text": [
      "d:\\projects\\.venvs\\p_39\\lib\\site-packages\\tqdm\\auto.py:22: TqdmWarning: IProgress not found. Please update jupyter and ipywidgets. See https://ipywidgets.readthedocs.io/en/stable/user_install.html\n",
      "  from .autonotebook import tqdm as notebook_tqdm\n"
     ]
    }
   ],
   "source": [
    "from PIL import Image, ImageOps\n",
    "from skimage.metrics import structural_similarity as ssim\n",
    "import numpy as np\n",
    "from pathlib import Path\n",
    "from os import listdir\n",
    "from sar_handler.assistive_funcs import convert_to_grayscale\n",
    "from sar_handler.image_processing import add_noise"
   ]
  },
  {
   "cell_type": "code",
   "execution_count": 15,
   "metadata": {},
   "outputs": [],
   "source": [
    "def check_ssim(filtered_images, genuine_images, image_name, print_metric=False) -> None:\n",
    "    filtered_img = np.array((Image.open(filtered_images / image_name)))\n",
    "    genuine_img = np.array(ImageOps.grayscale(Image.open(genuine_images / image_name)))\n",
    "    ssim_metric = ssim(filtered_img, genuine_img)\n",
    "    if print_metric:\n",
    "        print(f\"{image_name}, SSIM = {ssim_metric:.3f}\")\n",
    "    return ssim_metric"
   ]
  },
  {
   "cell_type": "code",
   "execution_count": 3,
   "metadata": {},
   "outputs": [],
   "source": [
    "def add_noise_and_save(path_gray, path_noised):\n",
    "    for name in listdir(path_gray):\n",
    "        img = np.array(Image.open(path_gray / name), dtype=np.float32)\n",
    "        img = np.array(add_noise(img), dtype=np.uint8)\n",
    "        img = Image.fromarray(img)\n",
    "        img.save(path_noised / name)"
   ]
  },
  {
   "cell_type": "code",
   "execution_count": 4,
   "metadata": {},
   "outputs": [],
   "source": [
    "original_path = Path(\"./original\")\n",
    "filtered_path = Path(\"./filtered\")\n",
    "noised_images = Path(\"./noised\")\n",
    "gray_original_path = Path(\"./gray_images\")\n"
   ]
  },
  {
   "cell_type": "code",
   "execution_count": 5,
   "metadata": {},
   "outputs": [],
   "source": [
    "convert_to_grayscale(original_path)"
   ]
  },
  {
   "cell_type": "code",
   "execution_count": 6,
   "metadata": {},
   "outputs": [],
   "source": [
    "add_noise_and_save(gray_original_path, noised_images)"
   ]
  },
  {
   "cell_type": "code",
   "execution_count": 16,
   "metadata": {},
   "outputs": [
    {
     "name": "stdout",
     "output_type": "stream",
     "text": [
      "10.jpg, SSIM = 0.990\n",
      "2.jpg, SSIM = 0.963\n",
      "3.jpg, SSIM = 0.972\n",
      "4.jpg, SSIM = 0.974\n",
      "5.jpg, SSIM = 0.966\n",
      "6.jpg, SSIM = 0.955\n",
      "8.jpg, SSIM = 0.971\n",
      "9.jpg, SSIM = 0.985\n"
     ]
    },
    {
     "data": {
      "text/plain": [
       "0.9719274965096234"
      ]
     },
     "execution_count": 16,
     "metadata": {},
     "output_type": "execute_result"
    }
   ],
   "source": [
    "ssim_list = []\n",
    "for name in listdir(gray_original_path):\n",
    "    ssim_list.append(check_ssim(gray_original_path, original_path, name, print_metric=True))\n",
    "sum(ssim_list) / len(ssim_list)"
   ]
  },
  {
   "cell_type": "code",
   "execution_count": null,
   "metadata": {},
   "outputs": [],
   "source": []
  }
 ],
 "metadata": {
  "kernelspec": {
   "display_name": "3.9_venv",
   "language": "python",
   "name": "python3"
  },
  "language_info": {
   "codemirror_mode": {
    "name": "ipython",
    "version": 3
   },
   "file_extension": ".py",
   "mimetype": "text/x-python",
   "name": "python",
   "nbconvert_exporter": "python",
   "pygments_lexer": "ipython3",
   "version": "3.9.13"
  },
  "orig_nbformat": 4
 },
 "nbformat": 4,
 "nbformat_minor": 2
}
