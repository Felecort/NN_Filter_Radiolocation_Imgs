{
 "cells": [
  {
   "cell_type": "code",
   "execution_count": 27,
   "metadata": {},
   "outputs": [],
   "source": [
    "from PIL import Image, ImageOps\n",
    "from skimage.metrics import structural_similarity as ssim\n",
    "import numpy as np\n",
    "from pathlib import Path\n",
    "from os import listdir\n",
    "from sar_handler.assistive_funcs import convert_to_grayscale\n",
    "from sar_handler.image_processing import add_noise"
   ]
  },
  {
   "cell_type": "code",
   "execution_count": 28,
   "metadata": {},
   "outputs": [],
   "source": [
    "def check_ssim(filtered_images, genuine_images, image_name, print_metric=False) -> None:\n",
    "    filtered_img = np.array(ImageOps.grayscale(Image.open(filtered_images / image_name)))\n",
    "    genuine_img = np.array(ImageOps.grayscale(Image.open(genuine_images / image_name)))\n",
    "    ssim_metric = ssim(filtered_img, genuine_img)\n",
    "    if print_metric:\n",
    "        print(f\"{image_name}, SSIM = {ssim_metric:.3f}\")\n",
    "    return ssim_metric"
   ]
  },
  {
   "cell_type": "code",
   "execution_count": 29,
   "metadata": {},
   "outputs": [],
   "source": [
    "def add_noise_and_save(path_gray, path_noised):\n",
    "    for name in listdir(path_gray):\n",
    "        img = np.array(Image.open(path_gray / name), dtype=np.float32)\n",
    "        img = np.array(add_noise(img), dtype=np.uint8)\n",
    "        img = Image.fromarray(img)\n",
    "        img.save(path_noised / name)"
   ]
  },
  {
   "cell_type": "code",
   "execution_count": 30,
   "metadata": {},
   "outputs": [],
   "source": [
    "original_path = Path(\"./original\")\n",
    "filtered_path = Path(\"./filtered\")\n",
    "noised_images = Path(\"./noised\")\n",
    "gray_original_path = Path(\"./gray_images\")\n"
   ]
  },
  {
   "cell_type": "code",
   "execution_count": 31,
   "metadata": {},
   "outputs": [],
   "source": [
    "convert_to_grayscale(original_path)"
   ]
  },
  {
   "cell_type": "code",
   "execution_count": 32,
   "metadata": {},
   "outputs": [],
   "source": [
    "add_noise_and_save(gray_original_path, noised_images)"
   ]
  },
  {
   "cell_type": "code",
   "execution_count": 33,
   "metadata": {},
   "outputs": [
    {
     "name": "stdout",
     "output_type": "stream",
     "text": [
      "10.jpg, SSIM = 0.205\n",
      "2.jpg, SSIM = 0.701\n",
      "3.jpg, SSIM = 0.592\n",
      "4.jpg, SSIM = 0.635\n",
      "5.jpg, SSIM = 0.500\n",
      "6.jpg, SSIM = 0.814\n",
      "8.jpg, SSIM = 0.621\n",
      "9.jpg, SSIM = 0.223\n"
     ]
    },
    {
     "data": {
      "text/plain": [
       "0.5362504483790342"
      ]
     },
     "execution_count": 33,
     "metadata": {},
     "output_type": "execute_result"
    }
   ],
   "source": [
    "ssim_list = []\n",
    "for name in listdir(gray_original_path):\n",
    "    ssim_list.append(check_ssim(filtered_path, gray_original_path, name, print_metric=True))\n",
    "sum(ssim_list) / len(ssim_list)"
   ]
  }
 ],
 "metadata": {
  "kernelspec": {
   "display_name": "3.9_venv",
   "language": "python",
   "name": "python3"
  },
  "language_info": {
   "codemirror_mode": {
    "name": "ipython",
    "version": 3
   },
   "file_extension": ".py",
   "mimetype": "text/x-python",
   "name": "python",
   "nbconvert_exporter": "python",
   "pygments_lexer": "ipython3",
   "version": "3.9.13"
  },
  "orig_nbformat": 4
 },
 "nbformat": 4,
 "nbformat_minor": 2
}
