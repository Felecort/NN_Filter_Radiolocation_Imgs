{
 "cells": [
  {
   "cell_type": "code",
   "execution_count": 1,
   "metadata": {},
   "outputs": [],
   "source": [
    "from PIL import Image, ImageOps\n",
    "from skimage.metrics import structural_similarity as ssim\n",
    "import numpy as np\n",
    "from pathlib import Path\n",
    "from os import listdir"
   ]
  },
  {
   "cell_type": "code",
   "execution_count": 2,
   "metadata": {},
   "outputs": [],
   "source": [
    "def check_ssim(filtered_images, genuine_images, image_name, print_metric=False) -> None:\n",
    "    filtered_img = np.array(ImageOps.grayscale(Image.open(filtered_images / image_name)))\n",
    "    genuine_img = np.array(ImageOps.grayscale(Image.open(genuine_images / image_name)))\n",
    "    ssim_metric = ssim(filtered_img, genuine_img)\n",
    "    if print_metric:\n",
    "        print(f\"{image_name}, SSIM = {ssim_metric:.3f}\")\n",
    "    return ssim_metric"
   ]
  },
  {
   "cell_type": "code",
   "execution_count": 3,
   "metadata": {},
   "outputs": [
    {
     "data": {
      "text/plain": [
       "['10.jpg', '2.jpg', '3.jpg', '4.jpg', '5.jpg', '6.jpg', '8.jpg', '9.jpg']"
      ]
     },
     "execution_count": 3,
     "metadata": {},
     "output_type": "execute_result"
    }
   ],
   "source": [
    "original_path = Path(\"./original\")\n",
    "filtered_path = Path(\"./filtered\")\n"
   ]
  },
  {
   "cell_type": "code",
   "execution_count": 6,
   "metadata": {},
   "outputs": [
    {
     "name": "stdout",
     "output_type": "stream",
     "text": [
      "10.jpg, SSIM = 0.204\n",
      "2.jpg, SSIM = 0.694\n",
      "3.jpg, SSIM = 0.590\n",
      "4.jpg, SSIM = 0.630\n",
      "5.jpg, SSIM = 0.496\n",
      "6.jpg, SSIM = 0.800\n",
      "8.jpg, SSIM = 0.614\n",
      "9.jpg, SSIM = 0.223\n"
     ]
    },
    {
     "data": {
      "text/plain": [
       "0.5313556935532658"
      ]
     },
     "execution_count": 6,
     "metadata": {},
     "output_type": "execute_result"
    }
   ],
   "source": [
    "ssim_list = []\n",
    "for name in listdir(original_path):\n",
    "    ssim_list.append(check_ssim(filtered_path, original_path, name, print_metric=True))\n",
    "sum(ssim_list) / len(ssim_list)"
   ]
  }
 ],
 "metadata": {
  "kernelspec": {
   "display_name": "3.9_venv",
   "language": "python",
   "name": "python3"
  },
  "language_info": {
   "codemirror_mode": {
    "name": "ipython",
    "version": 3
   },
   "file_extension": ".py",
   "mimetype": "text/x-python",
   "name": "python",
   "nbconvert_exporter": "python",
   "pygments_lexer": "ipython3",
   "version": "3.9.13"
  },
  "orig_nbformat": 4
 },
 "nbformat": 4,
 "nbformat_minor": 2
}
