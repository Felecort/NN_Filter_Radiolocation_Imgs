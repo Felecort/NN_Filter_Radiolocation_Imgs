{
 "cells": [
  {
   "cell_type": "code",
   "execution_count": 1,
   "metadata": {},
   "outputs": [
    {
     "name": "stderr",
     "output_type": "stream",
     "text": [
      "d:\\Projects\\PythonProjects\\_venvs\\3.9_venv\\lib\\site-packages\\tqdm\\auto.py:22: TqdmWarning: IProgress not found. Please update jupyter and ipywidgets. See https://ipywidgets.readthedocs.io/en/stable/user_install.html\n",
      "  from .autonotebook import tqdm as notebook_tqdm\n"
     ]
    }
   ],
   "source": [
    "# Data Handlers\n",
    "import pandas as pd\n",
    "import numpy as np\n",
    "from PIL import Image\n",
    "from PIL import ImageOps\n",
    "\n",
    "# Pytorch\n",
    "import torch\n",
    "import torch.nn as nn  # NN; networks (CNN, RNN, losses)\n",
    "import torch.optim as optim  # Optimizers (Adam, Adadelta, Adagrad)\n",
    "import torch.nn.functional as F\n",
    "import torchvision\n",
    "import torchvision.transforms as transforms\n",
    "from torch.utils.data import DataLoader, Dataset, IterableDataset  # Dataset manager\n",
    "from torch.autograd import Variable\n",
    "from torchvision import datasets\n",
    "from torch.utils.data.sampler import SubsetRandomSampler\n",
    "from torch.nn.functional import one_hot\n",
    "\n",
    "# Other\n",
    "import datetime\n",
    "import os\n",
    "from tqdm import tqdm\n",
    "from pathlib import Path\n",
    "from os import listdir\n",
    "from fastaniso import anisodiff\n",
    "from time import time\n",
    "\n",
    "\n",
    "# Graphics\n",
    "from matplotlib import pyplot as plt\n",
    "import seaborn as sns\n",
    "\n",
    "\n",
    "from skimage.metrics import structural_similarity as ssim\n",
    "from sklearn.preprocessing import OneHotEncoder\n",
    "\n",
    "# Additional modules\n",
    "from dataset_creator import generate_csv\n",
    "from assistive_funcs import filtering_image, check_ssim, check_gmsd, convert_to_grayscale, get_dataset_name\n",
    "from csv_dataloader import get_train_test_big_data, get_train_test_small_data\n",
    "from math import floor"
   ]
  },
  {
   "cell_type": "code",
   "execution_count": 2,
   "metadata": {},
   "outputs": [],
   "source": [
    "# Paths\n",
    "p_main_data = Path(\"../data\")\n",
    "p_models = Path(\"../models\")\n",
    "\n",
    "p_scv_folder = p_main_data / \"csv_files\" # datasets_path\n",
    "p_img = p_main_data / \"images\"\n",
    "\n",
    "p_noised_imgs = p_main_data / \"FC_imgs_with_noise\"\n",
    "\n",
    "p_filtered_images = p_main_data / \"FC_filtered_images\"\n",
    "\n",
    "p_gray_images = p_main_data / \"gray_images\""
   ]
  },
  {
   "cell_type": "code",
   "execution_count": 3,
   "metadata": {},
   "outputs": [
    {
     "data": {
      "text/plain": [
       "device(type='cuda')"
      ]
     },
     "execution_count": 3,
     "metadata": {},
     "output_type": "execute_result"
    }
   ],
   "source": [
    "\n",
    "device = torch.device(\"cuda\" if torch.cuda.is_available() else \"cpu\")\n",
    "# print(f\"{dataset_name = }\\n{device = }\")\n",
    "device"
   ]
  },
  {
   "cell_type": "code",
   "execution_count": 4,
   "metadata": {},
   "outputs": [],
   "source": [
    "# Dataset\n",
    "win_size = 7\n",
    "step = 5\n",
    "create_dataset = 0\n",
    "if create_dataset:\n",
    "    generate_csv(win_size=win_size, dump_to_file=5000, step=step, force_create_dataset=1, classification=True)"
   ]
  },
  {
   "cell_type": "code",
   "execution_count": 5,
   "metadata": {},
   "outputs": [
    {
     "data": {
      "text/plain": [
       "'classification\\\\W7_S5_L146410.csv'"
      ]
     },
     "execution_count": 5,
     "metadata": {},
     "output_type": "execute_result"
    }
   ],
   "source": [
    "win_size = 7\n",
    "step = 5\n",
    "\n",
    "dataset_name = get_dataset_name(win_size, step, p_scv_folder, classification=True) #r\"W5_S1_L3696640.csv\"\n",
    "dataset_name"
   ]
  },
  {
   "cell_type": "code",
   "execution_count": 6,
   "metadata": {},
   "outputs": [],
   "source": [
    "# from google.colab import drive\n",
    "# drive.mount('/content/gdrive/')\n",
    "# !unzip -q /content/gdrive/MyDrive/NIR/data/FC_data/W5_S5_L146410.zip\n"
   ]
  },
  {
   "cell_type": "code",
   "execution_count": 7,
   "metadata": {},
   "outputs": [],
   "source": [
    "class FCBlock(nn.Module):\n",
    "    def __init__(self, in_len, out_len) -> None:\n",
    "        super().__init__()\n",
    "        self.fc_block = nn.Sequential(\n",
    "            nn.Linear(in_len, out_len),\n",
    "            nn.BatchNorm1d(out_len),\n",
    "            nn.ReLU(),\n",
    "        )\n",
    "    \n",
    "    def forward(self, x):\n",
    "        return self.fc_block(x)\n",
    "        \n",
    "\n",
    "class DefaultModel(nn.Module):\n",
    "    def __init__(self, in_len, out_len) -> None:\n",
    "        super().__init__()\n",
    "        double_in_len = in_len * 2\n",
    "\n",
    "        self.structure = nn.Sequential(\n",
    "            FCBlock(in_len, in_len),\n",
    "\n",
    "            FCBlock(in_len, double_in_len),\n",
    "            # nn.Dropout(0.5),\n",
    "\n",
    "            FCBlock(double_in_len, double_in_len),\n",
    "            # nn.Dropout(0.5),\n",
    "\n",
    "            FCBlock(double_in_len, in_len),\n",
    "            # nn.Dropout(0.5),\n",
    "\n",
    "            nn.Linear(in_len, out_len)\n",
    "        )\n",
    "\n",
    "    def forward(self, x):\n",
    "        x = self.structure(x)\n",
    "        return x"
   ]
  },
  {
   "cell_type": "code",
   "execution_count": 8,
   "metadata": {},
   "outputs": [],
   "source": [
    "# losses = []\n",
    "# losses_append = losses.append\n",
    "\n",
    "# valid_losses = []\n",
    "# valid_losses_append = valid_losses.append\n",
    "\n",
    "# for epoch in range(num_epoches):\n",
    "#     model.train()\n",
    "#     train_loader, test_loader = get_train_test_data(scv_folder=p_scv_folder, dataset_name=dataset_name, batch_size=batch_size, train_size=0.8)\n",
    "#     for batch_ind, (data, targets) in tqdm(enumerate(train_loader)):\n",
    "#         # Data on cuda\n",
    "#         data = data.to(device=device)\n",
    "#         targets = targets.to(device=device)\n",
    "        \n",
    "#         # Forward\n",
    "#         scores = model(data) # Equal to model.forward(data)\n",
    "#         loss = criterion(scores, targets)\n",
    "\n",
    "#         # Backprop\n",
    "#         loss.backward()\n",
    "\n",
    "#         # Gradient descent or adam step\n",
    "#         optimizer.step()\n",
    "#         optimizer.zero_grad()\n",
    "        \n",
    "#         if batch_ind % 3 == 0:\n",
    "#             losses_append(loss.item())\n",
    "#     scheduler.step()\n",
    "#     model.eval()\n",
    "#     with torch.no_grad():\n",
    "#         for batch_ind, (data, targets) in tqdm(enumerate(test_loader)):\n",
    "#             data = data.to(device=device)\n",
    "#             targets = targets.to(device=device)\n",
    "            \n",
    "#             # Forward\n",
    "#             scores = model(data) # Equal to model.forward(data)\n",
    "#             loss = criterion(scores, targets)\n",
    "#             valid_losses_append(loss.item())"
   ]
  },
  {
   "cell_type": "code",
   "execution_count": 9,
   "metadata": {},
   "outputs": [],
   "source": [
    "class FitModel():\n",
    "    def __init__(self, model, criterion, optimizer, scheduler, p_scv_folder, dataset_name, batch_size, device, num_epoches) -> None:\n",
    "        self.model = model\n",
    "        self.criterion = criterion\n",
    "        self.optimizer = optimizer\n",
    "        self.scheduler = scheduler\n",
    "        self.num_epoches = num_epoches\n",
    "        self.p_scv_folder = p_scv_folder\n",
    "        self.dataset_name = dataset_name\n",
    "        self.batch_size = batch_size\n",
    "        self.train_losses = []\n",
    "        self.valid_losses = []\n",
    "        self.device = device  \n",
    "        \n",
    "        X = [[i] for i in range(0, 256)]\n",
    "        self.enc = OneHotEncoder()\n",
    "        self.enc.fit(X)\n",
    "        \n",
    "\n",
    "# loop = tqdm(enumerate(self.val_loader, start=1),\n",
    "#                     leave=True,\n",
    "#                     total=len(self.val_loader))\n",
    "\n",
    "#                 loop.set_description(f\"Valid epoch: {current_epoch}\")\n",
    "#                 loop.set_postfix(loss=round(loss.item(), 2))\n",
    "\n",
    "\n",
    "    def _train(self, current_epoch):\n",
    "        loop = tqdm(enumerate(self.val_loader, start=1),\n",
    "            leave=True,\n",
    "            total=len(self.val_loader))\n",
    "        self.model.train()\n",
    "        total_loss = []\n",
    "        for batch_index, (data, targets) in tqdm(enumerate(self.train_loader, start=1)):\n",
    "            data = data.to(device=self.device)\n",
    "            targets = torch.Tensor(self.enc.transform(targets).toarray())\n",
    "            targets = targets.to(device=self.device)\n",
    "            # print(targets)\n",
    "            # print(data)\n",
    "            scores = self.model(data)\n",
    "            loss = self.criterion(scores, targets)\n",
    "            loss.backward()\n",
    "            self.optimizer.step()\n",
    "            self.optimizer.zero_grad()\n",
    "            total_loss.append(loss.item())\n",
    "        self.train_losses.append(np.mean(total_loss))\n",
    "        \n",
    "    def _valid(self, current_epoch):\n",
    "        total_loss = []\n",
    "        self.model.eval()\n",
    "        with torch.no_grad():\n",
    "            for batch_index, (data, targets) in tqdm(enumerate(self.test_loader, start=1)):\n",
    "                data = data.to(device=self.device)\n",
    "                targets = torch.Tensor(self.enc.transform(targets).toarray())\n",
    "                targets = targets.to(device=self.device)\n",
    "                \n",
    "                # Forward\n",
    "                scores = self.model(data) # Equal to model.forward(data)\n",
    "                loss = self.criterion(scores, targets)\n",
    "                total_loss.append(loss.item())\n",
    "        self.valid_losses.append(np.mean(total_loss))\n",
    "    \n",
    "    def fit(self):\n",
    "        for epoch in range(self.num_epoches):\n",
    "            self.train_loader, self.test_loader = get_train_test_small_data(scv_folder=self.p_scv_folder, dataset_name=self.dataset_name,\n",
    "                                                                      batch_size=self.batch_size, train_size=0.8)\n",
    "            self._train(epoch)\n",
    "            self._valid(epoch)\n",
    "            if self.scheduler is not None:\n",
    "                self.scheduler.step()\n",
    "                \n",
    "    def plot_graph(self):\n",
    "        sns.set()\n",
    "        fig, (ax_train, ax_test) = plt.subplots(nrows=1, ncols=2, figsize=(12, 6))\n",
    "        fig.suptitle('Loss')\n",
    "\n",
    "        ax_train.set_title(\"Train loss\")\n",
    "        ax_test.set_title(\"Valid loss\")\n",
    "\n",
    "        ax_train.set_ylabel('Loss value')\n",
    "        ax_test.set_ylabel('Loss value')\n",
    "\n",
    "        ax_train.set_xlabel(\"Batch\")\n",
    "        ax_test.set_xlabel(\"Batch\")\n",
    "\n",
    "        sns.lineplot(data=self.train_losses, ax=ax_train)\n",
    "        sns.lineplot(data=self.valid_losses, ax=ax_test)\n",
    "\n",
    "        plt.show()\n",
    "    \n",
    "    def filtering_all_images(self):\n",
    "        images_names = listdir(p_noised_imgs)\n",
    "        for name in images_names:\n",
    "            filtering_image(self.model, p_filtered_images, p_noised_imgs, name, win_size, self.device, classification=True)\n"
   ]
  },
  {
   "cell_type": "code",
   "execution_count": 10,
   "metadata": {},
   "outputs": [],
   "source": [
    "# Hyperparameters \n",
    "learning_rate = 0.1\n",
    "num_epoches = 12\n",
    "batch_size = 128\n",
    "\n",
    "model = DefaultModel(in_len=(win_size ** 2), out_len=256).to(device=device)\n",
    "criterion = nn.CrossEntropyLoss()\n",
    "optimizer = optim.Adam(model.parameters(), lr=learning_rate)\n",
    "scheduler = optim.lr_scheduler.StepLR(optimizer, step_size=3, gamma=0.2)"
   ]
  },
  {
   "cell_type": "code",
   "execution_count": 11,
   "metadata": {},
   "outputs": [
    {
     "name": "stderr",
     "output_type": "stream",
     "text": [
      "916it [00:09, 99.78it/s] \n",
      "229it [00:00, 337.02it/s]\n",
      "916it [00:07, 130.24it/s]\n",
      "229it [00:00, 331.90it/s]\n",
      "916it [00:07, 129.45it/s]\n",
      "229it [00:00, 316.48it/s]\n",
      "916it [00:06, 133.29it/s]\n",
      "229it [00:00, 365.43it/s]\n",
      "916it [00:06, 133.47it/s]\n",
      "229it [00:00, 366.60it/s]\n",
      "916it [00:07, 130.06it/s]\n",
      "229it [00:00, 372.21it/s]\n",
      "916it [00:06, 133.61it/s]\n",
      "229it [00:00, 368.43it/s]\n",
      "916it [00:06, 132.76it/s]\n",
      "229it [00:00, 371.37it/s]\n",
      "916it [00:06, 133.42it/s]\n",
      "229it [00:00, 371.97it/s]\n",
      "916it [00:07, 114.90it/s]\n",
      "229it [00:00, 272.12it/s]\n",
      "916it [00:06, 133.17it/s]\n",
      "229it [00:00, 357.72it/s]\n",
      "916it [00:06, 135.98it/s]\n",
      "229it [00:00, 375.01it/s]\n"
     ]
    }
   ],
   "source": [
    "fit_model = FitModel(model, criterion, optimizer, scheduler, p_scv_folder, dataset_name, batch_size, device, num_epoches)\n",
    "fit_model.fit()"
   ]
  },
  {
   "cell_type": "code",
   "execution_count": 12,
   "metadata": {},
   "outputs": [
    {
     "data": {
      "text/plain": [
       "tensor([[-0.8359,  0.5870, -1.5141, -0.7106],\n",
       "        [ 0.9139, -0.5761,  0.1068, -0.2097],\n",
       "        [ 1.2137,  1.1610,  0.0955,  1.0960],\n",
       "        [-0.9848, -0.9291,  0.8892,  0.1749]])"
      ]
     },
     "execution_count": 12,
     "metadata": {},
     "output_type": "execute_result"
    }
   ],
   "source": [
    "a = torch.randn(4, 4)\n",
    "a"
   ]
  },
  {
   "cell_type": "code",
   "execution_count": 13,
   "metadata": {},
   "outputs": [
    {
     "data": {
      "text/plain": [
       "tensor([1, 0, 0, 2])"
      ]
     },
     "execution_count": 13,
     "metadata": {},
     "output_type": "execute_result"
    }
   ],
   "source": [
    "a.argmax(axis=-1).flatten()"
   ]
  },
  {
   "cell_type": "code",
   "execution_count": 14,
   "metadata": {},
   "outputs": [],
   "source": [
    "# def Train(model, optimizer, loss, epochs, TrainDataloader, ValidDataloader,train_loss_list, train_acc_list,valid_loss_list, valid_acc_list, device):\n",
    "#     for epoch in range(epochs):\n",
    "#         print(f\"Epoch {epoch+1}/{num_epochs}\")\n",
    "#         start_time = datetime.now()\n",
    "#         train_loss = []\n",
    "#         pred_labels = []\n",
    "#         true_labels = []\n",
    "#         model.train()\n",
    "#         optimizer.zero_grad()\n",
    "#         for train_x, train_y in TrainDataloader:\n",
    "#             x = train_x.to(device)\n",
    "#             true_y = train_y.to(device)\n",
    "#             pred_y = model(x)\n",
    "#             loss_train_res = loss(pred_y, true_y)\n",
    "#             batch_train_loss = loss_train_res.cpu().item()\n",
    "#             train_loss.append(batch_train_loss)\n",
    "#             loss_train_res.backward()\n",
    "#             optimizer.step()\n",
    "#             optimizer.zero_grad()\n",
    "#             pred_labels += pred_y.argmax(axis=-1).flatten().tolist()\n",
    "#             true_labels += true_y.tolist()\n",
    "#         train_loss_mean = np.mean(train_loss)\n",
    "#         train_acc = accuracy_score(true_labels, pred_labels)\n",
    "#         train_loss_list.append(train_loss_mean)\n",
    "#         train_acc_list.append(train_acc)\n",
    "#         valid_loss = []\n",
    "#         pred_labels = []\n",
    "#         true_labels = []\n",
    "#         model.eval()\n",
    "#         with torch.no_grad():\n",
    "#             for valid_x, valid_y in ValidDataloader:\n",
    "#                 x = valid_x.to(device)\n",
    "#                 true_y = valid_y.to(device)\n",
    "#                 pred_y = model(x)\n",
    "#                 loss_valid_res = loss(pred_y, true_y)\n",
    "#                 batch_val_loss = loss_valid_res.cpu().item()\n",
    "#                 valid_loss.append(batch_val_loss)\n",
    "#                 pred_labels += pred_y.argmax(axis=-1).flatten().tolist()\n",
    "#                 true_labels += true_y.tolist()\n",
    "#         valid_loss_mean = np.mean(valid_loss)\n",
    "#         valid_acc = accuracy_score(true_labels, pred_labels)\n",
    "#         valid_loss_list.append(valid_loss_mean)\n",
    "#         valid_acc_list.append(valid_acc)\n",
    "#         print(f\"Train Loss: {train_loss_mean:.5f}, Train Accuracy = {train_acc}\")\n",
    "#         print(f\"Valid Loss: {valid_loss_mean:.5f}, Valid Accuracy = {valid_acc}\")\n",
    "#         print(f\"Time: {datetime.now() - start_time}\")"
   ]
  },
  {
   "cell_type": "code",
   "execution_count": 15,
   "metadata": {},
   "outputs": [
    {
     "data": {
      "image/png": "[encoded data removed]",
      "text/plain": [
       "<Figure size 1200x600 with 2 Axes>"
      ]
     },
     "metadata": {},
     "output_type": "display_data"
    }
   ],
   "source": [
    "fit_model.plot_graph()"
   ]
  },
  {
   "cell_type": "code",
   "execution_count": 21,
   "metadata": {},
   "outputs": [
    {
     "name": "stderr",
     "output_type": "stream",
     "text": [
      "100%|██████████| 608/608 [00:02<00:00, 254.86it/s]\n",
      "100%|██████████| 608/608 [00:02<00:00, 285.54it/s]\n",
      "100%|██████████| 608/608 [00:02<00:00, 299.38it/s]\n",
      "100%|██████████| 608/608 [00:02<00:00, 262.27it/s]\n",
      "100%|██████████| 608/608 [00:02<00:00, 248.51it/s]\n",
      "100%|██████████| 608/608 [00:01<00:00, 308.18it/s]\n",
      "100%|██████████| 608/608 [00:01<00:00, 305.37it/s]\n",
      "100%|██████████| 608/608 [00:02<00:00, 298.20it/s]\n",
      "100%|██████████| 608/608 [00:02<00:00, 239.18it/s]\n",
      "100%|██████████| 608/608 [00:02<00:00, 288.43it/s]\n"
     ]
    }
   ],
   "source": [
    "fit_model.filtering_all_images()"
   ]
  },
  {
   "cell_type": "code",
   "execution_count": 22,
   "metadata": {},
   "outputs": [],
   "source": [
    "def check_without_filtering():\n",
    "    images_names = listdir(p_noised_imgs)\n",
    "    ssim_metric = []\n",
    "    gmsd_metric = []\n",
    "    for name in images_names:\n",
    "        ssim_metric.append(check_ssim(p_noised_imgs, p_img, name))\n",
    "        gmsd_metric.append(check_gmsd(p_noised_imgs, p_img, name))\n",
    "    print(f\"SSIM avg: {sum(ssim_metric) / len(ssim_metric)}\")\n",
    "    print(f\"GMSD avg: {sum(gmsd_metric) / len(gmsd_metric)}\")\n",
    "    \n",
    "        \n",
    "def check_after_filtering():\n",
    "    ssim_metric = []\n",
    "    gmsd_metric = []\n",
    "    images_names = listdir(p_noised_imgs)\n",
    "    for name in images_names:\n",
    "        ssim_metric.append(check_ssim(p_filtered_images, p_img, name))\n",
    "        gmsd_metric.append(check_gmsd(p_filtered_images, p_img, name))\n",
    "    print(f\"SSIM avg: {sum(ssim_metric) / len(ssim_metric)}\")\n",
    "    print(f\"GMSD avg: {sum(gmsd_metric) / len(gmsd_metric)}\")\n",
    "        \n"
   ]
  },
  {
   "cell_type": "code",
   "execution_count": 23,
   "metadata": {},
   "outputs": [
    {
     "name": "stdout",
     "output_type": "stream",
     "text": [
      "SSIM avg: 0.8826396950809832\n",
      "GMSD avg: 0.07269592596550042\n"
     ]
    }
   ],
   "source": [
    "check_after_filtering()"
   ]
  },
  {
   "cell_type": "code",
   "execution_count": 24,
   "metadata": {},
   "outputs": [
    {
     "name": "stdout",
     "output_type": "stream",
     "text": [
      "SSIM avg: 0.49574680960092926\n",
      "GMSD avg: 0.13367842907173574\n"
     ]
    }
   ],
   "source": [
    "check_without_filtering()"
   ]
  },
  {
   "cell_type": "code",
   "execution_count": 25,
   "metadata": {},
   "outputs": [],
   "source": [
    "# p_img = p_raw_image / list_images[2]\n",
    "# img_arr = np.array(ImageOps.grayscale(Image.open(p_img)))\n",
    "# niters = [1, 2, 5, 10, 20]\n",
    "# kappa = [1, 5, 10, 50, 100]\n",
    "# for i in niters:\n",
    "#     for k in kappa:\n",
    "#         img_filtered = anisodiff(img_arr, niter=i, kappa=k)\n",
    "#         img_filtered = img_filtered.astype(np.uint8)\n",
    "#         Image.fromarray(img_filtered).save(f\"{p_img}_I{i}_K{k}.jpg\")"
   ]
  }
 ],
 "metadata": {
  "kernelspec": {
   "display_name": "3.9_venv",
   "language": "python",
   "name": "python3"
  },
  "language_info": {
   "codemirror_mode": {
    "name": "ipython",
    "version": 3
   },
   "file_extension": ".py",
   "mimetype": "text/x-python",
   "name": "python",
   "nbconvert_exporter": "python",
   "pygments_lexer": "ipython3",
   "version": "3.9.13"
  },
  "orig_nbformat": 4,
  "vscode": {
   "interpreter": {
    "hash": "88cdb296fa45150573a7479e53c46514a0e326ba4c5c7ce7e99a342aad6ba12b"
   }
  }
 },
 "nbformat": 4,
 "nbformat_minor": 2
}
