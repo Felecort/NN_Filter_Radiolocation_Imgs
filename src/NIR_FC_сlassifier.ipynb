{
 "cells": [
  {
   "cell_type": "code",
   "execution_count": 29,
   "metadata": {},
   "outputs": [],
   "source": [
    "# Data Handlers\n",
    "import pandas as pd\n",
    "import numpy as np\n",
    "from PIL import Image\n",
    "from PIL import ImageOps\n",
    "\n",
    "# Pytorch\n",
    "import torch\n",
    "import torch.nn as nn  # NN; networks (CNN, RNN, losses)\n",
    "import torch.optim as optim  # Optimizers (Adam, Adadelta, Adagrad)\n",
    "import torch.nn.functional as F\n",
    "import torchvision\n",
    "import torchvision.transforms as transforms\n",
    "from torch.utils.data import DataLoader, Dataset, IterableDataset  # Dataset manager\n",
    "from torch.autograd import Variable\n",
    "from torchvision import datasets\n",
    "from torch.utils.data.sampler import SubsetRandomSampler\n",
    "from torch.nn.functional import one_hot\n",
    "\n",
    "# Other\n",
    "import datetime\n",
    "import os\n",
    "from tqdm import tqdm\n",
    "from pathlib import Path\n",
    "from os import listdir\n",
    "from fastaniso import anisodiff\n",
    "from time import time\n",
    "\n",
    "\n",
    "# Graphics\n",
    "from matplotlib import pyplot as plt\n",
    "import seaborn as sns\n",
    "\n",
    "\n",
    "from skimage.metrics import structural_similarity as ssim\n",
    "from sklearn.preprocessing import OneHotEncoder\n",
    "\n",
    "# Additional modules\n",
    "from dataset_creator import generate_csv\n",
    "from assistive_funcs import filtering_image, check_ssim, check_gmsd, convert_to_grayscale, get_dataset_name\n",
    "from csv_dataloader import get_train_test_big_data, get_train_test_small_data\n",
    "from math import floor"
   ]
  },
  {
   "cell_type": "code",
   "execution_count": 30,
   "metadata": {},
   "outputs": [],
   "source": [
    "# Paths\n",
    "p_main_data = Path(\"../data\")\n",
    "p_models = Path(\"../models\")\n",
    "\n",
    "p_scv_folder = p_main_data / \"csv_files\" # datasets_path\n",
    "p_img = p_main_data / \"images\"\n",
    "\n",
    "p_noised_imgs = p_main_data / \"FC_imgs_with_noise\"\n",
    "\n",
    "p_filtered_images = p_main_data / \"FC_filtered_images\"\n",
    "\n",
    "p_gray_images = p_main_data / \"gray_images\""
   ]
  },
  {
   "cell_type": "code",
   "execution_count": 31,
   "metadata": {},
   "outputs": [
    {
     "data": {
      "text/plain": [
       "device(type='cuda')"
      ]
     },
     "execution_count": 31,
     "metadata": {},
     "output_type": "execute_result"
    }
   ],
   "source": [
    "\n",
    "device = torch.device(\"cuda\" if torch.cuda.is_available() else \"cpu\")\n",
    "# print(f\"{dataset_name = }\\n{device = }\")\n",
    "device"
   ]
  },
  {
   "cell_type": "code",
   "execution_count": 32,
   "metadata": {},
   "outputs": [
    {
     "name": "stdout",
     "output_type": "stream",
     "text": [
      "============================================================= \n",
      "Borders were added, indexes were created. Passed time = 0.35s\n",
      "=============================================================\n",
      "Dataset created.               \n",
      "Total spent time = 5.77s\n",
      "Total samples = 146410\n",
      "Dataset name 'W7_S5_L146410.csv'\n"
     ]
    }
   ],
   "source": [
    "# Dataset\n",
    "win_size = 7\n",
    "step = 5\n",
    "create_dataset = 1\n",
    "if create_dataset:\n",
    "    generate_csv(win_size=win_size, dump_to_file=5000, step=step, force_create_dataset=1, classification=True)"
   ]
  },
  {
   "cell_type": "code",
   "execution_count": 33,
   "metadata": {},
   "outputs": [
    {
     "data": {
      "text/plain": [
       "'classification\\\\W7_S5_L146410.csv'"
      ]
     },
     "execution_count": 33,
     "metadata": {},
     "output_type": "execute_result"
    }
   ],
   "source": [
    "win_size = 7\n",
    "step = 5\n",
    "\n",
    "dataset_name = get_dataset_name(win_size, step, p_scv_folder, classification=True) #r\"W5_S1_L3696640.csv\"\n",
    "dataset_name"
   ]
  },
  {
   "cell_type": "code",
   "execution_count": 34,
   "metadata": {},
   "outputs": [],
   "source": [
    "def check_without_filtering():\n",
    "    images_names = listdir(p_noised_imgs)\n",
    "    ssim_metric = []\n",
    "    gmsd_metric = []\n",
    "    for name in images_names:\n",
    "        ssim_metric.append(check_ssim(p_noised_imgs, p_img, name))\n",
    "        gmsd_metric.append(check_gmsd(p_noised_imgs, p_img, name))\n",
    "    print(f\"SSIM avg: {sum(ssim_metric) / len(ssim_metric)}\")\n",
    "    print(f\"GMSD avg: {sum(gmsd_metric) / len(gmsd_metric)}\")\n",
    "    \n",
    "        \n",
    "def check_after_filtering():\n",
    "    ssim_metric = []\n",
    "    gmsd_metric = []\n",
    "    images_names = listdir(p_noised_imgs)\n",
    "    for name in images_names:\n",
    "        ssim_metric.append(check_ssim(p_filtered_images, p_img, name))\n",
    "        gmsd_metric.append(check_gmsd(p_filtered_images, p_img, name))\n",
    "    print(f\"SSIM avg: {sum(ssim_metric) / len(ssim_metric)}\")\n",
    "    print(f\"GMSD avg: {sum(gmsd_metric) / len(gmsd_metric)}\")\n",
    "        \n"
   ]
  },
  {
   "cell_type": "code",
   "execution_count": 35,
   "metadata": {},
   "outputs": [],
   "source": [
    "# from google.colab import drive\n",
    "# drive.mount('/content/gdrive/')\n",
    "# !unzip -q /content/gdrive/MyDrive/NIR/data/FC_data/W5_S5_L146410.zip\n"
   ]
  },
  {
   "cell_type": "code",
   "execution_count": 36,
   "metadata": {},
   "outputs": [],
   "source": [
    "class FCBlock(nn.Module):\n",
    "    def __init__(self, in_len, out_len, dropout=False) -> None:\n",
    "        super().__init__()\n",
    "        if dropout:\n",
    "            self.fc_block = nn.Sequential(\n",
    "                nn.Linear(in_len, out_len),\n",
    "                nn.Dropout(0.5),\n",
    "                nn.BatchNorm1d(out_len),\n",
    "                nn.ReLU(),\n",
    "            )\n",
    "        else:\n",
    "            self.fc_block = nn.Sequential(\n",
    "                nn.Linear(in_len, out_len),\n",
    "                nn.BatchNorm1d(out_len),\n",
    "                nn.ReLU(),\n",
    "            )\n",
    "    \n",
    "    def forward(self, x):\n",
    "        return self.fc_block(x)"
   ]
  },
  {
   "cell_type": "code",
   "execution_count": 37,
   "metadata": {},
   "outputs": [],
   "source": [
    "class DefaultModel(nn.Module):\n",
    "    def __init__(self, in_len, out_len, DP1=False, DP2=False, DP3=False, DP4=False) -> None:\n",
    "        super().__init__()\n",
    "        double_in_len = in_len * 2\n",
    "        triple_in_len = in_len * 3\n",
    "\n",
    "        self.structure = nn.Sequential(\n",
    "            FCBlock(in_len, in_len),\n",
    "            FCBlock(in_len, double_in_len, dropout=DP1),\n",
    "            FCBlock(double_in_len, triple_in_len, dropout=DP2),\n",
    "            FCBlock(triple_in_len, double_in_len, dropout=DP3),\n",
    "            FCBlock(double_in_len, in_len, dropout=DP4),\n",
    "            nn.Linear(in_len, out_len)\n",
    "        )\n",
    "\n",
    "    def forward(self, x):\n",
    "        x = self.structure(x)\n",
    "        return x"
   ]
  },
  {
   "cell_type": "code",
   "execution_count": 38,
   "metadata": {},
   "outputs": [],
   "source": [
    "class FitModel():\n",
    "    def __init__(self, model, criterion, optimizer, scheduler, p_scv_folder, dataset_name, batch_size, device, num_epoches) -> None:\n",
    "        self.model = model\n",
    "        self.criterion = criterion\n",
    "        self.optimizer = optimizer\n",
    "        self.scheduler = scheduler\n",
    "        self.num_epoches = num_epoches\n",
    "        self.p_scv_folder = p_scv_folder\n",
    "        self.dataset_name = dataset_name\n",
    "        self.batch_size = batch_size\n",
    "        self.train_losses = []\n",
    "        self.valid_losses = []\n",
    "        self.device = device  \n",
    "        \n",
    "        X = [[i] for i in range(0, 256)]\n",
    "        self.enc = OneHotEncoder()\n",
    "        self.enc.fit(X)\n",
    "\n",
    "    def _train(self, current_epoch):\n",
    "        # loop = tqdm(enumerate(self.train_loader, start=1),\n",
    "        #     leave=True,\n",
    "        #     total=len(self.train_loader))\n",
    "        total_loss = []\n",
    "\n",
    "        self.model.train()\n",
    "        # for batch_index, (data, targets) in loop:\n",
    "        for batch_index, (data, targets) in tqdm(enumerate(self.train_loader, start=1)):\n",
    "            data = data.to(device=self.device)\n",
    "            targets = torch.Tensor(self.enc.transform(targets).toarray())\n",
    "            targets = targets.to(device=self.device)\n",
    "\n",
    "            scores = self.model(data)\n",
    "            loss = self.criterion(scores, targets)\n",
    "            loss.backward()\n",
    "            self.optimizer.step()\n",
    "            self.optimizer.zero_grad()\n",
    "            total_loss.append(loss.item())\n",
    "            \n",
    "            # loop.set_description(f\"Train epoch: {current_epoch}\")\n",
    "            # loop.set_postfix(loss=round(np.mean(total_loss[-batch_index:]), 2))\n",
    "\n",
    "        self.train_losses.append(np.mean(total_loss))\n",
    "        \n",
    "    def _valid(self, current_epoch):\n",
    "        # loop = tqdm(enumerate(self.test_loader, start=1),\n",
    "        #     leave=True,\n",
    "        #     total=len(self.test_loader))\n",
    "        total_loss = []\n",
    "\n",
    "        self.model.eval()\n",
    "        with torch.no_grad():\n",
    "            # for batch_index, (data, targets) in loop:\n",
    "            for batch_index, (data, targets) in tqdm(enumerate(self.test_loader, start=1)):\n",
    "                data = data.to(device=self.device)\n",
    "                targets = torch.Tensor(self.enc.transform(targets).toarray())\n",
    "                targets = targets.to(device=self.device)\n",
    "                \n",
    "                # Forward\n",
    "                scores = self.model(data) # Equal to model.forward(data)\n",
    "                loss = self.criterion(scores, targets)\n",
    "                total_loss.append(loss.item())\n",
    "                \n",
    "                # loop.set_description(f\"Valid epoch: {current_epoch}\")\n",
    "                # loop.set_postfix(loss=round(np.mean(total_loss[-batch_index]), 2))\n",
    "            \n",
    "        self.valid_losses.append(np.mean(total_loss))\n",
    "    \n",
    "    def fit(self):\n",
    "        for epoch in range(self.num_epoches):\n",
    "            self.train_loader, self.test_loader = get_train_test_small_data(scv_folder=self.p_scv_folder, dataset_name=self.dataset_name,\n",
    "                                                                      batch_size=self.batch_size, train_size=0.8)\n",
    "            self._train(epoch + 1)\n",
    "            self._valid(epoch + 1)\n",
    "            if self.scheduler is not None:\n",
    "                self.scheduler.step()\n",
    "                \n",
    "    def plot_graph(self):\n",
    "        sns.set()\n",
    "        fig, (ax_train, ax_test) = plt.subplots(nrows=1, ncols=2, figsize=(12, 6))\n",
    "        fig.suptitle('Loss')\n",
    "\n",
    "        ax_train.set_title(\"Train loss\")\n",
    "        ax_test.set_title(\"Valid loss\")\n",
    "\n",
    "        ax_train.set_ylabel('Loss value')\n",
    "        ax_test.set_ylabel('Loss value')\n",
    "\n",
    "        ax_train.set_xlabel(\"Batch\")\n",
    "        ax_test.set_xlabel(\"Batch\")\n",
    "\n",
    "        sns.lineplot(data=self.train_losses, ax=ax_train)\n",
    "        sns.lineplot(data=self.valid_losses, ax=ax_test)\n",
    "\n",
    "        plt.show()\n",
    "    \n",
    "    def filtering_all_images(self):\n",
    "        images_names = listdir(p_noised_imgs)\n",
    "        for name in images_names:\n",
    "            filtering_image(self.model, p_filtered_images, p_noised_imgs, name, win_size, self.device, classification=True)\n"
   ]
  },
  {
   "cell_type": "code",
   "execution_count": 39,
   "metadata": {},
   "outputs": [],
   "source": [
    "# Hyperparameters \n",
    "learning_rate = 0.1\n",
    "num_epoches = 9\n",
    "batch_size = 128\n"
   ]
  },
  {
   "cell_type": "code",
   "execution_count": 40,
   "metadata": {},
   "outputs": [],
   "source": [
    "model = DefaultModel(in_len=(win_size ** 2), out_len=256).to(device=device)\n",
    "criterion = nn.CrossEntropyLoss()\n",
    "optimizer = optim.Adam(model.parameters(), lr=learning_rate)\n",
    "scheduler = optim.lr_scheduler.StepLR(optimizer, step_size=3, gamma=0.2)"
   ]
  },
  {
   "cell_type": "code",
   "execution_count": 41,
   "metadata": {},
   "outputs": [
    {
     "name": "stderr",
     "output_type": "stream",
     "text": [
      "916it [00:08, 107.56it/s]\n",
      "229it [00:01, 199.77it/s]\n",
      "916it [00:08, 103.54it/s]\n",
      "229it [00:00, 302.68it/s]\n",
      "916it [00:08, 103.93it/s]\n",
      "229it [00:00, 285.15it/s]\n",
      "916it [00:08, 106.99it/s]\n",
      "229it [00:00, 322.82it/s]\n",
      "916it [00:08, 114.25it/s]\n",
      "229it [00:00, 313.45it/s]\n",
      "916it [00:09, 96.72it/s] \n",
      "229it [00:00, 301.88it/s]\n",
      "916it [00:08, 108.34it/s]\n",
      "229it [00:00, 246.91it/s]\n",
      "916it [00:08, 114.49it/s]\n",
      "229it [00:00, 269.89it/s]\n",
      "916it [00:07, 115.59it/s]\n",
      "229it [00:00, 321.36it/s]\n"
     ]
    }
   ],
   "source": [
    "fit_model = FitModel(model, criterion, optimizer, scheduler, p_scv_folder, dataset_name, batch_size, device, num_epoches)\n",
    "fit_model.fit()"
   ]
  },
  {
   "cell_type": "code",
   "execution_count": 42,
   "metadata": {},
   "outputs": [
    {
     "data": {
      "image/png": "[encoded data removed]",
      "text/plain": [
       "<Figure size 1200x600 with 2 Axes>"
      ]
     },
     "metadata": {},
     "output_type": "display_data"
    }
   ],
   "source": [
    "fit_model.plot_graph()"
   ]
  },
  {
   "cell_type": "code",
   "execution_count": 43,
   "metadata": {},
   "outputs": [
    {
     "name": "stderr",
     "output_type": "stream",
     "text": [
      "100%|██████████| 608/608 [00:02<00:00, 283.48it/s]\n",
      "100%|██████████| 608/608 [00:02<00:00, 272.19it/s]\n",
      "100%|██████████| 608/608 [00:02<00:00, 268.59it/s]\n",
      "100%|██████████| 608/608 [00:02<00:00, 289.55it/s]\n",
      "100%|██████████| 608/608 [00:02<00:00, 270.26it/s]\n",
      "100%|██████████| 608/608 [00:01<00:00, 311.49it/s]\n",
      "100%|██████████| 608/608 [00:01<00:00, 312.29it/s]\n",
      "100%|██████████| 608/608 [00:02<00:00, 282.82it/s]\n",
      "100%|██████████| 608/608 [00:01<00:00, 309.91it/s]\n",
      "100%|██████████| 608/608 [00:01<00:00, 351.65it/s]\n"
     ]
    }
   ],
   "source": [
    "fit_model.filtering_all_images()"
   ]
  },
  {
   "cell_type": "code",
   "execution_count": 44,
   "metadata": {},
   "outputs": [
    {
     "name": "stdout",
     "output_type": "stream",
     "text": [
      "SSIM avg: 0.8853771213786488\n",
      "GMSD avg: 0.06387438644853231\n"
     ]
    }
   ],
   "source": [
    "check_after_filtering()"
   ]
  },
  {
   "cell_type": "code",
   "execution_count": 45,
   "metadata": {},
   "outputs": [
    {
     "name": "stdout",
     "output_type": "stream",
     "text": [
      "SSIM avg: 0.4955439958035946\n",
      "GMSD avg: 0.13382857989155486\n"
     ]
    }
   ],
   "source": [
    "check_without_filtering()"
   ]
  },
  {
   "cell_type": "code",
   "execution_count": 46,
   "metadata": {},
   "outputs": [],
   "source": [
    "# p_img = p_raw_image / list_images[2]\n",
    "# img_arr = np.array(ImageOps.grayscale(Image.open(p_img)))\n",
    "# niters = [1, 2, 5, 10, 20]\n",
    "# kappa = [1, 5, 10, 50, 100]\n",
    "# for i in niters:\n",
    "#     for k in kappa:\n",
    "#         img_filtered = anisodiff(img_arr, niter=i, kappa=k)\n",
    "#         img_filtered = img_filtered.astype(np.uint8)\n",
    "#         Image.fromarray(img_filtered).save(f\"{p_img}_I{i}_K{k}.jpg\")"
   ]
  }
 ],
 "metadata": {
  "kernelspec": {
   "display_name": "3.9_venv",
   "language": "python",
   "name": "python3"
  },
  "language_info": {
   "codemirror_mode": {
    "name": "ipython",
    "version": 3
   },
   "file_extension": ".py",
   "mimetype": "text/x-python",
   "name": "python",
   "nbconvert_exporter": "python",
   "pygments_lexer": "ipython3",
   "version": "3.9.13"
  },
  "orig_nbformat": 4,
  "vscode": {
   "interpreter": {
    "hash": "88cdb296fa45150573a7479e53c46514a0e326ba4c5c7ce7e99a342aad6ba12b"
   }
  }
 },
 "nbformat": 4,
 "nbformat_minor": 2
}
