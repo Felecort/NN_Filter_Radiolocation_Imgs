{
 "cells": [
  {
   "cell_type": "code",
   "execution_count": 1,
   "metadata": {},
   "outputs": [],
   "source": [
    "# Data Handlers\n",
    "import pandas as pd\n",
    "import numpy as np\n",
    "from PIL import Image\n",
    "from PIL import ImageOps\n",
    "\n",
    "# Pytorch\n",
    "import torch\n",
    "import torch.nn as nn  # NN; networks (CNN, RNN, losses)\n",
    "import torch.optim as optim  # Optimizers (Adam, Adadelta, Adagrad)\n",
    "import torch.nn.functional as F\n",
    "import torchvision\n",
    "import torchvision.transforms as transforms\n",
    "from torch.utils.data import DataLoader, Dataset, IterableDataset  # Dataset manager\n",
    "# from torch.autograd import Variable\n",
    "from torchvision import datasets\n",
    "from torch.utils.data.sampler import SubsetRandomSampler\n",
    "\n",
    "# Other\n",
    "import datetime\n",
    "import os\n",
    "from tqdm import tqdm\n",
    "from pathlib import Path\n",
    "from os import listdir\n",
    "from skimage.metrics import structural_similarity as ssim\n",
    "# from fastaniso import anisodiff\n",
    "# from time import time\n",
    "from IPython.display import clear_output\n",
    "\n",
    "# Graphics\n",
    "from matplotlib import pyplot as plt\n",
    "import seaborn as sns\n",
    "\n",
    "# Additional modules\n",
    "# from dataset_creator import generate_csv\n",
    "# from assistive_funcs import filtering_image, check_ssim, convert_to_grayscale, get_dataset_name\n",
    "# from csv_dataloader import get_train_test_data\n",
    "from math import floor\n"
   ]
  },
  {
   "cell_type": "code",
   "execution_count": 2,
   "metadata": {},
   "outputs": [
    {
     "name": "stdout",
     "output_type": "stream",
     "text": [
      "device = device(type='cuda')\n"
     ]
    }
   ],
   "source": [
    "# Paths\n",
    "p_main_data = Path(\"../data\")\n",
    "p_models = Path(\"../models\")\n",
    "\n",
    "p_scv_folder = p_main_data / \"csv_files\"  # datasets_path\n",
    "p_img = p_main_data / \"images\"\n",
    "\n",
    "p_noised_imgs = p_main_data / \"imgs_with_noise\"\n",
    "\n",
    "p_filtered_images = p_main_data / \"filtered_imgs\"\n",
    "\n",
    "p_gray_images = p_main_data / \"gray_images\"\n",
    "\n",
    "# Dataset\n",
    "win_size = 7\n",
    "_step = 4\n",
    "\n",
    "device = torch.device(\"cuda\" if torch.cuda.is_available() else \"cpu\")\n",
    "print(f\"{device = }\")\n"
   ]
  },
  {
   "cell_type": "code",
   "execution_count": 3,
   "metadata": {},
   "outputs": [],
   "source": [
    "def add_noise(img, scale=0.2707) -> np.array:\n",
    "\n",
    "    # Create noise\n",
    "    size = img.shape\n",
    "    noise = np.random.rayleigh(scale=scale, size=size)\n",
    "    # Add noise\n",
    "    noised_img = img + img * noise\n",
    "    noised_img = np.where(noised_img <= 255, noised_img, 255)\n",
    "    return torch.Tensor(noised_img)\n"
   ]
  },
  {
   "cell_type": "code",
   "execution_count": 4,
   "metadata": {},
   "outputs": [],
   "source": [
    "def load_data(w, h, test_size=0.2, batch_size=32):\n",
    "\n",
    "    transform = transforms.Compose([\n",
    "        transforms.Resize(size=(w, h)),\n",
    "        transforms.Grayscale(num_output_channels=1),\n",
    "        transforms.ToTensor()\n",
    "    ])\n",
    "\n",
    "    Data = datasets.ImageFolder(p_main_data / \"images_for_cnn\", transform=transform)\n",
    "\n",
    "    num_data = len(Data)\n",
    "    indices_data = list(range(num_data))\n",
    "    np.random.shuffle(indices_data)\n",
    "    split_tt = int(np.floor(test_size * num_data))\n",
    "    train_idx, test_idx = indices_data[split_tt:], indices_data[:split_tt]\n",
    "\n",
    "    # define samplers for obtaining training and validation batches\n",
    "    train_sampler = SubsetRandomSampler(train_idx)\n",
    "    test_sampler = SubsetRandomSampler(test_idx)\n",
    "\n",
    "    trainloader = torch.utils.data.DataLoader(\n",
    "        Data, sampler=train_sampler, batch_size=batch_size)  # num_workers=4\n",
    "    testloader = torch.utils.data.DataLoader(\n",
    "        Data, sampler=test_sampler,  batch_size=batch_size)  # num_workers=4\n",
    "\n",
    "    return trainloader, testloader\n"
   ]
  },
  {
   "cell_type": "code",
   "execution_count": 5,
   "metadata": {},
   "outputs": [],
   "source": [
    "class Autoenc(nn.Module):\n",
    "    def __init__(self, *, num_filter=64, num_channel=1, kernel_size=5, padding=1):\n",
    "        super().__init__()\n",
    "        self.encoder = nn.Sequential(\n",
    "            nn.Conv2d(1, num_filter, kernel_size, padding),\n",
    "            nn.ReLU(),\n",
    "            nn.MaxPool2d(2),\n",
    "            nn.Conv2d(num_filter, num_filter, kernel_size, padding)\n",
    "        )\n",
    "\n",
    "        self.decoder = nn.Sequential(\n",
    "            nn.Conv2d(num_filter, 1, kernel_size, padding),\n",
    "            nn.Sigmoid()\n",
    "        )\n",
    "\n",
    "    def forward(self, x):\n",
    "        encoded = self.encoder(x)\n",
    "        decoded = nn.functional.interpolate(encoded, scale_factor=2)\n",
    "        return self.decoder(decoded)\n"
   ]
  },
  {
   "cell_type": "code",
   "execution_count": 6,
   "metadata": {},
   "outputs": [],
   "source": [
    "def test_train_loop(model, loaders: dict, epochs=3):\n",
    "    criterion = nn.MSELoss()\n",
    "    optimizer = optim.Adam(model.parameters())\n",
    "    accuracy = {\"train\": [], \"test\": []}\n",
    "    for epoch in tqdm(range(epochs)):\n",
    "        for stage, dataloader in loaders.items():\n",
    "            for x_batch, y_batch in dataloader:\n",
    "                x_batch = x_batch.to(device)\n",
    "                y_batch = y_batch.to(device).to(torch.float32)\n",
    "\n",
    "                if stage == \"train\":\n",
    "                    model.train()\n",
    "                    optimizer.zero_grad()\n",
    "                    output = model(x_batch)\n",
    "\n",
    "                    loss = criterion(output, y_batch)\n",
    "                    loss.backward()\n",
    "                    optimizer.step()\n",
    "\n",
    "                    accuracy[stage].append(loss)\n",
    "\n",
    "                else:\n",
    "                    model.eval()\n",
    "                    with torch.no_grad():\n",
    "                        output = model(x_batch)\n",
    "                        loss = criterion(output, y_batch)\n",
    "                        accuracy[stage].append(loss)\n"
   ]
  },
  {
   "cell_type": "code",
   "execution_count": 7,
   "metadata": {},
   "outputs": [
    {
     "name": "stderr",
     "output_type": "stream",
     "text": [
      "  0%|          | 0/3 [00:00<?, ?it/s]d:\\Projects\\PythonProjects\\_venvs\\ml_venv_p39\\lib\\site-packages\\torch\\nn\\modules\\loss.py:530: UserWarning: Using a target size (torch.Size([1])) that is different to the input size (torch.Size([1, 1, 592, 592])). This will likely lead to incorrect results due to broadcasting. Please ensure they have the same size.\n",
      "  return F.mse_loss(input, target, reduction=self.reduction)\n",
      "100%|██████████| 3/3 [00:18<00:00,  6.17s/it]\n"
     ]
    }
   ],
   "source": [
    "w, h = 608, 608\n",
    "batch_size = 1\n",
    "test_size = 0.2\n",
    "EPOCHS = 3\n",
    "\n",
    "num_filter = 128\n",
    "\n",
    "trainloader, testloader = load_data(w, h, test_size=test_size, batch_size=batch_size)\n",
    "\n",
    "loaders = {\"train\": trainloader, \"test\": testloader}\n",
    "model = Autoenc(num_filter=128).to(device)\n",
    "test_train_loop(model, loaders, EPOCHS)"
   ]
  },
  {
   "cell_type": "code",
   "execution_count": null,
   "metadata": {},
   "outputs": [],
   "source": []
  }
 ],
 "metadata": {
  "kernelspec": {
   "display_name": "Python 3.9.13 ('ml_venv_p39')",
   "language": "python",
   "name": "python3"
  },
  "language_info": {
   "codemirror_mode": {
    "name": "ipython",
    "version": 3
   },
   "file_extension": ".py",
   "mimetype": "text/x-python",
   "name": "python",
   "nbconvert_exporter": "python",
   "pygments_lexer": "ipython3",
   "version": "3.9.13"
  },
  "orig_nbformat": 4,
  "vscode": {
   "interpreter": {
    "hash": "4768d2f058c14b479e138ff57b58bdd686493c6bb5dedc1b4ea8047c7aed7072"
   }
  }
 },
 "nbformat": 4,
 "nbformat_minor": 2
}
