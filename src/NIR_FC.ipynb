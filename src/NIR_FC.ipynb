{
 "cells": [
  {
   "cell_type": "code",
   "execution_count": 6,
   "metadata": {},
   "outputs": [],
   "source": [
    "# Data Handlers\n",
    "import pandas as pd\n",
    "import numpy as np\n",
    "from PIL import Image\n",
    "from PIL import ImageOps\n",
    "\n",
    "# Pytorch\n",
    "import torch\n",
    "import torch.nn as nn  # NN; networks (CNN, RNN, losses)\n",
    "import torch.optim as optim  # Optimizers (Adam, Adadelta, Adagrad)\n",
    "import torch.nn.functional as F\n",
    "import torchvision\n",
    "import torchvision.transforms as transforms\n",
    "from torch.utils.data import DataLoader, Dataset, IterableDataset  # Dataset manager\n",
    "from torch.autograd import Variable\n",
    "from torchvision import datasets\n",
    "from torch.utils.data.sampler import SubsetRandomSampler\n",
    "\n",
    "# Other\n",
    "import datetime\n",
    "import os\n",
    "from tqdm import tqdm\n",
    "from pathlib import Path\n",
    "from os import listdir\n",
    "from fastaniso import anisodiff\n",
    "from time import time\n",
    "\n",
    "\n",
    "# Graphics\n",
    "from matplotlib import pyplot as plt\n",
    "import seaborn as sns\n",
    "from skimage.metrics import structural_similarity as ssim\n",
    "\n",
    "\n",
    "# Additional modules\n",
    "from dataset_creator import generate_csv\n",
    "from assistive_funcs import filtering_image, check_ssim, check_gmsd, convert_to_grayscale, get_dataset_name\n",
    "from csv_dataloader import get_train_test_data\n",
    "from math import floor"
   ]
  },
  {
   "cell_type": "code",
   "execution_count": 7,
   "metadata": {},
   "outputs": [],
   "source": [
    "# Paths\n",
    "p_main_data = Path(\"../data\")\n",
    "p_models = Path(\"../models\")\n",
    "\n",
    "p_scv_folder = p_main_data / \"csv_files\" # datasets_path\n",
    "p_img = p_main_data / \"images\"\n",
    "\n",
    "p_noised_imgs = p_main_data / \"FC_imgs_with_noise\"\n",
    "\n",
    "p_filtered_images = p_main_data / \"FC_filtered_images\"\n",
    "\n",
    "p_gray_images = p_main_data / \"gray_images\""
   ]
  },
  {
   "cell_type": "code",
   "execution_count": 8,
   "metadata": {},
   "outputs": [
    {
     "data": {
      "text/plain": [
       "device(type='cuda')"
      ]
     },
     "execution_count": 8,
     "metadata": {},
     "output_type": "execute_result"
    }
   ],
   "source": [
    "\n",
    "device = torch.device(\"cuda\" if torch.cuda.is_available() else \"cpu\")\n",
    "# print(f\"{dataset_name = }\\n{device = }\")\n",
    "device"
   ]
  },
  {
   "cell_type": "code",
   "execution_count": 9,
   "metadata": {},
   "outputs": [
    {
     "name": "stdout",
     "output_type": "stream",
     "text": [
      "============================================================= \n",
      "Borders were added, indexes were created. Passed time = 0.90s\n",
      "=============================================================\n",
      "Dataset created.               \n",
      "Total spent time = 34.21s\n",
      "Total samples = 408040\n",
      "Dataset name 'W7_S3_L408040.csv'\n"
     ]
    }
   ],
   "source": [
    "# Dataset\n",
    "win_size = 7\n",
    "step = 3\n",
    "create_dataset = 1\n",
    "if create_dataset:\n",
    "    generate_csv(win_size=win_size, dump_to_file=5000, step=step, force_create_dataset=1)"
   ]
  },
  {
   "cell_type": "code",
   "execution_count": 10,
   "metadata": {},
   "outputs": [
    {
     "data": {
      "text/plain": [
       "'W7_S3_L408040.csv'"
      ]
     },
     "execution_count": 10,
     "metadata": {},
     "output_type": "execute_result"
    }
   ],
   "source": [
    "win_size = 7\n",
    "step = 3\n",
    "\n",
    "dataset_name = get_dataset_name(win_size, step, p_scv_folder) #r\"W5_S1_L3696640.csv\"\n",
    "dataset_name"
   ]
  },
  {
   "cell_type": "code",
   "execution_count": 11,
   "metadata": {},
   "outputs": [],
   "source": [
    "# from google.colab import drive\n",
    "# drive.mount('/content/gdrive/')\n",
    "# !unzip -q /content/gdrive/MyDrive/NIR/data/FC_data/W5_S5_L146410.zip"
   ]
  },
  {
   "cell_type": "code",
   "execution_count": 12,
   "metadata": {},
   "outputs": [],
   "source": [
    "class DefaultModel(nn.Module):\n",
    "    def __init__(self, in_len, out_len) -> None:\n",
    "        super().__init__()\n",
    "        self.in_len = in_len\n",
    "        self.out_len = out_len\n",
    "        self.hid_n = 20\n",
    "        \n",
    "        self.fcs = nn.Sequential(\n",
    "            nn.Linear(self.in_len, self.in_len),\n",
    "            nn.BatchNorm1d(self.in_len),\n",
    "            nn.ReLU(),\n",
    "            nn.Linear(self.in_len, self.hid_n * 2),\n",
    "            nn.BatchNorm1d(self.hid_n * 2),\n",
    "            nn.ReLU(),\n",
    "            nn.Linear(self.hid_n * 2, self.hid_n * 2),\n",
    "            nn.BatchNorm1d(self.hid_n * 2),\n",
    "            nn.ReLU(),\n",
    "            nn.Linear(self.hid_n * 2, self.hid_n),\n",
    "            nn.BatchNorm1d(self.hid_n),\n",
    "            nn.ReLU(),\n",
    "            nn.Linear(self.hid_n, self.out_len),\n",
    "        )\n",
    "\n",
    "    def forward(self, x):\n",
    "        x = self.fcs(x)\n",
    "        return x"
   ]
  },
  {
   "cell_type": "code",
   "execution_count": 13,
   "metadata": {},
   "outputs": [],
   "source": [
    "# Hyperparameters \n",
    "learning_rate = 0.01\n",
    "num_epoches = 9\n",
    "batch_size = 128\n"
   ]
  },
  {
   "cell_type": "code",
   "execution_count": 14,
   "metadata": {},
   "outputs": [],
   "source": [
    "model = DefaultModel(in_len=(win_size ** 2), out_len=1).to(device=device)\n",
    "criterion = nn.MSELoss()\n",
    "optimizer = optim.Adam(model.parameters(), lr=learning_rate)\n",
    "scheduler = optim.lr_scheduler.StepLR(optimizer, step_size=3, gamma=0.1)"
   ]
  },
  {
   "cell_type": "code",
   "execution_count": 15,
   "metadata": {},
   "outputs": [
    {
     "name": "stderr",
     "output_type": "stream",
     "text": [
      "2550it [00:38, 67.07it/s]\n",
      "638it [00:06, 100.32it/s]\n",
      "2550it [00:36, 69.64it/s]\n",
      "638it [00:06, 100.02it/s]\n",
      "2550it [00:38, 66.45it/s]\n",
      "638it [00:06, 96.24it/s] \n",
      "2550it [00:38, 65.73it/s]\n",
      "638it [00:06, 91.87it/s]\n",
      "2550it [00:37, 67.15it/s]\n",
      "638it [00:06, 91.84it/s]\n",
      "2550it [00:38, 65.86it/s]\n",
      "638it [00:06, 93.42it/s]\n",
      "2550it [00:39, 65.13it/s]\n",
      "638it [00:06, 97.00it/s]\n",
      "2550it [00:37, 68.85it/s]\n",
      "638it [00:06, 104.00it/s]\n",
      "2550it [00:36, 69.69it/s]\n",
      "638it [00:06, 95.01it/s]\n"
     ]
    }
   ],
   "source": [
    "losses = []\n",
    "losses_append = losses.append\n",
    "\n",
    "valid_losses = []\n",
    "valid_losses_append = valid_losses.append\n",
    "\n",
    "for epoch in range(num_epoches):\n",
    "    model.train()\n",
    "    train_loader, test_loader = get_train_test_data(scv_folder=p_scv_folder, dataset_name=dataset_name, batch_size=batch_size, train_size=0.8)\n",
    "    for batch_ind, (data, targets) in tqdm(enumerate(train_loader)):\n",
    "        # Data on cuda\n",
    "        data = data.to(device=device)\n",
    "        targets = targets.to(device=device)\n",
    "        \n",
    "        # Forward\n",
    "        scores = model(data) # Equal to model.forward(data)\n",
    "        loss = criterion(scores, targets)\n",
    "        if batch_ind % 3 == 0:\n",
    "            losses_append(loss.item())\n",
    "        # Backprop\n",
    "        loss.backward()\n",
    "\n",
    "        # Gradient descent or adam step\n",
    "        optimizer.step()\n",
    "        optimizer.zero_grad()\n",
    "    scheduler.step()\n",
    "    model.eval()\n",
    "    with torch.no_grad():\n",
    "        for batch_ind, (data, targets) in tqdm(enumerate(test_loader)):\n",
    "            data = data.to(device=device)\n",
    "            targets = targets.to(device=device)\n",
    "            \n",
    "            # Forward\n",
    "            scores = model(data) # Equal to model.forward(data)\n",
    "            loss = criterion(scores, targets)\n",
    "            valid_losses_append(loss.item())"
   ]
  },
  {
   "cell_type": "code",
   "execution_count": 16,
   "metadata": {},
   "outputs": [
    {
     "data": {
      "image/png": "[encoded data removed]",
      "text/plain": [
       "<Figure size 1200x600 with 2 Axes>"
      ]
     },
     "metadata": {},
     "output_type": "display_data"
    }
   ],
   "source": [
    "sns.set()\n",
    "fig, (ax_train, ax_test) = plt.subplots(nrows=1, ncols=2, figsize=(12, 6))\n",
    "fig.suptitle('Loss')\n",
    "\n",
    "ax_train.set_title(\"Train loss\")\n",
    "ax_test.set_title(\"Test loss\")\n",
    "\n",
    "ax_train.set_ylabel('Loss value')\n",
    "ax_test.set_ylabel('Loss value')\n",
    "\n",
    "ax_train.set_xlabel(\"k * Batch\")\n",
    "ax_test.set_xlabel(\"k * Batch\")\n",
    "\n",
    "sns.lineplot(data=losses, ax=ax_train)\n",
    "sns.lineplot(data=valid_losses, ax=ax_test)\n",
    "\n",
    "plt.show()"
   ]
  },
  {
   "cell_type": "code",
   "execution_count": 17,
   "metadata": {},
   "outputs": [
    {
     "name": "stderr",
     "output_type": "stream",
     "text": [
      "100%|██████████| 608/608 [00:01<00:00, 334.88it/s]\n",
      "100%|██████████| 608/608 [00:01<00:00, 392.35it/s]\n",
      "100%|██████████| 608/608 [00:01<00:00, 405.93it/s]\n",
      "100%|██████████| 608/608 [00:01<00:00, 363.89it/s]\n",
      "100%|██████████| 608/608 [00:01<00:00, 376.27it/s]\n",
      "100%|██████████| 608/608 [00:01<00:00, 384.81it/s]\n",
      "100%|██████████| 608/608 [00:01<00:00, 412.48it/s]\n",
      "100%|██████████| 608/608 [00:01<00:00, 413.63it/s]\n",
      "100%|██████████| 608/608 [00:01<00:00, 416.77it/s]\n",
      "100%|██████████| 608/608 [00:01<00:00, 402.57it/s]\n"
     ]
    }
   ],
   "source": [
    "list_images = listdir(p_noised_imgs)\n",
    "for img_name in list_images:\n",
    "    filtering_image(model, p_filtered_images, p_noised_imgs, img_name, win_size, device)"
   ]
  },
  {
   "cell_type": "code",
   "execution_count": 18,
   "metadata": {},
   "outputs": [
    {
     "name": "stdout",
     "output_type": "stream",
     "text": [
      "1.jpg, SSIM = 0.888\n",
      "10.jpg, SSIM = 0.898\n",
      "2.jpg, SSIM = 0.903\n",
      "3.jpg, SSIM = 0.878\n",
      "4.jpg, SSIM = 0.895\n",
      "5.jpg, SSIM = 0.858\n",
      "6.jpg, SSIM = 0.904\n",
      "7.jpg, SSIM = 0.933\n",
      "8.jpg, SSIM = 0.898\n",
      "9.jpg, SSIM = 0.878\n"
     ]
    }
   ],
   "source": [
    "images_names = listdir(p_noised_imgs)\n",
    "for name in images_names:\n",
    "    check_ssim(p_filtered_images, p_gray_images, name)"
   ]
  },
  {
   "cell_type": "code",
   "execution_count": 19,
   "metadata": {},
   "outputs": [
    {
     "name": "stdout",
     "output_type": "stream",
     "text": [
      "1.jpg, GMSD = 0.044\n",
      "10.jpg, GMSD = 0.063\n",
      "2.jpg, GMSD = 0.040\n",
      "3.jpg, GMSD = 0.062\n",
      "4.jpg, GMSD = 0.053\n",
      "5.jpg, GMSD = 0.060\n",
      "6.jpg, GMSD = 0.037\n",
      "7.jpg, GMSD = 0.052\n",
      "8.jpg, GMSD = 0.043\n",
      "9.jpg, GMSD = 0.069\n"
     ]
    }
   ],
   "source": [
    "images_names = listdir(p_noised_imgs)\n",
    "for name in images_names:\n",
    "    check_gmsd(p_filtered_images, p_gray_images, name)"
   ]
  },
  {
   "cell_type": "code",
   "execution_count": null,
   "metadata": {},
   "outputs": [],
   "source": [
    "# p_img = p_raw_image / list_images[2]\n",
    "# img_arr = np.array(ImageOps.grayscale(Image.open(p_img)))\n",
    "# niters = [1, 2, 5, 10, 20]\n",
    "# kappa = [1, 5, 10, 50, 100]\n",
    "# for i in niters:\n",
    "#     for k in kappa:\n",
    "#         img_filtered = anisodiff(img_arr, niter=i, kappa=k)\n",
    "#         img_filtered = img_filtered.astype(np.uint8)\n",
    "#         Image.fromarray(img_filtered).save(f\"{p_img}_I{i}_K{k}.jpg\")"
   ]
  }
 ],
 "metadata": {
  "kernelspec": {
   "display_name": "3.9_venv",
   "language": "python",
   "name": "python3"
  },
  "language_info": {
   "codemirror_mode": {
    "name": "ipython",
    "version": 3
   },
   "file_extension": ".py",
   "mimetype": "text/x-python",
   "name": "python",
   "nbconvert_exporter": "python",
   "pygments_lexer": "ipython3",
   "version": "3.9.13"
  },
  "orig_nbformat": 4,
  "vscode": {
   "interpreter": {
    "hash": "88cdb296fa45150573a7479e53c46514a0e326ba4c5c7ce7e99a342aad6ba12b"
   }
  }
 },
 "nbformat": 4,
 "nbformat_minor": 2
}
