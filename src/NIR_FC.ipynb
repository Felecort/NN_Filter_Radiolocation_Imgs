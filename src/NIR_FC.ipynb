{
 "cells": [
  {
   "cell_type": "code",
   "execution_count": 36,
   "metadata": {},
   "outputs": [],
   "source": [
    "# Data Handlers\n",
    "import pandas as pd\n",
    "import numpy as np\n",
    "from PIL import Image\n",
    "from PIL import ImageOps\n",
    "\n",
    "# Pytorch\n",
    "import torch\n",
    "import torch.nn as nn  # NN; networks (CNN, RNN, losses)\n",
    "import torch.optim as optim  # Optimizers (Adam, Adadelta, Adagrad)\n",
    "import torch.nn.functional as F\n",
    "import torchvision\n",
    "import torchvision.transforms as transforms\n",
    "from torch.utils.data import DataLoader, Dataset, IterableDataset  # Dataset manager\n",
    "from torch.autograd import Variable\n",
    "from torchvision import datasets\n",
    "from torch.utils.data.sampler import SubsetRandomSampler\n",
    "\n",
    "# Other\n",
    "import datetime\n",
    "import os\n",
    "from tqdm import tqdm\n",
    "from pathlib import Path\n",
    "from os import listdir\n",
    "from fastaniso import anisodiff\n",
    "from time import time\n",
    "\n",
    "\n",
    "# Graphics\n",
    "from matplotlib import pyplot as plt\n",
    "import seaborn as sns\n",
    "from skimage.metrics import structural_similarity as ssim\n",
    "\n",
    "\n",
    "# Additional modules\n",
    "from dataset_creator import generate_csv\n",
    "from assistive_funcs import filtering_image, check_ssim, check_gmsd, convert_to_grayscale, get_dataset_name\n",
    "from csv_dataloader import get_train_test_big_data, get_train_test_small_data\n",
    "from math import floor"
   ]
  },
  {
   "cell_type": "code",
   "execution_count": 37,
   "metadata": {},
   "outputs": [],
   "source": [
    "# Paths\n",
    "p_main_data = Path(\"../data\")\n",
    "p_models = Path(\"../models\")\n",
    "\n",
    "p_scv_folder = p_main_data / \"csv_files\" # datasets_path\n",
    "p_img = p_main_data / \"images\"\n",
    "\n",
    "p_noised_imgs = p_main_data / \"FC_imgs_with_noise\"\n",
    "\n",
    "p_filtered_images = p_main_data / \"FC_filtered_images\"\n",
    "\n",
    "p_gray_images = p_main_data / \"gray_images\""
   ]
  },
  {
   "cell_type": "code",
   "execution_count": 38,
   "metadata": {},
   "outputs": [
    {
     "data": {
      "text/plain": [
       "device(type='cuda')"
      ]
     },
     "execution_count": 38,
     "metadata": {},
     "output_type": "execute_result"
    }
   ],
   "source": [
    "\n",
    "device = torch.device(\"cuda\" if torch.cuda.is_available() else \"cpu\")\n",
    "# print(f\"{dataset_name = }\\n{device = }\")\n",
    "device"
   ]
  },
  {
   "cell_type": "code",
   "execution_count": 39,
   "metadata": {},
   "outputs": [],
   "source": [
    "# Dataset\n",
    "win_size = 7\n",
    "step = 5\n",
    "create_dataset = 0\n",
    "if create_dataset:\n",
    "    generate_csv(win_size=win_size, dump_to_file=5000, step=step, force_create_dataset=1)"
   ]
  },
  {
   "cell_type": "code",
   "execution_count": 40,
   "metadata": {},
   "outputs": [
    {
     "data": {
      "text/plain": [
       "'W7_S5_L146410.csv'"
      ]
     },
     "execution_count": 40,
     "metadata": {},
     "output_type": "execute_result"
    }
   ],
   "source": [
    "win_size = 7\n",
    "step = 5\n",
    "\n",
    "dataset_name = get_dataset_name(win_size, step, p_scv_folder) #r\"W5_S1_L3696640.csv\"\n",
    "dataset_name"
   ]
  },
  {
   "cell_type": "code",
   "execution_count": 41,
   "metadata": {},
   "outputs": [],
   "source": [
    "# from google.colab import drive\n",
    "# drive.mount('/content/gdrive/')\n",
    "# !unzip -q /content/gdrive/MyDrive/NIR/data/FC_data/W5_S5_L146410.zip\n"
   ]
  },
  {
   "cell_type": "code",
   "execution_count": 42,
   "metadata": {},
   "outputs": [],
   "source": [
    "\n",
    "class DefaultModel(nn.Module):\n",
    "    def __init__(self, in_len, out_len) -> None:\n",
    "        super().__init__()\n",
    "        self.in_len = in_len\n",
    "        self.out_len = out_len\n",
    "        # self.hid_n = 40\n",
    "        \n",
    "        self.fcs = nn.Sequential(\n",
    "            nn.Linear(self.in_len, self.in_len),\n",
    "            nn.BatchNorm1d(self.in_len),\n",
    "            nn.ReLU(),\n",
    "            nn.Linear(self.in_len, self.in_len * 2),\n",
    "            nn.Dropout(0.5),\n",
    "            nn.BatchNorm1d(self.in_len * 2),\n",
    "            nn.ReLU(),\n",
    "            nn.Linear(self.in_len * 2, self.in_len * 3),\n",
    "            nn.Dropout(0.5),\n",
    "            nn.BatchNorm1d(self.in_len * 3),\n",
    "            nn.ReLU(),\n",
    "            nn.Linear(self.in_len * 3, self.in_len * 3),\n",
    "            nn.Dropout(0.5),\n",
    "            nn.BatchNorm1d(self.in_len * 3),\n",
    "            nn.ReLU(),\n",
    "            nn.Linear(self.in_len * 3, self.in_len * 3),\n",
    "            nn.Dropout(0.5),\n",
    "            nn.BatchNorm1d(self.in_len * 3),\n",
    "            nn.ReLU(),\n",
    "            nn.Linear(self.in_len * 3, self.in_len),\n",
    "            nn.Dropout(0.5),\n",
    "            nn.BatchNorm1d(self.in_len),\n",
    "            nn.ReLU(),\n",
    "            nn.Linear(self.in_len, self.out_len),\n",
    "        )\n",
    "\n",
    "    def forward(self, x):\n",
    "        x = self.fcs(x)\n",
    "        return x"
   ]
  },
  {
   "cell_type": "code",
   "execution_count": 43,
   "metadata": {},
   "outputs": [],
   "source": [
    "# losses = []\n",
    "# losses_append = losses.append\n",
    "\n",
    "# valid_losses = []\n",
    "# valid_losses_append = valid_losses.append\n",
    "\n",
    "# for epoch in range(num_epoches):\n",
    "#     model.train()\n",
    "#     train_loader, test_loader = get_train_test_data(scv_folder=p_scv_folder, dataset_name=dataset_name, batch_size=batch_size, train_size=0.8)\n",
    "#     for batch_ind, (data, targets) in tqdm(enumerate(train_loader)):\n",
    "#         # Data on cuda\n",
    "#         data = data.to(device=device)\n",
    "#         targets = targets.to(device=device)\n",
    "        \n",
    "#         # Forward\n",
    "#         scores = model(data) # Equal to model.forward(data)\n",
    "#         loss = criterion(scores, targets)\n",
    "\n",
    "#         # Backprop\n",
    "#         loss.backward()\n",
    "\n",
    "#         # Gradient descent or adam step\n",
    "#         optimizer.step()\n",
    "#         optimizer.zero_grad()\n",
    "        \n",
    "#         if batch_ind % 3 == 0:\n",
    "#             losses_append(loss.item())\n",
    "#     scheduler.step()\n",
    "#     model.eval()\n",
    "#     with torch.no_grad():\n",
    "#         for batch_ind, (data, targets) in tqdm(enumerate(test_loader)):\n",
    "#             data = data.to(device=device)\n",
    "#             targets = targets.to(device=device)\n",
    "            \n",
    "#             # Forward\n",
    "#             scores = model(data) # Equal to model.forward(data)\n",
    "#             loss = criterion(scores, targets)\n",
    "#             valid_losses_append(loss.item())"
   ]
  },
  {
   "cell_type": "code",
   "execution_count": 44,
   "metadata": {},
   "outputs": [],
   "source": [
    "class FitModel():\n",
    "    def __init__(self, model, criterion, optimizer, scheduler, p_scv_folder, dataset_name, batch_size, device, num_epoches) -> None:\n",
    "        self.model = model\n",
    "        self.criterion = criterion\n",
    "        self.optimizer = optimizer\n",
    "        self.scheduler = scheduler\n",
    "        self.num_epoches = num_epoches\n",
    "        self.p_scv_folder = p_scv_folder\n",
    "        self.dataset_name = dataset_name\n",
    "        self.batch_size = batch_size\n",
    "        self.train_losses = []\n",
    "        self.valid_losses = []\n",
    "        self.device = device\n",
    "\n",
    "# loop = tqdm(enumerate(self.val_loader, start=1),\n",
    "#                     leave=True,\n",
    "#                     total=len(self.val_loader))\n",
    "\n",
    "#                 loop.set_description(f\"Valid epoch: {current_epoch}\")\n",
    "#                 loop.set_postfix(loss=round(loss.item(), 2))\n",
    "\n",
    "\n",
    "    def _train(self, current_epoch):\n",
    "        self.model.train()\n",
    "        total_loss = 0\n",
    "        for batch_index, (data, targets) in tqdm(enumerate(self.train_loader, start=1)):\n",
    "            data = data.to(device=self.device)\n",
    "            targets = targets.to(device=self.device)\n",
    "            scores = self.model(data)\n",
    "            loss = self.criterion(scores, targets)\n",
    "            loss.backward()\n",
    "            self.optimizer.step()\n",
    "            self.optimizer.zero_grad()\n",
    "            total_loss += loss.item()\n",
    "        self.train_losses.append(total_loss / batch_index)\n",
    "        \n",
    "    def _valid(self, current_epoch):\n",
    "        total_loss = 0\n",
    "        self.model.eval()\n",
    "        with torch.no_grad():\n",
    "            for batch_index, (data, targets) in tqdm(enumerate(self.test_loader, start=1)):\n",
    "                data = data.to(device=self.device)\n",
    "                targets = targets.to(device=self.device)\n",
    "                \n",
    "                # Forward\n",
    "                scores = self.model(data) # Equal to model.forward(data)\n",
    "                loss = self.criterion(scores, targets)\n",
    "                total_loss += loss.item()\n",
    "        self.valid_losses.append(total_loss / batch_index)\n",
    "    \n",
    "    def fit(self):\n",
    "        for epoch in range(self.num_epoches):\n",
    "            self.train_loader, self.test_loader = get_train_test_small_data(scv_folder=self.p_scv_folder, dataset_name=self.dataset_name,\n",
    "                                                                      batch_size=self.batch_size, train_size=0.8)\n",
    "            self._train(epoch)\n",
    "            self._valid(epoch)\n",
    "            if self.scheduler is not None:\n",
    "                self.scheduler.step()\n",
    "                \n",
    "    def plot_graph(self):\n",
    "        sns.set()\n",
    "        fig, (ax_train, ax_test) = plt.subplots(nrows=1, ncols=2, figsize=(12, 6))\n",
    "        fig.suptitle('Loss')\n",
    "\n",
    "        ax_train.set_title(\"Train loss\")\n",
    "        ax_test.set_title(\"Valid loss\")\n",
    "\n",
    "        ax_train.set_ylabel('Loss value')\n",
    "        ax_test.set_ylabel('Loss value')\n",
    "\n",
    "        ax_train.set_xlabel(\"Batch\")\n",
    "        ax_test.set_xlabel(\"Batch\")\n",
    "\n",
    "        sns.lineplot(data=self.train_losses, ax=ax_train)\n",
    "        sns.lineplot(data=self.valid_losses, ax=ax_test)\n",
    "\n",
    "        plt.show()\n"
   ]
  },
  {
   "cell_type": "code",
   "execution_count": 45,
   "metadata": {},
   "outputs": [],
   "source": [
    "# Hyperparameters \n",
    "learning_rate = 0.1\n",
    "num_epoches = 12\n",
    "batch_size = 128\n",
    "\n",
    "model = DefaultModel(in_len=(win_size ** 2), out_len=1).to(device=device)\n",
    "criterion = nn.MSELoss()\n",
    "optimizer = optim.Adam(model.parameters(), lr=learning_rate)\n",
    "scheduler = optim.lr_scheduler.StepLR(optimizer, step_size=2, gamma=0.1)"
   ]
  },
  {
   "cell_type": "code",
   "execution_count": 46,
   "metadata": {},
   "outputs": [
    {
     "name": "stderr",
     "output_type": "stream",
     "text": [
      "916it [00:07, 118.72it/s]\n",
      "229it [00:00, 479.35it/s]\n",
      "916it [00:07, 121.83it/s]\n",
      "229it [00:00, 474.37it/s]\n",
      "916it [00:07, 117.77it/s]\n",
      "229it [00:00, 470.50it/s]\n",
      "916it [00:07, 121.88it/s]\n",
      "229it [00:00, 457.35it/s]\n",
      "916it [00:07, 119.71it/s]\n",
      "229it [00:00, 465.71it/s]\n",
      "916it [00:07, 118.92it/s]\n",
      "229it [00:00, 458.26it/s]\n",
      "916it [00:07, 119.85it/s]\n",
      "229it [00:00, 466.66it/s]\n",
      "916it [00:07, 122.37it/s]\n",
      "229it [00:00, 469.53it/s]\n",
      "916it [00:07, 121.49it/s]\n",
      "229it [00:00, 470.50it/s]\n",
      "916it [00:07, 123.02it/s]\n",
      "229it [00:00, 401.98it/s]\n",
      "916it [00:07, 122.50it/s]\n",
      "229it [00:00, 473.41it/s]\n",
      "916it [00:07, 121.55it/s]\n",
      "229it [00:00, 468.57it/s]\n"
     ]
    }
   ],
   "source": [
    "fit_model = FitModel(model, criterion, optimizer, scheduler, p_scv_folder, dataset_name, batch_size, device, num_epoches)\n",
    "fit_model.fit()"
   ]
  },
  {
   "cell_type": "code",
   "execution_count": 47,
   "metadata": {},
   "outputs": [
    {
     "data": {
      "image/png": "[encoded data removed]",
      "text/plain": [
       "<Figure size 1200x600 with 2 Axes>"
      ]
     },
     "metadata": {},
     "output_type": "display_data"
    }
   ],
   "source": [
    "fit_model.plot_graph()"
   ]
  },
  {
   "cell_type": "code",
   "execution_count": 48,
   "metadata": {},
   "outputs": [],
   "source": [
    "def check_without_filtering():\n",
    "    images_names = listdir(p_noised_imgs)\n",
    "    for name in images_names:\n",
    "        check_ssim(p_noised_imgs, p_img, name)\n",
    "    print()\n",
    "    for name in images_names:\n",
    "        check_gmsd(p_noised_imgs, p_img, name)\n",
    "        \n",
    "def check_after_filtering():\n",
    "    images_names = listdir(p_noised_imgs)\n",
    "    for name in images_names:\n",
    "        check_ssim(p_filtered_images, p_img, name)\n",
    "    print()\n",
    "    for name in images_names:\n",
    "        check_gmsd(p_filtered_images, p_img, name)\n",
    "        \n"
   ]
  },
  {
   "cell_type": "code",
   "execution_count": 49,
   "metadata": {},
   "outputs": [
    {
     "name": "stdout",
     "output_type": "stream",
     "text": [
      "1.jpg, SSIM = 0.884\n",
      "10.jpg, SSIM = 0.889\n",
      "2.jpg, SSIM = 0.897\n",
      "3.jpg, SSIM = 0.875\n",
      "4.jpg, SSIM = 0.897\n",
      "5.jpg, SSIM = 0.856\n",
      "6.jpg, SSIM = 0.888\n",
      "7.jpg, SSIM = 0.936\n",
      "8.jpg, SSIM = 0.901\n",
      "9.jpg, SSIM = 0.869\n",
      "\n",
      "1.jpg, GMSD = 0.045\n",
      "10.jpg, GMSD = 0.068\n",
      "2.jpg, GMSD = 0.040\n",
      "3.jpg, GMSD = 0.065\n",
      "4.jpg, GMSD = 0.053\n",
      "5.jpg, GMSD = 0.062\n",
      "6.jpg, GMSD = 0.039\n",
      "7.jpg, GMSD = 0.052\n",
      "8.jpg, GMSD = 0.043\n",
      "9.jpg, GMSD = 0.075\n"
     ]
    }
   ],
   "source": [
    "check_after_filtering()"
   ]
  },
  {
   "cell_type": "code",
   "execution_count": 50,
   "metadata": {},
   "outputs": [
    {
     "name": "stdout",
     "output_type": "stream",
     "text": [
      "1.jpg, SSIM = 0.608\n",
      "10.jpg, SSIM = 0.205\n",
      "2.jpg, SSIM = 0.652\n",
      "3.jpg, SSIM = 0.459\n",
      "4.jpg, SSIM = 0.505\n",
      "5.jpg, SSIM = 0.453\n",
      "6.jpg, SSIM = 0.567\n",
      "7.jpg, SSIM = 0.785\n",
      "8.jpg, SSIM = 0.487\n",
      "9.jpg, SSIM = 0.240\n",
      "\n",
      "1.jpg, GMSD = 0.105\n",
      "10.jpg, GMSD = 0.201\n",
      "2.jpg, GMSD = 0.105\n",
      "3.jpg, GMSD = 0.142\n",
      "4.jpg, GMSD = 0.134\n",
      "5.jpg, GMSD = 0.149\n",
      "6.jpg, GMSD = 0.103\n",
      "7.jpg, GMSD = 0.075\n",
      "8.jpg, GMSD = 0.129\n",
      "9.jpg, GMSD = 0.197\n"
     ]
    }
   ],
   "source": [
    "check_without_filtering()"
   ]
  },
  {
   "cell_type": "code",
   "execution_count": 51,
   "metadata": {},
   "outputs": [],
   "source": [
    "# p_img = p_raw_image / list_images[2]\n",
    "# img_arr = np.array(ImageOps.grayscale(Image.open(p_img)))\n",
    "# niters = [1, 2, 5, 10, 20]\n",
    "# kappa = [1, 5, 10, 50, 100]\n",
    "# for i in niters:\n",
    "#     for k in kappa:\n",
    "#         img_filtered = anisodiff(img_arr, niter=i, kappa=k)\n",
    "#         img_filtered = img_filtered.astype(np.uint8)\n",
    "#         Image.fromarray(img_filtered).save(f\"{p_img}_I{i}_K{k}.jpg\")"
   ]
  },
  {
   "cell_type": "code",
   "execution_count": 52,
   "metadata": {},
   "outputs": [
    {
     "data": {
      "text/plain": [
       "17"
      ]
     },
     "execution_count": 52,
     "metadata": {},
     "output_type": "execute_result"
    }
   ],
   "source": [
    "counter = 0\n",
    "\n",
    "for i in range(0, 101):\n",
    "    if i % 2 == 0:\n",
    "        if i % 3 == 0:\n",
    "            counter += 1\n",
    "\n",
    "counter"
   ]
  }
 ],
 "metadata": {
  "kernelspec": {
   "display_name": "3.9_venv",
   "language": "python",
   "name": "python3"
  },
  "language_info": {
   "codemirror_mode": {
    "name": "ipython",
    "version": 3
   },
   "file_extension": ".py",
   "mimetype": "text/x-python",
   "name": "python",
   "nbconvert_exporter": "python",
   "pygments_lexer": "ipython3",
   "version": "3.9.13"
  },
  "orig_nbformat": 4,
  "vscode": {
   "interpreter": {
    "hash": "88cdb296fa45150573a7479e53c46514a0e326ba4c5c7ce7e99a342aad6ba12b"
   }
  }
 },
 "nbformat": 4,
 "nbformat_minor": 2
}
