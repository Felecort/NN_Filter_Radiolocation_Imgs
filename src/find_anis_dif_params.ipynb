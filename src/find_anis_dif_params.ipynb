{
 "cells": [
  {
   "cell_type": "code",
   "execution_count": 1,
   "metadata": {},
   "outputs": [],
   "source": [
    "from PIL import ImageOps, Image\n",
    "from fastaniso import anisodiff\n",
    "import numpy as np\n",
    "from os import listdir\n",
    "from pathlib import Path\n",
    "# from assistive_funcs import check_ssim, check_gmsd\n",
    "from skimage.metrics import structural_similarity as ssim\n",
    "from image_processing import add_noise"
   ]
  },
  {
   "cell_type": "code",
   "execution_count": 2,
   "metadata": {},
   "outputs": [],
   "source": [
    "p_original_images = Path(r\"..\\data\\large_data\\train_images\")\n",
    "output_path = Path(r\"..\\data\\large_data\\filtered_anisdiff\")"
   ]
  },
  {
   "cell_type": "code",
   "execution_count": 3,
   "metadata": {},
   "outputs": [],
   "source": [
    "img_names = listdir(p_original_images)\n",
    "imgs_arr = [np.array(ImageOps.grayscale(Image.open(p_original_images / name)), dtype=float) for name in img_names]\n",
    "noised_imgs_arr = [add_noise(img) for img in imgs_arr]"
   ]
  },
  {
   "cell_type": "code",
   "execution_count": 4,
   "metadata": {},
   "outputs": [],
   "source": [
    "niters = [1, 2, 5, 10]\n",
    "kappa = [0.1, 0.5, 1, 5, 10, 50, 100, 150]"
   ]
  },
  {
   "cell_type": "code",
   "execution_count": 5,
   "metadata": {},
   "outputs": [
    {
     "name": "stdout",
     "output_type": "stream",
     "text": [
      "niters = 1\n",
      "\tKappa = 0.1, ssim = 0.34\n",
      "\tKappa = 0.5, ssim = 0.34\n",
      "\tKappa = 1, ssim = 0.34\n",
      "\tKappa = 5, ssim = 0.34\n",
      "\tKappa = 10, ssim = 0.34\n",
      "\tKappa = 50, ssim = 0.38\n",
      "\tKappa = 100, ssim = 0.40\n",
      "\tKappa = 150, ssim = 0.41\n",
      "niters = 2\n",
      "\tKappa = 0.1, ssim = 0.34\n",
      "\tKappa = 0.5, ssim = 0.34\n",
      "\tKappa = 1, ssim = 0.34\n",
      "\tKappa = 5, ssim = 0.34\n",
      "\tKappa = 10, ssim = 0.35\n",
      "\tKappa = 50, ssim = 0.42\n",
      "\tKappa = 100, ssim = 0.45\n",
      "\tKappa = 150, ssim = 0.46\n",
      "niters = 5\n",
      "\tKappa = 0.1, ssim = 0.34\n",
      "\tKappa = 0.5, ssim = 0.34\n",
      "\tKappa = 1, ssim = 0.34\n",
      "\tKappa = 5, ssim = 0.34\n",
      "\tKappa = 10, ssim = 0.35\n",
      "\tKappa = 50, ssim = 0.49\n",
      "\tKappa = 100, ssim = 0.52\n",
      "\tKappa = 150, ssim = 0.52\n",
      "niters = 10\n",
      "\tKappa = 0.1, ssim = 0.34\n",
      "\tKappa = 0.5, ssim = 0.34\n",
      "\tKappa = 1, ssim = 0.34\n",
      "\tKappa = 5, ssim = 0.34\n",
      "\tKappa = 10, ssim = 0.36\n",
      "\tKappa = 50, ssim = 0.53\n",
      "\tKappa = 100, ssim = 0.52\n",
      "\tKappa = 150, ssim = 0.51\n"
     ]
    }
   ],
   "source": [
    "for i in niters:\n",
    "    print(f\"niters = {i}\")\n",
    "    for k in kappa:\n",
    "        ssim_arr = []\n",
    "        gmsd_arr = []\n",
    "        for noised_img, original_img, name in zip(noised_imgs_arr, imgs_arr, img_names):\n",
    "            img_filtered = anisodiff(noised_img, niter=i, kappa=k).astype(np.float64)\n",
    "            ssim_arr.append(ssim(img_filtered, original_img))\n",
    "            Image.fromarray(img_filtered.astype(np.uint8)).save(output_path / f\"{name[:-4]}_i{i}_k{k}.png\")\n",
    "        print(f\"\\tKappa = {k}, ssim = {np.mean(ssim_arr):.2F}\")\n",
    "            # ssim_arr.append(check_gmsd(img_filtered, original_img))\n",
    "\n",
    "        \n",
    "        # img_filtered = img_filtered.astype(np.uint8)\n",
    "        # Image.fromarray(img_filtered).save(f\"{p_img}_I{i}_K{k}.jpg\")"
   ]
  },
  {
   "cell_type": "code",
   "execution_count": null,
   "metadata": {},
   "outputs": [],
   "source": []
  }
 ],
 "metadata": {
  "kernelspec": {
   "display_name": "3.9_venv",
   "language": "python",
   "name": "python3"
  },
  "language_info": {
   "codemirror_mode": {
    "name": "ipython",
    "version": 3
   },
   "file_extension": ".py",
   "mimetype": "text/x-python",
   "name": "python",
   "nbconvert_exporter": "python",
   "pygments_lexer": "ipython3",
   "version": "3.9.13"
  },
  "orig_nbformat": 4,
  "vscode": {
   "interpreter": {
    "hash": "88cdb296fa45150573a7479e53c46514a0e326ba4c5c7ce7e99a342aad6ba12b"
   }
  }
 },
 "nbformat": 4,
 "nbformat_minor": 2
}
