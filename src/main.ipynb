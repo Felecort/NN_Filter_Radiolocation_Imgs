{
 "cells": [
  {
   "cell_type": "markdown",
   "metadata": {},
   "source": [
    "# Import modules"
   ]
  },
  {
   "cell_type": "code",
   "execution_count": 1,
   "metadata": {
    "tags": []
   },
   "outputs": [
    {
     "name": "stderr",
     "output_type": "stream",
     "text": [
      "d:\\projects\\.venvs\\ml_venv\\lib\\site-packages\\tqdm\\auto.py:22: TqdmWarning: IProgress not found. Please update jupyter and ipywidgets. See https://ipywidgets.readthedocs.io/en/stable/user_install.html\n",
      "  from .autonotebook import tqdm as notebook_tqdm\n"
     ]
    }
   ],
   "source": [
    "# Data Handlers\n",
    "import pandas as pd\n",
    "import numpy as np\n",
    "from PIL import Image\n",
    "from PIL import ImageOps\n",
    "\n",
    "# Pytorch\n",
    "import torch\n",
    "import torch.nn as nn  # NN; networks (CNN, RNN, losses)\n",
    "import torch.optim as optim  # Optimizers (Adam, Adadelta, Adagrad)\n",
    "import torch.nn.functional as F\n",
    "from torch.utils.data import DataLoader, Dataset, IterableDataset  # Dataset manager\n",
    "\n",
    "# Other\n",
    "from tqdm import tqdm\n",
    "import os\n",
    "\n",
    "# Graphics\n",
    "from matplotlib import pyplot as plt\n",
    "import seaborn as sns\n",
    "\n",
    "# Additional modules\n",
    "from dataset_creator import generate_csv\n",
    "from math import floor\n",
    "\n",
    "sns.set()"
   ]
  },
  {
   "cell_type": "markdown",
   "metadata": {},
   "source": [
    "# Define constants"
   ]
  },
  {
   "cell_type": "code",
   "execution_count": 2,
   "metadata": {},
   "outputs": [],
   "source": [
    "datasets_path = r\"..\\datasets\\csv_files\"\n",
    "img_path = r\"..\\datasets\\images\"\n",
    "models_path = r\"..\\models\""
   ]
  },
  {
   "cell_type": "markdown",
   "metadata": {},
   "source": [
    "# Generate Dataset"
   ]
  },
  {
   "cell_type": "code",
   "execution_count": 3,
   "metadata": {},
   "outputs": [],
   "source": [
    "create_dataset = False\n",
    "if create_dataset:\n",
    "    generate_csv(win_size=13, dump_to_file=5000, step=5)"
   ]
  },
  {
   "cell_type": "markdown",
   "metadata": {},
   "source": [
    "# Create DataLoader"
   ]
  },
  {
   "cell_type": "code",
   "execution_count": 4,
   "metadata": {},
   "outputs": [
    {
     "data": {
      "text/plain": [
       "' Will be done in the future '"
      ]
     },
     "execution_count": 4,
     "metadata": {},
     "output_type": "execute_result"
    }
   ],
   "source": [
    "\"\"\" Will be done in the future \"\"\"\n",
    "# class CustomDataLoader:\n",
    "#     def __init__(self, datasets_path, dataset_name, batch_size, split_size, state) -> None:\n",
    "#         self.datasets_path = datasets_path\n",
    "#         self.dataset_name = dataset_name\n",
    "#         self.main_path = f\"{datasets_path}\\{dataset_name}\"\n",
    "        \n",
    "#         self.batch_size = batch_size\n",
    "#         self.split_size = split_size\n",
    "        \n",
    "#         self.test_batches, self.real_test_samples = self.get_test_amount()\n",
    "#         self.skip_rows = self.real_test_samples\n",
    "        \n",
    "#         self.state = state\n",
    "#         self.counter = 1\n",
    "\n",
    "#     def __iter__(self):\n",
    "#         if self.state == \"Train\":\n",
    "#             self.train = pd.read_csv(self.main_path, chunksize=self.batch_size,\n",
    "#                                     header=None, index_col=None, iterator=True)\n",
    "#             return self.train\n",
    "#         else:\n",
    "#             self.test = pd.read_csv(self.main_path, chunksize=self.batch_size,\n",
    "#                                     header=None, index_col=None, iterator=True,\n",
    "#                                     skiprows=self.skip_rows)\n",
    "#             return self.test\n",
    "\n",
    "#     def __next__(self):\n",
    "#         print(f\"{self.state = }, {self.test_batches = }\")\n",
    "#         if self.state == \"Train\":\n",
    "#             self.counter += 1\n",
    "#             if self.counter >= self.test_batches:\n",
    "#                 print(\"StopIteration\")\n",
    "#                 raise StopIteration\n",
    "            \n",
    "#             return self.chunk.get_chunk()\n",
    "#         return self.chunk.get_chunk()\n",
    "        \n",
    "\n",
    "#     def get_len_data(self ) -> int:\n",
    "#         idx_start = self.dataset_name.find(\"L\") + 1\n",
    "#         idx_finish = self.dataset_name.find(\".\")\n",
    "#         length = int(self.dataset_name[idx_start:idx_finish])\n",
    "#         return length\n",
    "    \n",
    "#     def get_test_amount(self) -> tuple:\n",
    "#         length = self.get_len_data()\n",
    "#         test_smaples = int(length * self.split_size)\n",
    "#         test_batches = floor(test_smaples / self.batch_size)\n",
    "#         real_test_samples = test_batches * self.batch_size\n",
    "#         print(f\"{length = }, {test_batches = }, {real_test_samples = }\")\n",
    "#         return test_batches, real_test_samples\n",
    "    \n",
    "    \n",
    "# train = CustomDataLoader(datasets_path=datasets_path,\n",
    "#                      dataset_name=\"tmp_L6.csv\",\n",
    "#                      batch_size=2,\n",
    "#                      split_size=0.5,\n",
    "#                      state=\"Train\")\n",
    "# test = CustomDataLoader(datasets_path=datasets_path,\n",
    "#                      dataset_name=\"tmp_L6.csv\",\n",
    "#                      batch_size=2,\n",
    "#                      split_size=0.5,\n",
    "#                      state=\"Test\")\n",
    "# for i in train:\n",
    "#     display(i)\n",
    "# print(\"=\" * 20)\n",
    "# for i in test:\n",
    "#     display(i)\n"
   ]
  },
  {
   "cell_type": "code",
   "execution_count": 5,
   "metadata": {},
   "outputs": [],
   "source": [
    "class DefaultDL(Dataset):\n",
    "    def __init__(self, dataset_path, dataset_name):\n",
    "        super().__init__()\n",
    "        main_path = f\"{dataset_path}\\{dataset_name}\"\n",
    "        self.data = pd.read_csv(main_path, header=None)\n",
    "\n",
    "        target_ind = self.data.shape[1] - 1\n",
    "        self.data.rename(columns={target_ind: \"target\"}, inplace=True)\n",
    "\n",
    "        self.targets = self.data[\"target\"]\n",
    "        self.data.drop(columns=\"target\", inplace=True)\n",
    "\n",
    "    def __len__(self):\n",
    "        return self.data.shape[0]\n",
    "\n",
    "    def __getitem__(self, index):\n",
    "        x = torch.Tensor(self.data.iloc[index].to_numpy()).float()\n",
    "        y = torch.Tensor([self.targets.iloc[index]]).float()\n",
    "        return x, y"
   ]
  },
  {
   "cell_type": "markdown",
   "metadata": {},
   "source": [
    "## Load dataset"
   ]
  },
  {
   "cell_type": "code",
   "execution_count": 6,
   "metadata": {},
   "outputs": [],
   "source": [
    "dataset_name = r\"W13_S5_L146410.csv\"\n",
    "win_size = 13\n",
    "batch_size = 64"
   ]
  },
  {
   "cell_type": "code",
   "execution_count": 7,
   "metadata": {},
   "outputs": [],
   "source": [
    "dataset = DefaultDL(datasets_path, dataset_name)"
   ]
  },
  {
   "cell_type": "code",
   "execution_count": 8,
   "metadata": {},
   "outputs": [
    {
     "name": "stdout",
     "output_type": "stream",
     "text": [
      "train_size = 117128\n",
      "test_size = 29282,\n",
      "train_size + test_size = 146410\n"
     ]
    }
   ],
   "source": [
    "train_size = int(dataset.__len__() * 0.8)\n",
    "test_size = dataset.__len__() - train_size\n",
    "print(f\"{train_size = }\\n{test_size = },\\n{train_size + test_size = }\")"
   ]
  },
  {
   "cell_type": "code",
   "execution_count": 9,
   "metadata": {},
   "outputs": [
    {
     "name": "stderr",
     "output_type": "stream",
     "text": [
      "d:\\projects\\.venvs\\ml_venv\\lib\\site-packages\\torch\\utils\\data\\dataset.py:313: UserWarning: Failed to initialize NumPy: module compiled against API version 0x10 but this version of numpy is 0xf (Triggered internally at  ..\\torch\\csrc\\utils\\tensor_numpy.cpp:68.)\n",
      "  indices = randperm(sum(lengths), generator=generator).tolist()\n"
     ]
    }
   ],
   "source": [
    "train_set, test_set = torch.utils.data.random_split(dataset, [train_size, test_size])\n",
    "train_loader = DataLoader(dataset=train_set, batch_size=batch_size, shuffle=True)\n",
    "test_loader = DataLoader(dataset=test_set, batch_size=batch_size, shuffle=True)"
   ]
  },
  {
   "cell_type": "markdown",
   "metadata": {},
   "source": [
    "# NN Model"
   ]
  },
  {
   "cell_type": "code",
   "execution_count": 10,
   "metadata": {},
   "outputs": [],
   "source": [
    "class DefaultModel(nn.Module):\n",
    "    def __init__(self, in_len, out_len) -> None:\n",
    "        super().__init__()\n",
    "        self.in_len = in_len\n",
    "        self.out_len = out_len\n",
    "        self.hid_n = 450\n",
    "        \n",
    "        self.fcs = nn.Sequential(\n",
    "            nn.Linear(self.in_len, self.hid_n),\n",
    "            nn.BatchNorm1d(self.hid_n),\n",
    "            nn.ReLU(),\n",
    "            nn.Linear(self.hid_n, self.hid_n * 2),\n",
    "            nn.BatchNorm1d(self.hid_n * 2),\n",
    "            nn.ReLU(),\n",
    "            nn.Linear(self.hid_n * 2, self.hid_n * 2),\n",
    "            nn.BatchNorm1d(self.hid_n * 2),\n",
    "            nn.ReLU(),\n",
    "            nn.Linear(self.hid_n * 2, self.hid_n),\n",
    "            nn.BatchNorm1d(self.hid_n),\n",
    "            nn.ReLU(),\n",
    "            # nn.Linear(self.hid_n, self.hid_n),\n",
    "            # nn.BatchNorm1d(self.hid_n),\n",
    "            # nn.ReLU(),\n",
    "            nn.Linear(self.hid_n, self.out_len),\n",
    "        )\n",
    "\n",
    "    def forward(self, x):\n",
    "        x = self.fcs(x)\n",
    "        return x"
   ]
  },
  {
   "cell_type": "markdown",
   "metadata": {},
   "source": [
    "## Define NN's constants"
   ]
  },
  {
   "cell_type": "code",
   "execution_count": 11,
   "metadata": {},
   "outputs": [],
   "source": [
    "device = torch.device(\"cuda\" if torch.cuda.is_available() else \"cpu\")\n",
    "learning_rate = 0.003\n",
    "num_epoches = 1"
   ]
  },
  {
   "cell_type": "markdown",
   "metadata": {},
   "source": [
    "## Initialize model"
   ]
  },
  {
   "cell_type": "code",
   "execution_count": 12,
   "metadata": {},
   "outputs": [],
   "source": [
    "model = DefaultModel(in_len=(win_size ** 2), out_len=1).to(device=device)\n",
    "criterion = nn.MSELoss()\n",
    "optimizer = optim.Adam(model.parameters(), lr=learning_rate)"
   ]
  },
  {
   "cell_type": "code",
   "execution_count": 13,
   "metadata": {},
   "outputs": [
    {
     "name": "stderr",
     "output_type": "stream",
     "text": [
      "1831it [01:33, 19.59it/s]\n",
      "458it [00:09, 46.93it/s]\n"
     ]
    }
   ],
   "source": [
    "losses = []\n",
    "losses_append = losses.append\n",
    "\n",
    "valid_losses = []\n",
    "valid_losses_append = valid_losses.append\n",
    "\n",
    "for epoch in range(num_epoches):\n",
    "    model.train()\n",
    "    for batch_ind, (data, targets) in tqdm(enumerate(train_loader)):\n",
    "        # Data on cuda\n",
    "        data = data.to(device=device)\n",
    "        targets = targets.to(device=device)\n",
    "        \n",
    "        # Forward\n",
    "        scores = model(data) # Equal to model.forward(data)\n",
    "        loss = criterion(scores, targets)\n",
    "        if batch_ind % 3 == 0:\n",
    "            losses_append(loss.item())\n",
    "        # Backprop\n",
    "        optimizer.zero_grad()\n",
    "        loss.backward()\n",
    "\n",
    "        # Gradient descent or adam step\n",
    "        optimizer.step()\n",
    "\n",
    "    model.eval()\n",
    "    with torch.no_grad():\n",
    "        for batch_ind, (data, targets) in tqdm(enumerate(test_loader)):\n",
    "            data = data.to(device=device)\n",
    "            targets = targets.to(device=device)\n",
    "            \n",
    "            # Forward\n",
    "            scores = model(data) # Equal to model.forward(data)\n",
    "            loss = criterion(scores, targets)\n",
    "            valid_losses_append(loss.item())\n",
    "            "
   ]
  },
  {
   "cell_type": "code",
   "execution_count": 14,
   "metadata": {},
   "outputs": [
    {
     "data": {
      "image/png": "[encoded data removed]",
      "text/plain": [
       "<Figure size 504x432 with 1 Axes>"
      ]
     },
     "metadata": {},
     "output_type": "display_data"
    }
   ],
   "source": [
    "sns.set(rc={\"figure.figsize\": (7, 6)})\n",
    "plt.plot(losses);"
   ]
  },
  {
   "cell_type": "code",
   "execution_count": 15,
   "metadata": {},
   "outputs": [
    {
     "data": {
      "image/png": "[encoded data removed]",
      "text/plain": [
       "<Figure size 504x432 with 1 Axes>"
      ]
     },
     "metadata": {},
     "output_type": "display_data"
    }
   ],
   "source": [
    "sns.set(rc={\"figure.figsize\": (7, 6)})\n",
    "plt.plot(valid_losses);"
   ]
  },
  {
   "cell_type": "code",
   "execution_count": 16,
   "metadata": {},
   "outputs": [],
   "source": [
    "checkpoint = {\"state_dict\": model.state_dict(),\n",
    "              \"optimizer\": optimizer.state_dict(),\n",
    "              'loss': loss}\n",
    "torch.save(checkpoint, f\"{models_path}\\DefaultModel_{win_size}_S5.pt\")\n"
   ]
  },
  {
   "cell_type": "markdown",
   "metadata": {},
   "source": [
    "# Check NN works"
   ]
  },
  {
   "cell_type": "code",
   "execution_count": 17,
   "metadata": {},
   "outputs": [],
   "source": [
    "from image_processing import add_noise, add_borders\n",
    "from os import listdir\n",
    "from PIL import Image, ImageOps\n",
    "import numpy as np"
   ]
  },
  {
   "cell_type": "code",
   "execution_count": 18,
   "metadata": {},
   "outputs": [],
   "source": [
    "\n",
    "datasets_path\n",
    "src_images = r\"D:\\projects\\NIR\\datasets\\images\"\n",
    "imgs_with_noise = r\"D:\\projects\\NIR\\datasets\\imgs_with_noise\"\n",
    "def create_grayscale_imgs():\n",
    "    for image_name in listdir(src_images):\n",
    "        img = ImageOps.grayscale(Image.open(f\"{src_images}\\{image_name}\"))\n",
    "        img = np.array(img)\n",
    "        \n",
    "        img = add_noise(img)\n",
    "        img = img.astype(np.uint8)\n",
    "        img = Image.fromarray(img)\n",
    "        img.save(f\"{imgs_with_noise}\\{image_name}\")\n"
   ]
  },
  {
   "cell_type": "code",
   "execution_count": 19,
   "metadata": {},
   "outputs": [],
   "source": [
    "img_name = \"2.jpg\"\n",
    "img = ImageOps.grayscale(Image.open(f\"{imgs_with_noise}\\{img_name}\"))\n",
    "out = np.empty(img.size)\n",
    "half_win_size = win_size // 2\n",
    "img_with_borders = np.array(add_borders(img, win_size=11)) / 255\n",
    "model.eval()\n",
    "with torch.no_grad():\n",
    "    for y in range(img.size[0]):\n",
    "        for x in range(img.size[1]):\n",
    "            croped_img = torch.Tensor([img_with_borders[y:win_size+y, x:win_size+x].flatten()]).float()\n",
    "            res = model(croped_img)\n",
    "            # break\n",
    "            out[y, x] = res\n",
    "out *= 255\n",
    "out = np.where(out <= 255, out, 255)\n",
    "# img = out.astype(np.uint8)\n",
    "# img = Image.fromarray(img)\n",
    "        "
   ]
  },
  {
   "cell_type": "code",
   "execution_count": null,
   "metadata": {},
   "outputs": [],
   "source": [
    "img = out.astype(np.uint8)\n",
    "img = Image.fromarray(img)\n",
    "img.show()\n",
    "img_name = \"2.jpg\"\n",
    "img.save(fr\"D:\\projects\\NIR\\datasets\\filtered_imgs\\{img_name}\")"
   ]
  },
  {
   "cell_type": "code",
   "execution_count": null,
   "metadata": {},
   "outputs": [],
   "source": [
    "from skimage.metrics import structural_similarity as ssim\n",
    "from skimage.metrics import mean_squared_error as mse"
   ]
  },
  {
   "cell_type": "code",
   "execution_count": null,
   "metadata": {},
   "outputs": [
    {
     "name": "stdout",
     "output_type": "stream",
     "text": [
      "SSIM = 0.37\n",
      "MSE = 1820.86\n"
     ]
    }
   ],
   "source": [
    "filtered_img = np.array(ImageOps.grayscale(Image.open(fr\"D:\\projects\\NIR\\datasets\\filtered_imgs\\{img_name}\")))\n",
    "genuine_image = np.array(ImageOps.grayscale(Image.open(fr\"D:\\projects\\NIR\\datasets\\images\\{img_name}\")))\n",
    "ssim_val = ssim(filtered_img, genuine_image)\n",
    "mse_val = mse(filtered_img, genuine_image)\n",
    "print(f\"SSIM = {round(ssim_val, 2)}\")\n",
    "print(f\"MSE = {round(mse_val, 2)}\")"
   ]
  },
  {
   "cell_type": "code",
   "execution_count": null,
   "metadata": {},
   "outputs": [],
   "source": []
  }
 ],
 "metadata": {
  "kernelspec": {
   "display_name": "Python 3.10.2 ('ml_venv')",
   "language": "python",
   "name": "python3"
  },
  "language_info": {
   "codemirror_mode": {
    "name": "ipython",
    "version": 3
   },
   "file_extension": ".py",
   "mimetype": "text/x-python",
   "name": "python",
   "nbconvert_exporter": "python",
   "pygments_lexer": "ipython3",
   "version": "3.10.2"
  },
  "orig_nbformat": 4,
  "vscode": {
   "interpreter": {
    "hash": "1345970e3d8bf11d685f4ade4f14a67e79c9137f0b88fc7a036cb12d34f3f571"
   }
  }
 },
 "nbformat": 4,
 "nbformat_minor": 2
}
