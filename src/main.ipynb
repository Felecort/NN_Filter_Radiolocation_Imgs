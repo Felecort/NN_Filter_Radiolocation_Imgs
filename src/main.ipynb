{
 "cells": [
  {
   "cell_type": "markdown",
   "metadata": {},
   "source": [
    "# Import modules"
   ]
  },
  {
   "cell_type": "code",
   "execution_count": 1,
   "metadata": {
    "tags": []
   },
   "outputs": [
    {
     "name": "stderr",
     "output_type": "stream",
     "text": [
      "d:\\projects\\.venvs\\p_39\\lib\\site-packages\\tqdm\\auto.py:22: TqdmWarning: IProgress not found. Please update jupyter and ipywidgets. See https://ipywidgets.readthedocs.io/en/stable/user_install.html\n",
      "  from .autonotebook import tqdm as notebook_tqdm\n"
     ]
    }
   ],
   "source": [
    "# Data Handlers\n",
    "import pandas as pd\n",
    "import numpy as np\n",
    "from PIL import Image\n",
    "from PIL import ImageOps\n",
    "\n",
    "# Pytorch\n",
    "import torch\n",
    "import torch.nn as nn  # NN; networks (CNN, RNN, losses)\n",
    "import torch.optim as optim  # Optimizers (Adam, Adadelta, Adagrad)\n",
    "import torch.nn.functional as F\n",
    "import torchvision\n",
    "import torchvision.transforms as transforms\n",
    "from torch.utils.data import DataLoader, Dataset, IterableDataset  # Dataset manager\n",
    "from torch.autograd import Variable\n",
    "from torchvision import datasets\n",
    "from torch.utils.data.sampler import SubsetRandomSampler\n",
    "\n",
    "# Other\n",
    "import datetime\n",
    "import os\n",
    "from tqdm import tqdm\n",
    "from pathlib import Path\n",
    "from os import listdir\n",
    "from fastaniso import anisodiff\n",
    "\n",
    "# Graphics\n",
    "from matplotlib import pyplot as plt\n",
    "import seaborn as sns\n",
    "\n",
    "# Additional modules\n",
    "from dataset_creator import generate_csv\n",
    "from assistive_funcs import filtering_image, check_ssim, convert_to_grayscale, get_dataset_name\n",
    "from csv_dataloader import get_train_test_data\n",
    "from math import floor"
   ]
  },
  {
   "cell_type": "markdown",
   "metadata": {},
   "source": [
    "# Generate Dataset"
   ]
  },
  {
   "cell_type": "code",
   "execution_count": null,
   "metadata": {},
   "outputs": [],
   "source": [
    "create_dataset = 0\n",
    "if create_dataset:\n",
    "    generate_csv(win_size=7, dump_to_file=50000, step=4)"
   ]
  },
  {
   "cell_type": "markdown",
   "metadata": {},
   "source": [
    "## Define constants"
   ]
  },
  {
   "cell_type": "code",
   "execution_count": 2,
   "metadata": {},
   "outputs": [
    {
     "name": "stdout",
     "output_type": "stream",
     "text": [
      "dataset_name = 'W7_S4_L231040.csv'\n",
      "device = device(type='cpu')\n"
     ]
    }
   ],
   "source": [
    "# Paths\n",
    "p_main_data = Path(\"../data\")\n",
    "p_models = Path(\"../models\")\n",
    "\n",
    "p_scv_folder = p_main_data / \"csv_files\" # datasets_path\n",
    "p_img = p_main_data / \"images\"\n",
    "\n",
    "p_noised_imgs = p_main_data / \"imgs_with_noise\" \n",
    "\n",
    "p_filtered_images = p_main_data / \"filtered_imgs\"\n",
    "\n",
    "p_gray_images = p_main_data / \"gray_images\"\n",
    "\n",
    "# Hyperparameters \n",
    "learning_rate = 0.001\n",
    "num_epoches = 4\n",
    "batch_size = 128\n",
    "\n",
    "# Dataset\n",
    "win_size = 7\n",
    "_step = 4\n",
    "\n",
    "dataset_name = get_dataset_name(win_size, _step, p_scv_folder) #r\"W5_S1_L3696640.csv\"\n",
    "device = torch.device(\"cuda\" if torch.cuda.is_available() else \"cpu\")\n",
    "print(f\"{dataset_name = }\\n{device = }\")"
   ]
  },
  {
   "cell_type": "markdown",
   "metadata": {},
   "source": [
    "# NN Model"
   ]
  },
  {
   "cell_type": "code",
   "execution_count": null,
   "metadata": {},
   "outputs": [],
   "source": [
    "class DefaultModel(nn.Module):\n",
    "    def __init__(self, in_len, out_len) -> None:\n",
    "        super().__init__()\n",
    "        self.in_len = in_len\n",
    "        self.out_len = out_len\n",
    "        self.hid_n = 20\n",
    "        \n",
    "        self.fcs = nn.Sequential(\n",
    "            nn.Linear(self.in_len, self.hid_n),\n",
    "            nn.BatchNorm1d(self.hid_n),\n",
    "            nn.Mish(),\n",
    "            nn.Linear(self.hid_n, self.hid_n * 2),\n",
    "            nn.BatchNorm1d(self.hid_n * 2),\n",
    "            nn.Mish(),\n",
    "            nn.Linear(self.hid_n * 2, self.hid_n),\n",
    "            nn.BatchNorm1d(self.hid_n),\n",
    "            nn.Mish(),\n",
    "            nn.Linear(self.hid_n, self.out_len),\n",
    "        )\n",
    "\n",
    "    def forward(self, x):\n",
    "        x = self.fcs(x)\n",
    "        return x"
   ]
  },
  {
   "cell_type": "markdown",
   "metadata": {},
   "source": [
    "## Initialize model"
   ]
  },
  {
   "cell_type": "code",
   "execution_count": null,
   "metadata": {},
   "outputs": [],
   "source": [
    "model = DefaultModel(in_len=(win_size ** 2), out_len=1).to(device=device)\n",
    "criterion = nn.MSELoss()\n",
    "optimizer = optim.Adam(model.parameters(), lr=learning_rate)"
   ]
  },
  {
   "cell_type": "code",
   "execution_count": null,
   "metadata": {},
   "outputs": [],
   "source": [
    "losses = []\n",
    "losses_append = losses.append\n",
    "\n",
    "valid_losses = []\n",
    "valid_losses_append = valid_losses.append\n",
    "\n",
    "for epoch in range(num_epoches):\n",
    "    model.train()\n",
    "    train_loader, test_loader = get_train_test_data(scv_folder=p_scv_folder, dataset_name=dataset_name, batch_size=batch_size, train_size=0.9)\n",
    "    for batch_ind, (data, targets) in tqdm(enumerate(train_loader)):\n",
    "        # Data on cuda\n",
    "        data = data.to(device=device)\n",
    "        targets = targets.to(device=device)\n",
    "        \n",
    "        # Forward\n",
    "        scores = model(data) # Equal to model.forward(data)\n",
    "        loss = criterion(scores, targets)\n",
    "        if batch_ind % 3 == 0:\n",
    "            losses_append(loss.item())\n",
    "        # Backprop\n",
    "        loss.backward()\n",
    "\n",
    "        # Gradient descent or adam step\n",
    "        optimizer.step()\n",
    "        optimizer.zero_grad()\n",
    "    model.eval()\n",
    "    with torch.no_grad():\n",
    "        for batch_ind, (data, targets) in tqdm(enumerate(test_loader)):\n",
    "            data = data.to(device=device)\n",
    "            targets = targets.to(device=device)\n",
    "            \n",
    "            # Forward\n",
    "            scores = model(data) # Equal to model.forward(data)\n",
    "            loss = criterion(scores, targets)\n",
    "            valid_losses_append(loss.item())\n",
    "\n"
   ]
  },
  {
   "cell_type": "code",
   "execution_count": null,
   "metadata": {},
   "outputs": [],
   "source": [
    "sns.set()\n",
    "fig, (ax_train, ax_test) = plt.subplots(nrows=1, ncols=2, figsize=(12, 6))\n",
    "fig.suptitle('Loss')\n",
    "\n",
    "ax_train.set_title(\"Train loss\")\n",
    "ax_test.set_title(\"Test loss\")\n",
    "\n",
    "ax_train.set_ylabel('Loss value')\n",
    "ax_test.set_ylabel('Loss value')\n",
    "\n",
    "ax_train.set_xlabel(\"k * Batch\")\n",
    "ax_test.set_xlabel(\"k * Batch\")\n",
    "\n",
    "sns.lineplot(data=losses, ax=ax_train)\n",
    "sns.lineplot(data=valid_losses, ax=ax_test)\n",
    "\n",
    "plt.show()"
   ]
  },
  {
   "cell_type": "code",
   "execution_count": null,
   "metadata": {},
   "outputs": [],
   "source": [
    "path_to_model = p_models / dataset_name\n",
    "torch.save(model, path_to_model)"
   ]
  },
  {
   "cell_type": "markdown",
   "metadata": {},
   "source": [
    "# Check NN works"
   ]
  },
  {
   "cell_type": "code",
   "execution_count": null,
   "metadata": {},
   "outputs": [],
   "source": [
    "list_images = listdir(p_noised_imgs)\n",
    "for img_name in list_images:\n",
    "    filtering_image(model, p_filtered_images, p_noised_imgs, img_name, win_size, device)"
   ]
  },
  {
   "cell_type": "code",
   "execution_count": null,
   "metadata": {},
   "outputs": [],
   "source": [
    "p_real_imgs = p_main_data / \"real_images\"\n",
    "\n",
    "p_raw_image = p_real_imgs / \"raw\"\n",
    "p_out_imgs = p_real_imgs / \"filtered\"\n",
    "\n",
    "list_images = listdir(p_raw_image)\n",
    "for img_name in list_images:\n",
    "    filtering_image(model, p_out_imgs, p_raw_image, img_name, win_size, device)"
   ]
  },
  {
   "cell_type": "code",
   "execution_count": null,
   "metadata": {},
   "outputs": [],
   "source": [
    "images_names = listdir(p_noised_imgs)\n",
    "for name in images_names:\n",
    "    check_ssim(p_filtered_images, p_gray_images, name)"
   ]
  },
  {
   "cell_type": "markdown",
   "metadata": {},
   "source": [
    "# Anis diff"
   ]
  },
  {
   "cell_type": "code",
   "execution_count": null,
   "metadata": {},
   "outputs": [],
   "source": [
    "p_img = p_raw_image / list_images[2]\n",
    "img_arr = np.array(ImageOps.grayscale(Image.open(p_img)))\n",
    "niters = [1, 2, 5, 10, 20]\n",
    "kappa = [1, 5, 10, 50, 100]\n",
    "for i in niters:\n",
    "    for k in kappa:\n",
    "        img_filtered = anisodiff(img_arr, niter=i, kappa=k)\n",
    "        img_filtered = img_filtered.astype(np.uint8)\n",
    "        Image.fromarray(img_filtered).save(f\"{p_img}_I{i}_K{k}.jpg\")"
   ]
  },
  {
   "cell_type": "markdown",
   "metadata": {},
   "source": [
    "# Load model"
   ]
  },
  {
   "cell_type": "code",
   "execution_count": null,
   "metadata": {},
   "outputs": [],
   "source": [
    "model_name = \"also_good_modelW9_S1.csv\"\n",
    "load_model = False\n",
    "if load_model:\n",
    "    model = torch.load(p_models / model_name)"
   ]
  },
  {
   "cell_type": "markdown",
   "metadata": {},
   "source": [
    "# CNN Model\n",
    "\n",
    "\n"
   ]
  },
  {
   "cell_type": "code",
   "execution_count": 3,
   "metadata": {},
   "outputs": [],
   "source": [
    "class CNNFilter(nn.Module):\n",
    "    def __init__(self, *, num_filter, num_channel) -> None:\n",
    "        super().__init__()\n",
    "        self.sequential = nn.Sequential(\n",
    "            nn.Conv2d(1, num_filter, 3, padding=1),\n",
    "            nn.BatchNorm2d(num_filter),\n",
    "            nn.LeakyReLU(0.25, inplace=True),\n",
    "            nn.Conv2d(num_filter, num_filter, 3, padding=1),\n",
    "            nn.BatchNorm2d(num_filter),\n",
    "            nn.LeakyReLU(0.25, inplace=True),\n",
    "            nn.Conv2d(num_filter, num_filter, 3, padding=1),\n",
    "            nn.BatchNorm2d(num_filter),\n",
    "            nn.LeakyReLU(0.25, inplace=True),\n",
    "            nn.Conv2d(num_filter, num_channel, 3, padding=1),\n",
    "            nn.BatchNorm2d(1),\n",
    "            nn.Tanh()\n",
    "        )\n",
    "        \n",
    "    def forward(self, x):\n",
    "        return self.sequential(x)"
   ]
  },
  {
   "cell_type": "code",
   "execution_count": 4,
   "metadata": {},
   "outputs": [],
   "source": [
    "cuda = torch.cuda.is_available()\n",
    "device = torch.device('cuda:0' if cuda else 'cpu')\n",
    "w, h = 608, 608 \n",
    "num_filter = 64\n",
    "num_channel = 1\n",
    "\n",
    "def load_data(BATCH_SIZE=32):\n",
    "    \n",
    "    transform = transforms.Compose([\n",
    "        transforms.Resize(size=(w, h)),\n",
    "        transforms.Grayscale(num_output_channels=1),\n",
    "        transforms.ToTensor(),\n",
    "        transforms.Normalize((0.5,), (0.5,))\n",
    "    ])\n",
    "    Data = datasets.ImageFolder(p_main_data / \"images_for_cnn\", transform=transform)\n",
    "   \n",
    "\n",
    "    batch_size = BATCH_SIZE\n",
    "    test_size = 0.3\n",
    "    \n",
    "    num_data = len(Data)\n",
    "    indices_data = list(range(num_data))\n",
    "    np.random.shuffle(indices_data)\n",
    "    split_tt = int(np.floor(test_size * num_data))\n",
    "    train_idx, test_idx = indices_data[split_tt:], indices_data[:split_tt]\n",
    "    \n",
    "   \n",
    "    # define samplers for obtaining training and validation batches\n",
    "    train_sampler = SubsetRandomSampler(train_idx)\n",
    "    test_sampler = SubsetRandomSampler(test_idx)\n",
    "    \n",
    "    trainloader = torch.utils.data.DataLoader(Data, sampler = train_sampler, batch_size=batch_size, num_workers=4)\n",
    "    testloader  = torch.utils.data.DataLoader(Data, sampler = test_sampler,  batch_size=batch_size, num_workers=4)\n",
    "    \n",
    "    return trainloader, testloader\n",
    "\n",
    "def imshow(img):\n",
    "    img = img / 2 + 0.5     # unnormalize\n",
    "    npimg = img.numpy()\n",
    "    plt.imshow(np.transpose(npimg, (1, 2, 0)))\n",
    "    \n",
    "def noise_input(images):\n",
    "    result = (images + images * torch.rand(images.size()))\n",
    "    result_max = Variable(torch.max(result))\n",
    "    return result / result_max#(images + images * torch.rand(images.size())\n",
    "    #return images + torch.rand(images.size())\n",
    "    #return images * (1 - NOISE_RATIO) + torch.rand(images.size()) * NOISE_RATIO\n",
    "\n",
    "def model_training(mycnn, train_loader, epoch):\n",
    "    loss_metric = nn.MSELoss()\n",
    "    optimizer = torch.optim.Adam(mycnn.parameters(), lr=LEARNING_RATE, weight_decay=WEIGHT_DECAY)\n",
    "\n",
    "    mycnn.train()\n",
    "    for i, data in enumerate(train_loader):\n",
    "        optimizer.zero_grad()\n",
    "        images, _ = data\n",
    "        images = Variable(images)\n",
    "        noise_images = noise_input(images)      # add noise into image data\n",
    "        if cuda: \n",
    "            images, noise_images = images.to(device), noise_images.to(device)\n",
    "        noise = mycnn(noise_images)\n",
    "        outputs = noise_images / (1 - noise)\n",
    "        #outputs = noise_images - noise\n",
    "        loss = loss_metric(outputs, images)\n",
    "        loss.backward()\n",
    "        optimizer.step()\n",
    "        if (i + 1) % LOG_INTERVAL == 0:\n",
    "            print('Epoch [{}/{}] - Iter[{}/{}], MSE loss:{:.4f}'.format(\n",
    "                epoch + 1, EPOCHS, i + 1, len(train_loader.dataset) // BATCH_SIZE, loss.item()\n",
    "            ))\n",
    "   #     torch.cuda.empty_cache()\n",
    "\n",
    "def evaluation(mycnn, test_loader):\n",
    "    total_loss = 0\n",
    "    loss_metric = nn.MSELoss()\n",
    "    mycnn.eval()\n",
    "    for i, data in enumerate(test_loader):\n",
    "        images, _ = data\n",
    "        images = Variable(images)\n",
    "        if cuda: \n",
    "            images = images.to(device)\n",
    "        outputs = mycnn(images)\n",
    "        loss = loss_metric(outputs, images)\n",
    "        total_loss += loss.item() * len(images)\n",
    "    avg_loss = total_loss / len(test_loader.dataset)\n",
    "\n",
    "    print('\\nAverage MSE Loss on Test set: {:.4f}'.format(avg_loss))\n",
    "\n",
    "    global BEST_VAL\n",
    "    if TRAIN and avg_loss < BEST_VAL:\n",
    "        BEST_VAL = avg_loss\n",
    "        torch.save(mycnn.state_dict(), '/content/drive/My Drive/history/conv_filter.pt')\n",
    "        print('Save Best Model in HISTORY\\n')\n"
   ]
  },
  {
   "cell_type": "code",
   "execution_count": 7,
   "metadata": {},
   "outputs": [
    {
     "ename": "TypeError",
     "evalue": "__init__() takes 1 positional argument but 3 were given",
     "output_type": "error",
     "traceback": [
      "\u001b[1;31m---------------------------------------------------------------------------\u001b[0m",
      "\u001b[1;31mTypeError\u001b[0m                                 Traceback (most recent call last)",
      "Cell \u001b[1;32mIn [7], line 14\u001b[0m\n\u001b[0;32m     11\u001b[0m \u001b[39m# train_loader, test_loader = data_utils.load_mnist(BATCH_SIZE)\u001b[39;00m\n\u001b[0;32m     13\u001b[0m  train_loader, test_loader \u001b[39m=\u001b[39m load_data(BATCH_SIZE)\n\u001b[1;32m---> 14\u001b[0m  mycnn \u001b[39m=\u001b[39m CNNFilter(\u001b[39m64\u001b[39m, \u001b[39m1\u001b[39m)\n\u001b[0;32m     15\u001b[0m  \u001b[39mif\u001b[39;00m cuda: mycnn\u001b[39m.\u001b[39mto(device)\n\u001b[0;32m     17\u001b[0m  \u001b[39mif\u001b[39;00m TRAIN:\n",
      "\u001b[1;31mTypeError\u001b[0m: __init__() takes 1 positional argument but 3 were given"
     ]
    }
   ],
   "source": [
    "if __name__ == '__main__':\n",
    "    EPOCHS = 10\n",
    "    BATCH_SIZE = 8\n",
    "    LEARNING_RATE = 1e-3\n",
    "    WEIGHT_DECAY = 1e-5\n",
    "    LOG_INTERVAL = 10\n",
    "    NOISE_RATIO = 0.5\n",
    "    TRAIN = True       # whether to train a model from scratch\n",
    "    BEST_VAL = float('inf')     # record the best val loss\n",
    "\n",
    "   # train_loader, test_loader = data_utils.load_mnist(BATCH_SIZE)\n",
    "    \n",
    "    train_loader, test_loader = load_data(BATCH_SIZE)\n",
    "    mycnn = CNNFilter(64, 1)\n",
    "    if cuda: mycnn.to(device)\n",
    "\n",
    "    if TRAIN:\n",
    "        for epoch in range(EPOCHS):\n",
    "            starttime = datetime.datetime.now()\n",
    "            model_training(mycnn, train_loader, epoch)\n",
    "            endtime = datetime.datetime.now()\n",
    "            \n",
    "            print(f'Train a epoch in {(endtime - starttime).seconds} seconds')\n",
    "            # evaluate on test set and save best model\n",
    "            evaluation(mycnn, test_loader)\n",
    "        print('Trainig Complete with best validation loss {:.4f}'.format(BEST_VAL))\n",
    "    else:\n",
    "        mycnn.load_state_dict(torch.load('/content/drive/My Drive/history/conv_filter.pt'))\n",
    "        evaluation(mycnn, test_loader)\n",
    "        \n",
    "        mycnn.cpu()\n",
    "        dataiter = iter(train_loader)\n",
    "        images, _ = next(dataiter)\n",
    "        images = Variable(images[:1])\n",
    "\n",
    "        noise_images = noise_input(images)\n",
    "        noise = mycnn(noise_images)\n",
    "        outputs = noise_images / (1-noise)\n",
    "        #outputs = noise_images - noise\n",
    "\n",
    "        # plot and save original and reconstruction images for comparisons\n",
    "        plt.figure(figsize=(20, 15))\n",
    "        plt.subplot(131)\n",
    "        plt.title('Image')\n",
    "        imshow(torchvision.utils.make_grid(images))\n",
    "        plt.subplot(132)\n",
    "        plt.title('Noise Image')\n",
    "        imshow(torchvision.utils.make_grid(noise_images))\n",
    "        plt.subplot(133)\n",
    "        plt.title('Reconstruction')\n",
    "        imshow(torchvision.utils.make_grid(\n",
    "            outputs.view(images.size(0), num_channel, w, h).data\n",
    "        ))\n",
    "        plt.savefig('/content/drive/My Drive/images/filter_net_2.png')\n"
   ]
  }
 ],
 "metadata": {
  "kernelspec": {
   "display_name": "Python 3.9.13 ('p_39')",
   "language": "python",
   "name": "python3"
  },
  "language_info": {
   "codemirror_mode": {
    "name": "ipython",
    "version": 3
   },
   "file_extension": ".py",
   "mimetype": "text/x-python",
   "name": "python",
   "nbconvert_exporter": "python",
   "pygments_lexer": "ipython3",
   "version": "3.9.13"
  },
  "orig_nbformat": 4,
  "vscode": {
   "interpreter": {
    "hash": "133c170afdeab1f0e63607fe34154a7aa764864bf52679b7d6e51f832825b32d"
   }
  }
 },
 "nbformat": 4,
 "nbformat_minor": 2
}
