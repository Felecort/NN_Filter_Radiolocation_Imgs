{
 "cells": [
  {
   "cell_type": "markdown",
   "metadata": {},
   "source": [
    "# Import modules"
   ]
  },
  {
   "cell_type": "code",
   "execution_count": 19,
   "metadata": {},
   "outputs": [],
   "source": [
    "import pandas as pd\n",
    "import numpy as np\n",
    "import os\n",
    "from PIL import Image\n",
    "from PIL import ImageOps\n",
    "from tqdm import tqdm\n",
    "import torch\n",
    "import torch.nn as nn  # NN networks (CNN, RNN, losses)\n",
    "import torch.optim as optim  # Aptimizers (Adam, Adadelta, Adagrad)\n",
    "import torch.nn.functional as F\n",
    "from torch.utils.data import DataLoader, Dataset  # Dataset manager\n",
    "from matplotlib import pyplot as plt\n",
    "import seaborn as sns\n",
    "sns.set()\n",
    "\n",
    "from from_imgs_to_csv import generate_csv"
   ]
  },
  {
   "cell_type": "markdown",
   "metadata": {},
   "source": [
    "# Generate Dataset"
   ]
  },
  {
   "cell_type": "code",
   "execution_count": 21,
   "metadata": {},
   "outputs": [],
   "source": [
    "create_dataset = False\n",
    "if create_dataset:\n",
    "    generate_csv(win_size=3, dump_to_file=1000)"
   ]
  },
  {
   "cell_type": "markdown",
   "metadata": {},
   "source": [
    "# Define constants"
   ]
  },
  {
   "cell_type": "code",
   "execution_count": 5,
   "metadata": {},
   "outputs": [],
   "source": [
    "datasets_path = r\"..\\datasets\\csv_files\"\n",
    "img_path = r\"..\\datasets\\images\"\n",
    "models_path = r\"..\\models\""
   ]
  },
  {
   "cell_type": "markdown",
   "metadata": {},
   "source": [
    "# Create DataLoader"
   ]
  },
  {
   "cell_type": "code",
   "execution_count": 6,
   "metadata": {},
   "outputs": [],
   "source": [
    "class NoisedImgs(Dataset):\n",
    "    def __init__(self, dataset_path):\n",
    "        super().__init__()\n",
    "\n",
    "        self.data = pd.read_csv(dataset_path, header=None)\n",
    "\n",
    "        target_ind = self.data.shape[1] - 1\n",
    "        self.data.rename(columns={target_ind: \"target\"}, inplace=True)\n",
    "\n",
    "        self.targets = self.data[\"target\"]\n",
    "        self.data.drop(columns=\"target\", inplace=True)\n",
    "\n",
    "    def __len__(self):\n",
    "        return self.data.shape[0]\n",
    "\n",
    "    def __getitem__(self, index):\n",
    "        x = torch.Tensor(self.data.iloc[index].to_numpy()).float()\n",
    "        y = torch.Tensor([self.targets.iloc[index]]).float()\n",
    "        return x, y\n"
   ]
  },
  {
   "cell_type": "markdown",
   "metadata": {},
   "source": [
    "## Load dataset"
   ]
  },
  {
   "cell_type": "code",
   "execution_count": 7,
   "metadata": {},
   "outputs": [],
   "source": [
    "win_size = 3\n",
    "dataset = NoisedImgs(f\"{datasets_path}\\data_win{win_size}.csv\")\n",
    "batch_size = 256"
   ]
  },
  {
   "cell_type": "code",
   "execution_count": 8,
   "metadata": {},
   "outputs": [
    {
     "name": "stdout",
     "output_type": "stream",
     "text": [
      "train_size = 2956800\n",
      "test_size = 739200,\n",
      "train_size + test_size = 3696000\n"
     ]
    }
   ],
   "source": [
    "train_size = int(dataset.__len__() * 0.8)\n",
    "test_size = dataset.__len__() - train_size\n",
    "print(f\"{train_size = }\\n{test_size = },\\n{train_size + test_size = }\")"
   ]
  },
  {
   "cell_type": "code",
   "execution_count": 9,
   "metadata": {},
   "outputs": [],
   "source": [
    "train_set, test_set = torch.utils.data.random_split(dataset, [train_size, test_size])\n",
    "train_loader = DataLoader(dataset=train_set, batch_size=batch_size, shuffle=True)\n",
    "test_loader = DataLoader(dataset=test_set, batch_size=batch_size, shuffle=True)"
   ]
  },
  {
   "cell_type": "markdown",
   "metadata": {},
   "source": [
    "# NN Model"
   ]
  },
  {
   "cell_type": "code",
   "execution_count": 10,
   "metadata": {},
   "outputs": [],
   "source": [
    "class DefaultModel(nn.Module):\n",
    "    def __init__(self, in_len, out_len) -> None:\n",
    "        super().__init__()\n",
    "        self.in_len = in_len\n",
    "        self.out_len = out_len\n",
    "        self.hid_n = 20\n",
    "        \n",
    "        self.fcs = nn.Sequential(\n",
    "            nn.Linear(self.in_len, self.hid_n),\n",
    "            nn.BatchNorm1d(self.hid_n),\n",
    "            nn.ReLU(),\n",
    "            nn.Linear(self.hid_n, self.hid_n),\n",
    "            nn.BatchNorm1d(self.hid_n),\n",
    "            nn.ReLU(),\n",
    "            nn.Linear(self.hid_n, self.out_len)\n",
    "        )\n",
    "\n",
    "    def forward(self, x):\n",
    "        x = self.fcs(x)\n",
    "        return x"
   ]
  },
  {
   "cell_type": "markdown",
   "metadata": {},
   "source": [
    "## Define NN's constants"
   ]
  },
  {
   "cell_type": "code",
   "execution_count": 11,
   "metadata": {},
   "outputs": [],
   "source": [
    "device = torch.device(\"cuda\" if torch.cuda.is_available() else \"cpu\")\n",
    "learning_rate = 0.001\n",
    "num_epoches = 1"
   ]
  },
  {
   "cell_type": "markdown",
   "metadata": {},
   "source": [
    "## Initialize model"
   ]
  },
  {
   "cell_type": "code",
   "execution_count": 12,
   "metadata": {},
   "outputs": [],
   "source": [
    "model = DefaultModel(in_len=(win_size ** 2), out_len=1).to(device=device)\n",
    "\n",
    "criterion = nn.MSELoss()\n",
    "optimizer = optim.Adam(model.parameters(), lr=learning_rate)"
   ]
  },
  {
   "cell_type": "code",
   "execution_count": 13,
   "metadata": {},
   "outputs": [
    {
     "name": "stderr",
     "output_type": "stream",
     "text": [
      "11550it [06:42, 28.72it/s]\n"
     ]
    }
   ],
   "source": [
    "losses = []\n",
    "losses_append = losses.append\n",
    "\n",
    "for epoch in range(num_epoches):\n",
    "    for batch_ind, (data, targets) in tqdm(enumerate(train_loader)):\n",
    "        # Data on cude\n",
    "        data = data.to(device=device)\n",
    "        targets = targets.to(device=device)\n",
    "        \n",
    "        # Forward\n",
    "        scores = model(data) # Equal to model.forward(data)\n",
    "        loss = criterion(scores, targets)\n",
    "        if batch_ind % 5 == 0:\n",
    "            losses_append(loss.item())\n",
    "        # Backprop\n",
    "        optimizer.zero_grad()\n",
    "        loss.backward()\n",
    "\n",
    "        # Gradient descent or adam step\n",
    "        optimizer.step()"
   ]
  },
  {
   "cell_type": "code",
   "execution_count": 17,
   "metadata": {},
   "outputs": [
    {
     "data": {
      "text/plain": [
       "device(type='cuda')"
      ]
     },
     "execution_count": 17,
     "metadata": {},
     "output_type": "execute_result"
    }
   ],
   "source": [
    "device"
   ]
  },
  {
   "cell_type": "code",
   "execution_count": 20,
   "metadata": {},
   "outputs": [
    {
     "data": {
      "image/png": "[encoded data removed]",
      "text/plain": [
       "<Figure size 432x288 with 1 Axes>"
      ]
     },
     "metadata": {},
     "output_type": "display_data"
    }
   ],
   "source": [
    "plt.plot(losses);"
   ]
  },
  {
   "cell_type": "code",
   "execution_count": 15,
   "metadata": {},
   "outputs": [],
   "source": [
    "# plt.plot(losses[:6]);"
   ]
  },
  {
   "cell_type": "code",
   "execution_count": 16,
   "metadata": {},
   "outputs": [],
   "source": [
    "checkpoint = {\"state_dict\": model.state_dict(),\n",
    "              \"optimizer\": optimizer.state_dict(),\n",
    "              'loss': loss}\n",
    "torch.save(checkpoint, f\"{models_path}\\DefaultModel_{win_size}.pt\")\n"
   ]
  },
  {
   "cell_type": "code",
   "execution_count": null,
   "metadata": {},
   "outputs": [],
   "source": []
  }
 ],
 "metadata": {
  "kernelspec": {
   "display_name": "Python 3.9.13 ('ml_venv_p39')",
   "language": "python",
   "name": "python3"
  },
  "language_info": {
   "codemirror_mode": {
    "name": "ipython",
    "version": 3
   },
   "file_extension": ".py",
   "mimetype": "text/x-python",
   "name": "python",
   "nbconvert_exporter": "python",
   "pygments_lexer": "ipython3",
   "version": "3.9.13"
  },
  "orig_nbformat": 4,
  "vscode": {
   "interpreter": {
    "hash": "4768d2f058c14b479e138ff57b58bdd686493c6bb5dedc1b4ea8047c7aed7072"
   }
  }
 },
 "nbformat": 4,
 "nbformat_minor": 2
}
