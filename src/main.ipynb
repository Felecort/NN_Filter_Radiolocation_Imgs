{
 "cells": [
  {
   "cell_type": "markdown",
   "metadata": {},
   "source": [
    "# Import modules"
   ]
  },
  {
   "cell_type": "code",
   "execution_count": 16,
   "metadata": {
    "tags": []
   },
   "outputs": [],
   "source": [
    "# Data Handlers\n",
    "import pandas as pd\n",
    "import numpy as np\n",
    "from PIL import Image\n",
    "from PIL import ImageOps\n",
    "\n",
    "# Pytorch\n",
    "import torch\n",
    "import torch.nn as nn  # NN; networks (CNN, RNN, losses)\n",
    "import torch.optim as optim  # Optimizers (Adam, Adadelta, Adagrad)\n",
    "import torch.nn.functional as F\n",
    "from torch.utils.data import DataLoader, Dataset, IterableDataset  # Dataset manager\n",
    "\n",
    "# Other\n",
    "from tqdm import tqdm\n",
    "import os\n",
    "from pathlib import Path\n",
    "\n",
    "# Graphics\n",
    "from matplotlib import pyplot as plt\n",
    "import seaborn as sns\n",
    "\n",
    "# Additional modules\n",
    "from dataset_creator import generate_csv\n",
    "from assistive_funcs import filtering_image, check_ssim, convert_to_grayscale\n",
    "from csv_dataloader import get_train_test_data\n",
    "from math import floor\n",
    "\n",
    "\n",
    "sns.set()"
   ]
  },
  {
   "cell_type": "markdown",
   "metadata": {},
   "source": [
    "# Define constants"
   ]
  },
  {
   "cell_type": "code",
   "execution_count": 17,
   "metadata": {},
   "outputs": [],
   "source": [
    "# Paths\n",
    "main_data_path = Path(\"../data\")\n",
    "models_path = Path(\"../models\")\n",
    "\n",
    "scv_folder = main_data_path / \"csv_files\" # datasets_path\n",
    "img_path = main_data_path / \"images\""
   ]
  },
  {
   "cell_type": "markdown",
   "metadata": {},
   "source": [
    "# Generate Dataset"
   ]
  },
  {
   "cell_type": "code",
   "execution_count": 18,
   "metadata": {},
   "outputs": [
    {
     "name": "stdout",
     "output_type": "stream",
     "text": [
      "============================================================= \n",
      "Borders were added, indexes were created. Passed time = 2.04s\n",
      "=============================================================\n",
      "Dataset created.               \n",
      "Total spent time = 171.57s\n",
      "Total samples = 3696640\n",
      "Dataset name 'W5_S1_L3696640.csv'\n"
     ]
    }
   ],
   "source": [
    "create_dataset = 1\n",
    "if create_dataset:\n",
    "    generate_csv(win_size=5, dump_to_file=10000, step=1)"
   ]
  },
  {
   "cell_type": "markdown",
   "metadata": {},
   "source": [
    "# NN Model"
   ]
  },
  {
   "cell_type": "code",
   "execution_count": 19,
   "metadata": {},
   "outputs": [],
   "source": [
    "class DefaultModel(nn.Module):\n",
    "    def __init__(self, in_len, out_len) -> None:\n",
    "        super().__init__()\n",
    "        self.in_len = in_len\n",
    "        self.out_len = out_len\n",
    "        self.hid_n = 400\n",
    "        \n",
    "        self.fcs = nn.Sequential(\n",
    "            nn.Linear(self.in_len, self.hid_n),\n",
    "            nn.BatchNorm1d(self.hid_n),\n",
    "            nn.ReLU(),\n",
    "            nn.Linear(self.hid_n, self.hid_n * 2),\n",
    "            nn.BatchNorm1d(self.hid_n * 2),\n",
    "            nn.ReLU(),\n",
    "            nn.Linear(self.hid_n * 2, self.hid_n * 3),\n",
    "            # nn.BatchNorm1d(self.hid_n * 3),\n",
    "            nn.ReLU(),\n",
    "            \n",
    "            nn.Linear(self.hid_n * 3, self.hid_n * 3),\n",
    "            # nn.BatchNorm1d(self.hid_n * 3),\n",
    "            nn.ReLU(),\n",
    "            nn.Linear(self.hid_n * 3, self.hid_n * 3),\n",
    "            nn.BatchNorm1d(self.hid_n * 3),\n",
    "            nn.ReLU(),\n",
    "            \n",
    "            nn.Linear(self.hid_n * 3, self.hid_n * 2),\n",
    "            # nn.BatchNorm1d(self.hid_n * 2),\n",
    "            nn.ReLU(),\n",
    "            nn.Linear(self.hid_n * 2, self.hid_n),\n",
    "            nn.BatchNorm1d(self.hid_n),\n",
    "            nn.ReLU(),\n",
    "            nn.Linear(self.hid_n, self.out_len),\n",
    "        )\n",
    "\n",
    "    def forward(self, x):\n",
    "        x = self.fcs(x)\n",
    "        return x"
   ]
  },
  {
   "cell_type": "markdown",
   "metadata": {},
   "source": [
    "## Define NN's constants"
   ]
  },
  {
   "cell_type": "code",
   "execution_count": 20,
   "metadata": {},
   "outputs": [
    {
     "data": {
      "text/plain": [
       "device(type='cuda')"
      ]
     },
     "metadata": {},
     "output_type": "display_data"
    }
   ],
   "source": [
    "learning_rate = 0.001\n",
    "num_epoches = 2\n",
    "win_size = 5\n",
    "batch_size = 256\n",
    "dataset_name = r\"W5_S1_L3696640.csv\"\n",
    "\n",
    "device = torch.device(\"cuda\" if torch.cuda.is_available() else \"cpu\")\n",
    "display(device)"
   ]
  },
  {
   "cell_type": "markdown",
   "metadata": {},
   "source": [
    "## Initialize model"
   ]
  },
  {
   "cell_type": "code",
   "execution_count": 21,
   "metadata": {},
   "outputs": [],
   "source": [
    "model = DefaultModel(in_len=(win_size ** 2), out_len=1).to(device=device)\n",
    "criterion = nn.MSELoss()\n",
    "optimizer = optim.Adam(model.parameters(), lr=learning_rate)"
   ]
  },
  {
   "cell_type": "code",
   "execution_count": 22,
   "metadata": {},
   "outputs": [
    {
     "name": "stderr",
     "output_type": "stream",
     "text": [
      "12996it [08:58, 24.13it/s]\n",
      "1444it [00:19, 74.55it/s]\n",
      "12996it [08:45, 24.72it/s]\n",
      "1444it [00:19, 73.39it/s]\n"
     ]
    }
   ],
   "source": [
    "losses = []\n",
    "losses_append = losses.append\n",
    "\n",
    "valid_losses = []\n",
    "valid_losses_append = valid_losses.append\n",
    "\n",
    "for epoch in range(num_epoches):\n",
    "    model.train()\n",
    "    train_loader, test_loader = get_train_test_data(scv_folder=scv_folder, dataset_name=dataset_name, batch_size=batch_size, train_size=0.9)\n",
    "    for batch_ind, (data, targets) in tqdm(enumerate(train_loader)):\n",
    "        # Data on cuda\n",
    "        data = data.to(device=device)\n",
    "        targets = targets.to(device=device)\n",
    "        \n",
    "        # Forward\n",
    "        scores = model(data) # Equal to model.forward(data)\n",
    "        loss = criterion(scores, targets)\n",
    "        if batch_ind % 3 == 0:\n",
    "            losses_append(loss.item())\n",
    "        # Backprop\n",
    "        loss.backward()\n",
    "\n",
    "        # Gradient descent or adam step\n",
    "        optimizer.step()\n",
    "        optimizer.zero_grad()\n",
    "    model.eval()\n",
    "    with torch.no_grad():\n",
    "        for batch_ind, (data, targets) in tqdm(enumerate(test_loader)):\n",
    "            data = data.to(device=device)\n",
    "            targets = targets.to(device=device)\n",
    "            \n",
    "            # Forward\n",
    "            scores = model(data) # Equal to model.forward(data)\n",
    "            loss = criterion(scores, targets)\n",
    "            valid_losses_append(loss.item())\n",
    "\n"
   ]
  },
  {
   "cell_type": "code",
   "execution_count": 23,
   "metadata": {},
   "outputs": [
    {
     "data": {
      "image/png": "[encoded data removed]",
      "text/plain": [
       "<Figure size 504x432 with 1 Axes>"
      ]
     },
     "metadata": {},
     "output_type": "display_data"
    }
   ],
   "source": [
    "sns.set(rc={\"figure.figsize\": (7, 6)})\n",
    "plt.plot(losses);"
   ]
  },
  {
   "cell_type": "code",
   "execution_count": 24,
   "metadata": {},
   "outputs": [
    {
     "data": {
      "image/png": "[encoded data removed]",
      "text/plain": [
       "<Figure size 504x432 with 1 Axes>"
      ]
     },
     "metadata": {},
     "output_type": "display_data"
    }
   ],
   "source": [
    "sns.set(rc={\"figure.figsize\": (7, 6)})\n",
    "plt.plot(valid_losses);"
   ]
  },
  {
   "cell_type": "code",
   "execution_count": 25,
   "metadata": {},
   "outputs": [],
   "source": [
    "torch.save(model, f\"{models_path}\\{dataset_name}\")"
   ]
  },
  {
   "cell_type": "markdown",
   "metadata": {},
   "source": [
    "# Check NN works"
   ]
  },
  {
   "cell_type": "code",
   "execution_count": 26,
   "metadata": {},
   "outputs": [],
   "source": [
    "path_to_noised_imgs = main_data_path / \"imgs_with_noise\" #r\"D:\\Projects\\PythonProjects\\NIR\\data\\imgs_with_noise\""
   ]
  },
  {
   "cell_type": "code",
   "execution_count": 27,
   "metadata": {},
   "outputs": [
    {
     "name": "stderr",
     "output_type": "stream",
     "text": [
      "100%|██████████| 608/608 [00:08<00:00, 73.64it/s]\n",
      "100%|██████████| 608/608 [00:08<00:00, 71.69it/s]\n",
      "100%|██████████| 608/608 [00:08<00:00, 72.86it/s]\n",
      "100%|██████████| 608/608 [00:08<00:00, 73.93it/s]\n",
      "100%|██████████| 608/608 [00:08<00:00, 72.72it/s]\n",
      "100%|██████████| 608/608 [00:08<00:00, 73.29it/s]\n",
      "100%|██████████| 608/608 [00:08<00:00, 73.98it/s]\n",
      "100%|██████████| 608/608 [00:08<00:00, 72.68it/s]\n",
      "100%|██████████| 608/608 [00:08<00:00, 72.44it/s]\n",
      "100%|██████████| 608/608 [00:08<00:00, 71.76it/s]\n"
     ]
    }
   ],
   "source": [
    "for i in range(1, 11):   \n",
    "    filtering_image(model, path_to_noised_imgs, f\"{i}.jpg\", win_size, device)"
   ]
  },
  {
   "cell_type": "code",
   "execution_count": 28,
   "metadata": {},
   "outputs": [],
   "source": [
    "import gc\n",
    "collected = gc.collect()"
   ]
  },
  {
   "cell_type": "code",
   "execution_count": 29,
   "metadata": {},
   "outputs": [],
   "source": [
    "filtered_images = r\"D:\\Projects\\PythonProjects\\NIR\\data\\filtered_imgs\"\n",
    "# convert_to_grayscale(genuine_images)\n"
   ]
  },
  {
   "cell_type": "code",
   "execution_count": 30,
   "metadata": {},
   "outputs": [
    {
     "name": "stdout",
     "output_type": "stream",
     "text": [
      "1.jpg, SSIM = 0.23457181665442192\n",
      "10.jpg, SSIM = 0.7278149166721435\n",
      "2.jpg, SSIM = 0.41735856722034115\n",
      "3.jpg, SSIM = 0.44573210435192323\n",
      "4.jpg, SSIM = 0.40246734777362975\n",
      "5.jpg, SSIM = 0.4140236289208228\n",
      "6.jpg, SSIM = 0.5921012171486391\n",
      "7.jpg, SSIM = -0.007312128207005393\n",
      "8.jpg, SSIM = 0.41426664350879067\n",
      "9.jpg, SSIM = 0.6860301988728323\n"
     ]
    }
   ],
   "source": [
    "\n",
    "genuine_images = r\"D:\\Projects\\PythonProjects\\NIR\\data\\gray_images\"\n",
    "\n",
    "check_ssim(filtered_images, genuine_images)"
   ]
  },
  {
   "cell_type": "code",
   "execution_count": null,
   "metadata": {},
   "outputs": [],
   "source": []
  }
 ],
 "metadata": {
  "kernelspec": {
   "display_name": "Python 3.9.13 ('ml_venv_p39')",
   "language": "python",
   "name": "python3"
  },
  "language_info": {
   "codemirror_mode": {
    "name": "ipython",
    "version": 3
   },
   "file_extension": ".py",
   "mimetype": "text/x-python",
   "name": "python",
   "nbconvert_exporter": "python",
   "pygments_lexer": "ipython3",
   "version": "3.9.13"
  },
  "orig_nbformat": 4,
  "vscode": {
   "interpreter": {
    "hash": "4768d2f058c14b479e138ff57b58bdd686493c6bb5dedc1b4ea8047c7aed7072"
   }
  }
 },
 "nbformat": 4,
 "nbformat_minor": 2
}
