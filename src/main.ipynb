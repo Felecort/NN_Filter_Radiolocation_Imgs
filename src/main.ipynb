{
 "cells": [
  {
   "cell_type": "markdown",
   "metadata": {},
   "source": [
    "# Import modules"
   ]
  },
  {
   "cell_type": "code",
   "execution_count": 1,
   "metadata": {
    "tags": []
   },
   "outputs": [],
   "source": [
    "# Data Handlers\n",
    "import pandas as pd\n",
    "import numpy as np\n",
    "from PIL import Image\n",
    "from PIL import ImageOps\n",
    "\n",
    "# Pytorch\n",
    "import torch\n",
    "import torch.nn as nn  # NN; networks (CNN, RNN, losses)\n",
    "import torch.optim as optim  # Optimizers (Adam, Adadelta, Adagrad)\n",
    "import torch.nn.functional as F\n",
    "from torch.utils.data import DataLoader, Dataset, IterableDataset  # Dataset manager\n",
    "\n",
    "# Other\n",
    "from tqdm import tqdm\n",
    "import os\n",
    "from pathlib import Path\n",
    "from os import listdir\n",
    "\n",
    "# Graphics\n",
    "from matplotlib import pyplot as plt\n",
    "import seaborn as sns\n",
    "\n",
    "# Additional modules\n",
    "from dataset_creator import generate_csv\n",
    "from assistive_funcs import filtering_image, check_ssim, convert_to_grayscale, get_dataset_name\n",
    "from csv_dataloader import get_train_test_data\n",
    "from math import floor"
   ]
  },
  {
   "cell_type": "markdown",
   "metadata": {},
   "source": [
    "# Generate Dataset"
   ]
  },
  {
   "cell_type": "code",
   "execution_count": 2,
   "metadata": {},
   "outputs": [],
   "source": [
    "create_dataset = 0\n",
    "if create_dataset:\n",
    "    generate_csv(win_size=9, dump_to_file=50000, step=1)"
   ]
  },
  {
   "cell_type": "markdown",
   "metadata": {},
   "source": [
    "# NN Model"
   ]
  },
  {
   "cell_type": "code",
   "execution_count": 3,
   "metadata": {},
   "outputs": [],
   "source": [
    "class DefaultModel(nn.Module):\n",
    "    def __init__(self, in_len, out_len) -> None:\n",
    "        super().__init__()\n",
    "        self.in_len = in_len\n",
    "        self.out_len = out_len\n",
    "        self.hid_n = 400\n",
    "        \n",
    "        self.fcs = nn.Sequential(\n",
    "            nn.Linear(self.in_len, self.hid_n),\n",
    "            nn.BatchNorm1d(self.hid_n),\n",
    "            nn.ReLU(),\n",
    "            nn.Linear(self.hid_n, self.hid_n * 2),\n",
    "            # nn.BatchNorm1d(self.hid_n * 2),\n",
    "            nn.ReLU(),\n",
    "            nn.Linear(self.hid_n * 2, self.hid_n * 3),\n",
    "            nn.BatchNorm1d(self.hid_n * 3),\n",
    "            nn.ReLU(),\n",
    "            \n",
    "            nn.Linear(self.hid_n * 3, self.hid_n * 3),\n",
    "            # nn.BatchNorm1d(self.hid_n * 3),\n",
    "            nn.ReLU(),\n",
    "            nn.Linear(self.hid_n * 3, self.hid_n * 3),\n",
    "            nn.BatchNorm1d(self.hid_n * 3),\n",
    "            nn.ReLU(),\n",
    "            \n",
    "            nn.Linear(self.hid_n * 3, self.hid_n * 2),\n",
    "            # nn.BatchNorm1d(self.hid_n * 2),\n",
    "            nn.ReLU(),\n",
    "            nn.Linear(self.hid_n * 2, self.hid_n),\n",
    "            nn.BatchNorm1d(self.hid_n),\n",
    "            nn.ReLU(),\n",
    "            nn.Linear(self.hid_n, self.out_len),\n",
    "        )\n",
    "\n",
    "    def forward(self, x):\n",
    "        x = self.fcs(x)\n",
    "        return x"
   ]
  },
  {
   "cell_type": "markdown",
   "metadata": {},
   "source": [
    "## Define constants"
   ]
  },
  {
   "cell_type": "code",
   "execution_count": 4,
   "metadata": {},
   "outputs": [
    {
     "name": "stdout",
     "output_type": "stream",
     "text": [
      "dataset_name = 'W5_S20_L9000.csv'\n",
      "device = device(type='cuda')\n"
     ]
    }
   ],
   "source": [
    "# Paths\n",
    "p_main_data = Path(\"../data\")\n",
    "p_models = Path(\"../models\")\n",
    "\n",
    "p_scv_folder = p_main_data / \"csv_files\" # datasets_path\n",
    "p_img = p_main_data / \"images\"\n",
    "\n",
    "p_noised_imgs = p_main_data / \"imgs_with_noise\" \n",
    "\n",
    "p_filtered_images = p_main_data / \"filtered_imgs\"\n",
    "\n",
    "p_genuine_images = p_main_data / \"gray_images\"\n",
    "\n",
    "# Hyperparameters \n",
    "learning_rate = 0.005\n",
    "num_epoches = 2\n",
    "batch_size = 256\n",
    "\n",
    "# Dataset\n",
    "win_size = 5\n",
    "_step = 20\n",
    "\n",
    "dataset_name = get_dataset_name(win_size, _step, p_scv_folder) #r\"W5_S1_L3696640.csv\"\n",
    "device = torch.device(\"cuda\" if torch.cuda.is_available() else \"cpu\")\n",
    "print(f\"{dataset_name = }\\n{device = }\")"
   ]
  },
  {
   "cell_type": "markdown",
   "metadata": {},
   "source": [
    "## Initialize model"
   ]
  },
  {
   "cell_type": "code",
   "execution_count": 5,
   "metadata": {},
   "outputs": [],
   "source": [
    "model = DefaultModel(in_len=(win_size ** 2), out_len=1).to(device=device)\n",
    "criterion = nn.MSELoss()\n",
    "optimizer = optim.Adam(model.parameters(), lr=learning_rate)"
   ]
  },
  {
   "cell_type": "code",
   "execution_count": 6,
   "metadata": {},
   "outputs": [
    {
     "name": "stderr",
     "output_type": "stream",
     "text": [
      "31it [00:02, 13.33it/s]\n",
      "5it [00:00, 108.76it/s]\n",
      "31it [00:00, 60.79it/s]\n",
      "5it [00:00, 104.23it/s]\n"
     ]
    }
   ],
   "source": [
    "losses = []\n",
    "losses_append = losses.append\n",
    "\n",
    "valid_losses = []\n",
    "valid_losses_append = valid_losses.append\n",
    "\n",
    "for epoch in range(num_epoches):\n",
    "    model.train()\n",
    "    train_loader, test_loader = get_train_test_data(scv_folder=p_scv_folder, dataset_name=dataset_name, batch_size=batch_size, train_size=0.9)\n",
    "    for batch_ind, (data, targets) in tqdm(enumerate(train_loader)):\n",
    "        # Data on cuda\n",
    "        data = data.to(device=device)\n",
    "        targets = targets.to(device=device)\n",
    "        \n",
    "        # Forward\n",
    "        scores = model(data) # Equal to model.forward(data)\n",
    "        loss = criterion(scores, targets)\n",
    "        if batch_ind % 3 == 0:\n",
    "            losses_append(loss.item())\n",
    "        # Backprop\n",
    "        loss.backward()\n",
    "\n",
    "        # Gradient descent or adam step\n",
    "        optimizer.step()\n",
    "        optimizer.zero_grad()\n",
    "    model.eval()\n",
    "    with torch.no_grad():\n",
    "        for batch_ind, (data, targets) in tqdm(enumerate(test_loader)):\n",
    "            data = data.to(device=device)\n",
    "            targets = targets.to(device=device)\n",
    "            \n",
    "            # Forward\n",
    "            scores = model(data) # Equal to model.forward(data)\n",
    "            loss = criterion(scores, targets)\n",
    "            valid_losses_append(loss.item())\n",
    "\n"
   ]
  },
  {
   "cell_type": "code",
   "execution_count": 8,
   "metadata": {},
   "outputs": [
    {
     "data": {
      "image/png": "[encoded data removed]",
      "text/plain": [
       "<Figure size 864x432 with 2 Axes>"
      ]
     },
     "metadata": {},
     "output_type": "display_data"
    }
   ],
   "source": [
    "sns.set()\n",
    "fig, (ax_train, ax_test) = plt.subplots(nrows=1, ncols=2, figsize=(12, 6))\n",
    "fig.suptitle('Loss')\n",
    "\n",
    "ax_train.set_title(\"Train loss\")\n",
    "ax_test.set_title(\"Test loss\")\n",
    "\n",
    "ax_train.set_ylabel('Loss value')\n",
    "ax_test.set_ylabel('Loss value')\n",
    "\n",
    "ax_train.set_xlabel(\"k * Batch\")\n",
    "ax_test.set_xlabel(\"k * Batch\")\n",
    "\n",
    "sns.lineplot(data=losses, ax=ax_train, )\n",
    "sns.lineplot(data=valid_losses, ax=ax_test)\n",
    "\n",
    "plt.show()\n",
    "sns.set()"
   ]
  },
  {
   "cell_type": "code",
   "execution_count": null,
   "metadata": {},
   "outputs": [],
   "source": [
    "path_to_model = p_models / dataset_name\n",
    "torch.save(model, path_to_model)"
   ]
  },
  {
   "cell_type": "markdown",
   "metadata": {},
   "source": [
    "# Check NN works"
   ]
  },
  {
   "cell_type": "code",
   "execution_count": null,
   "metadata": {},
   "outputs": [],
   "source": [
    "list_images = listdir(p_noised_imgs)\n",
    "for img_name in list_images:\n",
    "    filtering_image(model, p_filtered_images, p_noised_imgs, img_name, win_size, device)"
   ]
  },
  {
   "cell_type": "code",
   "execution_count": null,
   "metadata": {},
   "outputs": [],
   "source": [
    "check_ssim(p_filtered_images, p_genuine_images)"
   ]
  },
  {
   "cell_type": "code",
   "execution_count": null,
   "metadata": {},
   "outputs": [],
   "source": [
    "model_name = \"also_good_modelW9_S1.csv\"\n",
    "load_model = 0\n",
    "if load_model:\n",
    "    model = torch.load(p_models / model_name)\n",
    "    "
   ]
  },
  {
   "cell_type": "code",
   "execution_count": null,
   "metadata": {},
   "outputs": [],
   "source": [
    "p_real_imgs = p_main_data / \"real_images\"\n",
    "p_raw_image = p_real_imgs / \"raw\"\n",
    "p_out_imgs = p_real_imgs / \"filtered\"\n",
    "\n",
    "list_images = listdir(p_raw_image)\n",
    "for img_name in list_images:\n",
    "    filtering_image(model, p_out_imgs, p_raw_image, img_name, win_size, device)"
   ]
  }
 ],
 "metadata": {
  "kernelspec": {
   "display_name": "Python 3.9.13 ('ml_venv_p39')",
   "language": "python",
   "name": "python3"
  },
  "language_info": {
   "codemirror_mode": {
    "name": "ipython",
    "version": 3
   },
   "file_extension": ".py",
   "mimetype": "text/x-python",
   "name": "python",
   "nbconvert_exporter": "python",
   "pygments_lexer": "ipython3",
   "version": "3.9.13"
  },
  "orig_nbformat": 4,
  "vscode": {
   "interpreter": {
    "hash": "4768d2f058c14b479e138ff57b58bdd686493c6bb5dedc1b4ea8047c7aed7072"
   }
  }
 },
 "nbformat": 4,
 "nbformat_minor": 2
}
