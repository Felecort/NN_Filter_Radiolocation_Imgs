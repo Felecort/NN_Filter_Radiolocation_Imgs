{
 "cells": [
  {
   "cell_type": "markdown",
   "metadata": {},
   "source": [
    "# Import modules"
   ]
  },
  {
   "cell_type": "code",
   "execution_count": null,
   "metadata": {
    "tags": []
   },
   "outputs": [],
   "source": [
    "# Data Handlers\n",
    "import pandas as pd\n",
    "import numpy as np\n",
    "from PIL import Image\n",
    "from PIL import ImageOps\n",
    "\n",
    "# Pytorch\n",
    "import torch\n",
    "import torch.nn as nn  # NN; networks (CNN, RNN, losses)\n",
    "import torch.optim as optim  # Optimizers (Adam, Adadelta, Adagrad)\n",
    "import torch.nn.functional as F\n",
    "from torch.utils.data import DataLoader, Dataset, IterableDataset  # Dataset manager\n",
    "\n",
    "# Other\n",
    "from tqdm import tqdm\n",
    "import os\n",
    "\n",
    "# Graphics\n",
    "from matplotlib import pyplot as plt\n",
    "import seaborn as sns\n",
    "\n",
    "# Additional modules\n",
    "from dataset_creator import generate_csv\n",
    "from math import floor\n",
    "\n",
    "sns.set()"
   ]
  },
  {
   "cell_type": "markdown",
   "metadata": {},
   "source": [
    "# Define constants"
   ]
  },
  {
   "cell_type": "code",
   "execution_count": null,
   "metadata": {},
   "outputs": [],
   "source": [
    "datasets_path = r\"..\\datasets\\csv_files\"\n",
    "img_path = r\"..\\datasets\\images\"\n",
    "models_path = r\"..\\models\""
   ]
  },
  {
   "cell_type": "markdown",
   "metadata": {},
   "source": [
    "# Generate Dataset"
   ]
  },
  {
   "cell_type": "code",
   "execution_count": null,
   "metadata": {},
   "outputs": [],
   "source": [
    "create_dataset = True\n",
    "if create_dataset:\n",
    "    generate_csv(win_size=11, dump_to_file=5000, step=5)"
   ]
  },
  {
   "cell_type": "markdown",
   "metadata": {},
   "source": [
    "# Create DataLoader"
   ]
  },
  {
   "cell_type": "code",
   "execution_count": null,
   "metadata": {},
   "outputs": [],
   "source": [
    "\"\"\" Will be done in the future \"\"\"\n",
    "# class CustomDataLoader:\n",
    "#     def __init__(self, datasets_path, dataset_name, batch_size, split_size, state) -> None:\n",
    "#         self.datasets_path = datasets_path\n",
    "#         self.dataset_name = dataset_name\n",
    "#         self.main_path = f\"{datasets_path}\\{dataset_name}\"\n",
    "        \n",
    "#         self.batch_size = batch_size\n",
    "#         self.split_size = split_size\n",
    "        \n",
    "#         self.test_batches, self.real_test_samples = self.get_test_amount()\n",
    "#         self.skip_rows = self.real_test_samples\n",
    "        \n",
    "#         self.state = state\n",
    "#         self.counter = 1\n",
    "\n",
    "#     def __iter__(self):\n",
    "#         if self.state == \"Train\":\n",
    "#             self.train = pd.read_csv(self.main_path, chunksize=self.batch_size,\n",
    "#                                     header=None, index_col=None, iterator=True)\n",
    "#             return self.train\n",
    "#         else:\n",
    "#             self.test = pd.read_csv(self.main_path, chunksize=self.batch_size,\n",
    "#                                     header=None, index_col=None, iterator=True,\n",
    "#                                     skiprows=self.skip_rows)\n",
    "#             return self.test\n",
    "\n",
    "#     def __next__(self):\n",
    "#         print(f\"{self.state = }, {self.test_batches = }\")\n",
    "#         if self.state == \"Train\":\n",
    "#             self.counter += 1\n",
    "#             if self.counter >= self.test_batches:\n",
    "#                 print(\"StopIteration\")\n",
    "#                 raise StopIteration\n",
    "            \n",
    "#             return self.chunk.get_chunk()\n",
    "#         return self.chunk.get_chunk()\n",
    "        \n",
    "\n",
    "#     def get_len_data(self ) -> int:\n",
    "#         idx_start = self.dataset_name.find(\"L\") + 1\n",
    "#         idx_finish = self.dataset_name.find(\".\")\n",
    "#         length = int(self.dataset_name[idx_start:idx_finish])\n",
    "#         return length\n",
    "    \n",
    "#     def get_test_amount(self) -> tuple:\n",
    "#         length = self.get_len_data()\n",
    "#         test_smaples = int(length * self.split_size)\n",
    "#         test_batches = floor(test_smaples / self.batch_size)\n",
    "#         real_test_samples = test_batches * self.batch_size\n",
    "#         print(f\"{length = }, {test_batches = }, {real_test_samples = }\")\n",
    "#         return test_batches, real_test_samples\n",
    "    \n",
    "    \n",
    "# train = CustomDataLoader(datasets_path=datasets_path,\n",
    "#                      dataset_name=\"tmp_L6.csv\",\n",
    "#                      batch_size=2,\n",
    "#                      split_size=0.5,\n",
    "#                      state=\"Train\")\n",
    "# test = CustomDataLoader(datasets_path=datasets_path,\n",
    "#                      dataset_name=\"tmp_L6.csv\",\n",
    "#                      batch_size=2,\n",
    "#                      split_size=0.5,\n",
    "#                      state=\"Test\")\n",
    "# for i in train:\n",
    "#     display(i)\n",
    "# print(\"=\" * 20)\n",
    "# for i in test:\n",
    "#     display(i)\n"
   ]
  },
  {
   "cell_type": "code",
   "execution_count": null,
   "metadata": {},
   "outputs": [],
   "source": [
    "class DefaultDL(Dataset):\n",
    "    def __init__(self, dataset_path, dataset_name):\n",
    "        super().__init__()\n",
    "        main_path = f\"{dataset_path}\\{dataset_name}\"\n",
    "        self.data = pd.read_csv(main_path, header=None)\n",
    "\n",
    "        target_ind = self.data.shape[1] - 1\n",
    "        self.data.rename(columns={target_ind: \"target\"}, inplace=True)\n",
    "\n",
    "        self.targets = self.data[\"target\"]\n",
    "        self.data.drop(columns=\"target\", inplace=True)\n",
    "\n",
    "    def __len__(self):\n",
    "        return self.data.shape[0]\n",
    "\n",
    "    def __getitem__(self, index):\n",
    "        x = torch.Tensor(self.data.iloc[index].to_numpy()).float()\n",
    "        y = torch.Tensor([self.targets.iloc[index]]).float()\n",
    "        return x, y"
   ]
  },
  {
   "cell_type": "markdown",
   "metadata": {},
   "source": [
    "## Load dataset"
   ]
  },
  {
   "cell_type": "code",
   "execution_count": null,
   "metadata": {},
   "outputs": [],
   "source": [
    "dataset_name = r\"W11_S5_L146410.csv\"\n",
    "win_size = 11\n",
    "batch_size = 64"
   ]
  },
  {
   "cell_type": "code",
   "execution_count": null,
   "metadata": {},
   "outputs": [],
   "source": [
    "dataset = DefaultDL(datasets_path, dataset_name)"
   ]
  },
  {
   "cell_type": "code",
   "execution_count": null,
   "metadata": {},
   "outputs": [],
   "source": [
    "train_size = int(dataset.__len__() * 0.8)\n",
    "test_size = dataset.__len__() - train_size\n",
    "print(f\"{train_size = }\\n{test_size = },\\n{train_size + test_size = }\")"
   ]
  },
  {
   "cell_type": "code",
   "execution_count": null,
   "metadata": {},
   "outputs": [],
   "source": [
    "train_set, test_set = torch.utils.data.random_split(dataset, [train_size, test_size])\n",
    "train_loader = DataLoader(dataset=train_set, batch_size=batch_size, shuffle=True)\n",
    "test_loader = DataLoader(dataset=test_set, batch_size=batch_size, shuffle=True)"
   ]
  },
  {
   "cell_type": "markdown",
   "metadata": {},
   "source": [
    "# NN Model"
   ]
  },
  {
   "cell_type": "code",
   "execution_count": null,
   "metadata": {},
   "outputs": [],
   "source": [
    "class DefaultModel(nn.Module):\n",
    "    def __init__(self, in_len, out_len) -> None:\n",
    "        super().__init__()\n",
    "        self.in_len = in_len\n",
    "        self.out_len = out_len\n",
    "        self.hid_n = 200\n",
    "        \n",
    "        self.fcs = nn.Sequential(\n",
    "            nn.Linear(self.in_len, self.hid_n),\n",
    "            nn.BatchNorm1d(self.hid_n),\n",
    "            nn.ReLU(),\n",
    "            nn.Linear(self.hid_n, self.hid_n),\n",
    "            nn.BatchNorm1d(self.hid_n),\n",
    "            nn.ReLU(),\n",
    "            nn.Linear(self.hid_n, self.out_len)\n",
    "        )\n",
    "\n",
    "    def forward(self, x):\n",
    "        x = self.fcs(x)\n",
    "        return x"
   ]
  },
  {
   "cell_type": "markdown",
   "metadata": {},
   "source": [
    "## Define NN's constants"
   ]
  },
  {
   "cell_type": "code",
   "execution_count": null,
   "metadata": {},
   "outputs": [],
   "source": [
    "device = torch.device(\"cuda\" if torch.cuda.is_available() else \"cpu\")\n",
    "learning_rate = 0.001\n",
    "num_epoches = 1"
   ]
  },
  {
   "cell_type": "markdown",
   "metadata": {},
   "source": [
    "## Initialize model"
   ]
  },
  {
   "cell_type": "code",
   "execution_count": null,
   "metadata": {},
   "outputs": [],
   "source": [
    "model = DefaultModel(in_len=(win_size ** 2), out_len=1).to(device=device)\n",
    "\n",
    "criterion = nn.MSELoss()\n",
    "optimizer = optim.Adam(model.parameters(), lr=learning_rate)"
   ]
  },
  {
   "cell_type": "code",
   "execution_count": null,
   "metadata": {},
   "outputs": [],
   "source": [
    "losses = []\n",
    "losses_append = losses.append\n",
    "\n",
    "for epoch in range(num_epoches):\n",
    "    for batch_ind, (data, targets) in tqdm(enumerate(train_loader)):\n",
    "        # Data on cuda\n",
    "        data = data.to(device=device)\n",
    "        targets = targets.to(device=device)\n",
    "        \n",
    "        # Forward\n",
    "        scores = model(data) # Equal to model.forward(data)\n",
    "        loss = criterion(scores, targets)\n",
    "        if batch_ind % 3 == 0:\n",
    "            losses_append(loss.item())\n",
    "        # Backprop\n",
    "        optimizer.zero_grad()\n",
    "        loss.backward()\n",
    "\n",
    "        # Gradient descent or adam step\n",
    "        optimizer.step()"
   ]
  },
  {
   "cell_type": "code",
   "execution_count": null,
   "metadata": {},
   "outputs": [],
   "source": [
    "sns.set(rc={\"figure.figsize\": (10, 8)})\n",
    "plt.plot(losses);"
   ]
  },
  {
   "cell_type": "code",
   "execution_count": null,
   "metadata": {},
   "outputs": [],
   "source": [
    "losses[50]"
   ]
  },
  {
   "cell_type": "code",
   "execution_count": null,
   "metadata": {},
   "outputs": [],
   "source": [
    "plt.plot(losses[:10]);"
   ]
  },
  {
   "cell_type": "code",
   "execution_count": null,
   "metadata": {},
   "outputs": [],
   "source": [
    "checkpoint = {\"state_dict\": model.state_dict(),\n",
    "              \"optimizer\": optimizer.state_dict(),\n",
    "              'loss': loss}\n",
    "torch.save(checkpoint, f\"{models_path}\\DefaultModel_{win_size}_S5.pt\")\n"
   ]
  },
  {
   "cell_type": "code",
   "execution_count": null,
   "metadata": {},
   "outputs": [],
   "source": [
    "from image_processing import add_noise\n",
    "from os import listdir\n",
    "\n",
    "src_images = r\"D:\\projects\\NIR\\datasets\\images\"\n",
    "imgs_with_noise = r\"D:\\projects\\NIR\\datasets\\imgs_with_noise\"\n",
    "\n",
    "for image_name in listdir(src_images):\n",
    "    img = ImageOps.grayscale(Image.open(f\"{src_images}\\{image_name}\"))\n",
    "    # img.show()\n",
    "    img = np.array(img)\n",
    "    \n",
    "    img = add_noise(img)\n",
    "    img = img.astype(np.uint8)\n",
    "    img = Image.fromarray(img)\n",
    "    # img.show()\n",
    "    # break\n",
    "    img.save(f\"{imgs_with_noise}\\{image_name}\")\n"
   ]
  },
  {
   "cell_type": "code",
   "execution_count": null,
   "metadata": {},
   "outputs": [],
   "source": []
  }
 ],
 "metadata": {
  "kernelspec": {
   "display_name": "Python 3.10.2 ('ml_venv')",
   "language": "python",
   "name": "python3"
  },
  "language_info": {
   "codemirror_mode": {
    "name": "ipython",
    "version": 3
   },
   "file_extension": ".py",
   "mimetype": "text/x-python",
   "name": "python",
   "nbconvert_exporter": "python",
   "pygments_lexer": "ipython3",
   "version": "3.10.2"
  },
  "orig_nbformat": 4,
  "vscode": {
   "interpreter": {
    "hash": "1345970e3d8bf11d685f4ade4f14a67e79c9137f0b88fc7a036cb12d34f3f571"
   }
  }
 },
 "nbformat": 4,
 "nbformat_minor": 2
}
