{
 "cells": [
  {
   "cell_type": "markdown",
   "metadata": {},
   "source": [
    "# Import modules"
   ]
  },
  {
   "cell_type": "code",
   "execution_count": 23,
   "metadata": {},
   "outputs": [],
   "source": [
    "import pandas as pd\n",
    "import numpy as np\n",
    "import os\n",
    "from PIL import Image\n",
    "from PIL import ImageOps\n",
    "from tqdm import tqdm\n",
    "import torch\n",
    "import torch.nn as nn  # NN networks (CNN, RNN, losses)\n",
    "import torch.optim as optim  # Aptimizers (Adam, Adadelta, Adagrad)\n",
    "import torch.nn.functional as F\n",
    "from torch.utils.data import DataLoader, Dataset  # Dataset manager\n",
    "from matplotlib import pyplot as plt\n",
    "import seaborn as sns\n",
    "sns.set()\n",
    "\n",
    "from from_imgs_to_csv import generate_csv"
   ]
  },
  {
   "cell_type": "markdown",
   "metadata": {},
   "source": [
    "# Generate Dataset"
   ]
  },
  {
   "cell_type": "code",
   "execution_count": 2,
   "metadata": {},
   "outputs": [],
   "source": [
    "create_dataset = False\n",
    "if create_dataset:\n",
    "    generate_csv(win_size=9, dump_to_file=1000, dataset_name=\"test_dataset\")"
   ]
  },
  {
   "cell_type": "markdown",
   "metadata": {},
   "source": [
    "# Define constants"
   ]
  },
  {
   "cell_type": "code",
   "execution_count": 3,
   "metadata": {},
   "outputs": [],
   "source": [
    "datasets_path = r\"..\\datasets\\csv_files\"\n",
    "img_path = r\"..\\datasets\\images\"\n",
    "models_path = r\"..\\models\""
   ]
  },
  {
   "cell_type": "markdown",
   "metadata": {},
   "source": [
    "# Create DataLoader"
   ]
  },
  {
   "cell_type": "code",
   "execution_count": 4,
   "metadata": {},
   "outputs": [],
   "source": [
    "class NoisedImgs(Dataset):\n",
    "    def __init__(self, dataset_path):\n",
    "        super().__init__()\n",
    "\n",
    "        self.data = pd.read_csv(dataset_path, header=None)\n",
    "\n",
    "        target_ind = self.data.shape[1] - 1\n",
    "        self.data.rename(columns={target_ind: \"target\"}, inplace=True)\n",
    "\n",
    "        self.targets = self.data[\"target\"]\n",
    "        self.data.drop(columns=\"target\", inplace=True)\n",
    "\n",
    "    def __len__(self):\n",
    "        return self.data.shape[0]\n",
    "\n",
    "    def __getitem__(self, index):\n",
    "        x = torch.Tensor(self.data.iloc[index].to_numpy()).float()\n",
    "        y = torch.Tensor([self.targets.iloc[index]]).float()\n",
    "        return x, y\n"
   ]
  },
  {
   "cell_type": "markdown",
   "metadata": {},
   "source": [
    "## Load dataset"
   ]
  },
  {
   "cell_type": "code",
   "execution_count": 5,
   "metadata": {},
   "outputs": [],
   "source": [
    "win_dataset = 7\n",
    "dataset = NoisedImgs(f\"{datasets_path}\\data_win{win_dataset}.csv\")\n",
    "batch_size = 256"
   ]
  },
  {
   "cell_type": "code",
   "execution_count": 6,
   "metadata": {},
   "outputs": [
    {
     "name": "stdout",
     "output_type": "stream",
     "text": [
      "train_size = 2957312\n",
      "test_size = 739328,\n",
      "train_size + test_size = 3696640\n"
     ]
    }
   ],
   "source": [
    "train_size = int(dataset.__len__() * 0.8)\n",
    "test_size = dataset.__len__() - train_size\n",
    "print(f\"{train_size = }\\n{test_size = },\\n{train_size + test_size = }\")"
   ]
  },
  {
   "cell_type": "code",
   "execution_count": 7,
   "metadata": {},
   "outputs": [
    {
     "name": "stderr",
     "output_type": "stream",
     "text": [
      "d:\\projects\\.venvs\\ml_venv\\lib\\site-packages\\torch\\utils\\data\\dataset.py:313: UserWarning: Failed to initialize NumPy: module compiled against API version 0x10 but this version of numpy is 0xf (Triggered internally at  ..\\torch\\csrc\\utils\\tensor_numpy.cpp:68.)\n",
      "  indices = randperm(sum(lengths), generator=generator).tolist()\n"
     ]
    }
   ],
   "source": [
    "train_set, test_set = torch.utils.data.random_split(dataset, [train_size, test_size])\n",
    "train_loader = DataLoader(dataset=train_set, batch_size=batch_size, shuffle=True)\n",
    "test_loader = DataLoader(dataset=test_set, batch_size=batch_size, shuffle=True)"
   ]
  },
  {
   "cell_type": "markdown",
   "metadata": {},
   "source": [
    "# NN Model"
   ]
  },
  {
   "cell_type": "code",
   "execution_count": 8,
   "metadata": {},
   "outputs": [],
   "source": [
    "class SimpleNN(nn.Module):\n",
    "    def __init__(self, in_len, out_len) -> None:\n",
    "        super().__init__()\n",
    "        self.in_len = in_len\n",
    "        self.out_len = out_len\n",
    "        self.hid_n = 200\n",
    "        \n",
    "        self.fcs = nn.Sequential(\n",
    "            nn.Linear(self.in_len, self.hid_n),\n",
    "            nn.BatchNorm1d(self.hid_n),\n",
    "            nn.ReLU(),\n",
    "            nn.Linear(self.hid_n, self.hid_n),\n",
    "            nn.BatchNorm1d(self.hid_n),\n",
    "            nn.ReLU(),\n",
    "            nn.Linear(self.hid_n, self.out_len)\n",
    "        )\n",
    "\n",
    "    def forward(self, x):\n",
    "        x = self.fcs(x)\n",
    "        return x"
   ]
  },
  {
   "cell_type": "markdown",
   "metadata": {},
   "source": [
    "## Define NN's constants"
   ]
  },
  {
   "cell_type": "code",
   "execution_count": 9,
   "metadata": {},
   "outputs": [],
   "source": [
    "device = torch.device(\"cuda\" if torch.cuda.is_available() else \"cpu\")\n",
    "learning_rate = 0.001\n",
    "num_epoches = 1"
   ]
  },
  {
   "cell_type": "markdown",
   "metadata": {},
   "source": [
    "## Initialize model"
   ]
  },
  {
   "cell_type": "code",
   "execution_count": 18,
   "metadata": {},
   "outputs": [],
   "source": [
    "model = SimpleNN(in_len=(win_dataset ** 2), out_len=1).to(device=device)\n",
    "\n",
    "criterion = nn.MSELoss()\n",
    "optimizer = optim.Adam(model.parameters(), lr=learning_rate)"
   ]
  },
  {
   "cell_type": "code",
   "execution_count": 19,
   "metadata": {},
   "outputs": [],
   "source": [
    "losses = []\n",
    "losses_append = losses.append\n",
    "\n",
    "for epoch in range(num_epoches):\n",
    "    for batch_ind, (data, targets) in enumerate(train_loader):\n",
    "        # Data on cude\n",
    "        data = data.to(device=device)\n",
    "        targets = targets.to(device=device)\n",
    "        \n",
    "        # Forward\n",
    "        scores = model(data) # Equal to model.forward(data)\n",
    "        loss = criterion(scores, targets)\n",
    "        if batch_ind % 100 == 0:\n",
    "            losses_append(loss.item())\n",
    "        # Backprop\n",
    "        optimizer.zero_grad()\n",
    "        loss.backward()\n",
    "\n",
    "        # Gradient descent or adam step\n",
    "        optimizer.step()"
   ]
  },
  {
   "cell_type": "code",
   "execution_count": 30,
   "metadata": {},
   "outputs": [
    {
     "data": {
      "image/png": "[encoded data removed]",
      "text/plain": [
       "<Figure size 432x288 with 1 Axes>"
      ]
     },
     "metadata": {},
     "output_type": "display_data"
    }
   ],
   "source": [
    "plt.plot(losses);"
   ]
  },
  {
   "cell_type": "code",
   "execution_count": 29,
   "metadata": {},
   "outputs": [
    {
     "data": {
      "image/png": "[encoded data removed]",
      "text/plain": [
       "<Figure size 432x288 with 1 Axes>"
      ]
     },
     "metadata": {},
     "output_type": "display_data"
    }
   ],
   "source": [
    "plt.plot(losses[:6]);"
   ]
  },
  {
   "cell_type": "code",
   "execution_count": 20,
   "metadata": {},
   "outputs": [],
   "source": [
    "checkpoint = {\"state_dict\": model.state_dict(),\n",
    "              \"optimizer\": optimizer.state_dict(),\n",
    "              'loss': loss}\n",
    "# torch.save(checkpoint, f\"{models_path}\\DenseModel.pt\")\n"
   ]
  },
  {
   "cell_type": "code",
   "execution_count": null,
   "metadata": {},
   "outputs": [],
   "source": []
  }
 ],
 "metadata": {
  "kernelspec": {
   "display_name": "Python 3.10.2 ('ml_venv')",
   "language": "python",
   "name": "python3"
  },
  "language_info": {
   "codemirror_mode": {
    "name": "ipython",
    "version": 3
   },
   "file_extension": ".py",
   "mimetype": "text/x-python",
   "name": "python",
   "nbconvert_exporter": "python",
   "pygments_lexer": "ipython3",
   "version": "3.10.2"
  },
  "orig_nbformat": 4,
  "vscode": {
   "interpreter": {
    "hash": "1345970e3d8bf11d685f4ade4f14a67e79c9137f0b88fc7a036cb12d34f3f571"
   }
  }
 },
 "nbformat": 4,
 "nbformat_minor": 2
}
