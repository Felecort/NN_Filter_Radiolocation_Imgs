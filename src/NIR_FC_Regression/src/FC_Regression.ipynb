{
 "cells": [
  {
   "cell_type": "code",
   "execution_count": 54,
   "metadata": {},
   "outputs": [],
   "source": [
    "# Data Handlers\n",
    "import numpy as np\n",
    "\n",
    "# Pytorch\n",
    "import torch\n",
    "import torch.nn as nn\n",
    "import torch.optim as optim\n",
    "\n",
    "# Other\n",
    "from pathlib import Path\n",
    "from os import listdir\n",
    "from time import time\n",
    "from sklearn.preprocessing import OneHotEncoder\n",
    "from PIL import Image, ImageOps\n",
    "\n",
    "# Graphics\n",
    "from matplotlib import pyplot as plt\n",
    "import seaborn as sns\n",
    "\n",
    "# Additional modules\n",
    "from dataset_creator import generate_unshuffled_csv\n",
    "from assistive_funcs import filtering_image, check_ssim, check_gmsd\n",
    "from csv_dataloader import get_train_test_small_data\n",
    "from image_processing import add_noise"
   ]
  },
  {
   "cell_type": "code",
   "execution_count": 55,
   "metadata": {},
   "outputs": [
    {
     "data": {
      "text/plain": [
       "device(type='cuda')"
      ]
     },
     "execution_count": 55,
     "metadata": {},
     "output_type": "execute_result"
    }
   ],
   "source": [
    "# Paths\n",
    "p_main_data = Path(\"../data\")\n",
    "p_models = Path(\"../models\")\n",
    "\n",
    "p_scv_folder = p_main_data / \"csv_files\"\n",
    "\n",
    "p_train_images = p_main_data / \"train\"\n",
    "p_test_images = p_main_data / \"test\"\n",
    "\n",
    "p_train_noised_images = p_main_data / \"train_noised\"\n",
    "p_test_noised_images = p_main_data / \"test_noised\"\n",
    "\n",
    "p_train_filtered_images = p_main_data / \"train_filtered\"\n",
    "p_test_filtered_images = p_main_data / \"test_filtered\"\n",
    "\n",
    "device = torch.device(\"cuda\" if torch.cuda.is_available() else \"cpu\")\n",
    "device"
   ]
  },
  {
   "cell_type": "code",
   "execution_count": 56,
   "metadata": {},
   "outputs": [],
   "source": [
    "# Dataset\n",
    "win_size = 5\n",
    "step = 3\n",
    "create_dataset = 1\n",
    "train_dataset_name = f\"train_W{win_size}_S{step}.csv\""
   ]
  },
  {
   "cell_type": "code",
   "execution_count": 57,
   "metadata": {},
   "outputs": [
    {
     "name": "stdout",
     "output_type": "stream",
     "text": [
      "img: 10/10\n",
      "Samples: 340818\n"
     ]
    }
   ],
   "source": [
    "# Train dataset\n",
    "if create_dataset:\n",
    "    generate_unshuffled_csv(win_size=win_size, dump_to_file=100000, step=step,\n",
    "                 img_path=p_train_images,\n",
    "                 datasets_path=p_scv_folder,\n",
    "                 noise_imgs_path=p_train_noised_images,\n",
    "                 dataset_name=train_dataset_name,\n",
    "                 force_create_dataset=1)"
   ]
  },
  {
   "cell_type": "code",
   "execution_count": 58,
   "metadata": {},
   "outputs": [],
   "source": [
    "test_img_names = listdir(p_test_images)\n",
    "for name in test_img_names:\n",
    "    img = np.array(ImageOps.grayscale(Image.open(p_test_images / name)))\n",
    "    noised_img = add_noise(img)\n",
    "    Image.fromarray(noised_img.astype(np.uint8)).save(p_test_noised_images / name)"
   ]
  },
  {
   "cell_type": "code",
   "execution_count": 59,
   "metadata": {},
   "outputs": [],
   "source": [
    "class FCBlock(nn.Module):\n",
    "    def __init__(self, in_len, out_len, p_dropout=False) -> None:\n",
    "        super().__init__()\n",
    "        if p_dropout:\n",
    "            self.fc_block = nn.Sequential(\n",
    "                nn.Linear(in_len, out_len),\n",
    "                nn.Dropout(p_dropout),\n",
    "                nn.ReLU(),\n",
    "            )\n",
    "        else:\n",
    "            self.fc_block = nn.Sequential(\n",
    "                nn.Linear(in_len, out_len),\n",
    "                nn.BatchNorm1d(out_len),\n",
    "                nn.ReLU(),\n",
    "            )\n",
    "    \n",
    "    def forward(self, x):\n",
    "        return self.fc_block(x)"
   ]
  },
  {
   "cell_type": "code",
   "execution_count": 60,
   "metadata": {},
   "outputs": [],
   "source": [
    "class DefaultModel(nn.Module):\n",
    "    def __init__(self, in_len, out_len) -> None:\n",
    "        super().__init__()\n",
    "        double_in_len = in_len * 2\n",
    "        triple_in_len = in_len * 3\n",
    "\n",
    "        self.structure = nn.Sequential(\n",
    "            FCBlock(in_len, in_len,               p_dropout=0),\n",
    "            FCBlock(in_len, double_in_len,        p_dropout=0),\n",
    "            FCBlock(double_in_len, double_in_len, p_dropout=0),\n",
    "            FCBlock(double_in_len, double_in_len, p_dropout=0),\n",
    "            FCBlock(double_in_len, double_in_len, p_dropout=0),\n",
    "            FCBlock(double_in_len, double_in_len, p_dropout=0),\n",
    "            nn.Linear(double_in_len, out_len),\n",
    "        )\n",
    "\n",
    "    def forward(self, x):\n",
    "        x = self.structure(x)\n",
    "        return x"
   ]
  },
  {
   "cell_type": "code",
   "execution_count": 61,
   "metadata": {},
   "outputs": [],
   "source": [
    "class FitModel():\n",
    "    def __init__(self, model, criterion, optimizer, scheduler,\n",
    "                 p_scv_folder, train_dataset_name,\n",
    "                 batch_size, device, num_epoches, normalize_data):\n",
    "        # Model\n",
    "        self.model = model\n",
    "        self.criterion = criterion\n",
    "        self.optimizer = optimizer\n",
    "        self.scheduler = scheduler\n",
    "        \n",
    "        # Params\n",
    "        self.num_epoches = num_epoches\n",
    "        self.batch_size = batch_size\n",
    "        self.device = device  \n",
    "        \n",
    "        # Folders\n",
    "        self.p_scv_folder = p_scv_folder\n",
    "        self.train_dataset_name = train_dataset_name\n",
    "        \n",
    "        # Flags\n",
    "        self.normalize_data = normalize_data\n",
    "        \n",
    "        # Constants\n",
    "        self.train_losses = []\n",
    "        self.valid_losses = []\n",
    "        self.images_filtered = False\n",
    "        \n",
    "\n",
    "\n",
    "    def _train(self, current_epoch):\n",
    "        total_loss = []\n",
    "        start_time = time()\n",
    "        self.model.train()\n",
    "        for data, targets in self.train_loader:\n",
    "            \n",
    "            data = data.to(device=self.device)\n",
    "            targets = targets.to(device=self.device)\n",
    "            if self.normalize_data:\n",
    "                data /= 255\n",
    "                targets /= 255\n",
    "            \n",
    "            scores = self.model(data)\n",
    "            loss = self.criterion(scores, targets)\n",
    "            loss.backward()\n",
    "           \n",
    "            self.optimizer.step()\n",
    "            self.optimizer.zero_grad()\n",
    "            \n",
    "            total_loss.append(loss.item())\n",
    "        \n",
    "        mean_total_loss = np.mean(total_loss)\n",
    "        self.train_losses.append(mean_total_loss)\n",
    "        print(f\"Epoch: {current_epoch}/{self.num_epoches}, time: {int(time() - start_time)}s, lr = {self.scheduler.get_last_lr()}\\n\\tTrain loss: {mean_total_loss}\")\n",
    "        \n",
    "    def _valid(self, current_epoch):\n",
    "        total_loss = []\n",
    "\n",
    "        self.model.eval()\n",
    "        with torch.no_grad():\n",
    "            for data, targets in self.valid_loader:\n",
    "                \n",
    "                data = data.to(device=self.device)\n",
    "                targets = targets.to(device=self.device)\n",
    "                if self.normalize_data:\n",
    "                    data /= 255\n",
    "                    targets /= 255\n",
    "                # Forward\n",
    "                scores = self.model(data)\n",
    "                loss = self.criterion(scores, targets)\n",
    "                total_loss.append(loss.item())\n",
    "        \n",
    "        mean_total_loss = np.mean(total_loss)\n",
    "        self.valid_losses.append(mean_total_loss)\n",
    "        print(f\"\\tValid loss: {mean_total_loss}\")\n",
    "    \n",
    "    def fit(self):\n",
    "        self.train_loader, self.valid_loader = get_train_test_small_data(scv_folder=self.p_scv_folder, dataset_name=self.train_dataset_name,\n",
    "                                                        batch_size=self.batch_size, split=True)\n",
    "        for epoch in range(self.num_epoches):\n",
    "            self._train(epoch + 1)\n",
    "            self._valid(epoch + 1)\n",
    "            if self.scheduler is not None:\n",
    "                self.scheduler.step()\n",
    "                \n",
    "    def plot_graph(self):\n",
    "        sns.set()\n",
    "        fig, (ax_train, ax_test) = plt.subplots(nrows=1, ncols=2, figsize=(12, 6))\n",
    "        fig.suptitle('Loss')\n",
    "\n",
    "        ax_train.set_title(\"Train loss\")\n",
    "        ax_test.set_title(\"Valid loss\")\n",
    "\n",
    "        ax_train.set_ylabel('Loss value')\n",
    "        ax_test.set_ylabel('Loss value')\n",
    "\n",
    "        ax_train.set_xlabel(\"Batch\")\n",
    "        ax_test.set_xlabel(\"Batch\")\n",
    "\n",
    "        sns.lineplot(data=self.train_losses, ax=ax_train)\n",
    "        sns.lineplot(data=self.valid_losses, ax=ax_test)\n",
    "\n",
    "        plt.show()\n",
    "    \n",
    "    def filtering_all_images(self):\n",
    "        self.images_filtered = True\n",
    "        images_names = listdir(p_test_noised_images)\n",
    "        for name in images_names:\n",
    "            filtering_image(self.model, p_test_filtered_images, p_test_noised_images, name, win_size, self.device, normalize_data=self.normalize_data)\n",
    "        \n",
    "    @staticmethod\n",
    "    def _check_filtering(p_target_images, p_original_images):\n",
    "        ssim_metric = []\n",
    "        gmsd_metric = []\n",
    "        images_names = listdir(p_target_images)\n",
    "        for name in images_names:\n",
    "            ssim_metric.append(round(check_ssim(p_target_images, p_original_images, name), 3))\n",
    "            gmsd_metric.append(round(check_gmsd(p_target_images, p_original_images, name), 3))\n",
    "        return ssim_metric, gmsd_metric\n",
    "        # print(f\"SSIM avg: {sum(ssim_metric) / len(ssim_metric)}\")\n",
    "        # print(f\"GMSD avg: {sum(gmsd_metric) / len(gmsd_metric)}\")\n",
    "    \n",
    "    def check_metrics(self, verbose):\n",
    "        if not self.images_filtered:\n",
    "            print(\"Warning: images weren't filtered\")\n",
    "        metrics_after_filtering = self._check_filtering(p_test_filtered_images, p_test_images)\n",
    "        metrics_befor_filtering = self._check_filtering(p_test_noised_images, p_test_images)\n",
    "        if verbose:\n",
    "            print(f\"After filtering\\n\\tSSIM: {metrics_after_filtering[0]}\\n\\tGMSD: {metrics_after_filtering[1]}\")\n",
    "            print(f\"Before filtering\\n\\tSSIM: {metrics_befor_filtering[0]}\\n\\tGMSD: {metrics_befor_filtering[1]}\")\n",
    "        else:\n",
    "            print(f\"After filtering\\n\\tSSIM: {np.mean(metrics_after_filtering[0]):.3f}\\n\\tGMSD: {np.mean(metrics_after_filtering[1]):.3f}\")\n",
    "            print(f\"Before filtering\\n\\tSSIM: {np.mean(metrics_befor_filtering[0]):.3f}\\n\\tGMSD: {np.mean(metrics_befor_filtering[1]):.3f}\")\n",
    "        "
   ]
  },
  {
   "cell_type": "code",
   "execution_count": 62,
   "metadata": {},
   "outputs": [],
   "source": [
    "# Hyperparameters \n",
    "learning_rate = 0.1\n",
    "num_epoches = 15\n",
    "batch_size = 1024\n",
    "normalize_data = True\n",
    "\n",
    "\n",
    "model = DefaultModel(in_len=(win_size ** 2), out_len=1).to(device=device)\n",
    "# criterion = nn.L1Loss()\n",
    "optimizer = optim.Adam(model.parameters(), lr=learning_rate)\n",
    "scheduler = optim.lr_scheduler.MultiStepLR(optimizer, milestones=[5, 8, 11], gamma=0.1) # StepLR\n",
    "# scheduler = None\n",
    "\n",
    "if normalize_data:\n",
    "    criterion = nn.MSELoss()\n",
    "else:\n",
    "    criterion = nn.L1Loss()\n",
    "\n",
    "fit_model = FitModel(model, criterion, optimizer, scheduler,\n",
    "                     p_scv_folder, train_dataset_name,\n",
    "                     batch_size, device, num_epoches,\n",
    "                     normalize_data)"
   ]
  },
  {
   "cell_type": "code",
   "execution_count": 63,
   "metadata": {},
   "outputs": [
    {
     "name": "stdout",
     "output_type": "stream",
     "text": [
      "Epoch: 1/15, time: 4s, lr = [0.1]\n",
      "\tTrain loss: 0.05139898375541753\n",
      "\tValid loss: 0.02143101105049475\n",
      "Epoch: 2/15, time: 4s, lr = [0.1]\n",
      "\tTrain loss: 0.02625660467823123\n",
      "\tValid loss: 0.025720956248801146\n",
      "Epoch: 3/15, time: 3s, lr = [0.1]\n",
      "\tTrain loss: 0.026508514612410845\n",
      "\tValid loss: 0.02599284692264315\n",
      "Epoch: 4/15, time: 3s, lr = [0.1]\n",
      "\tTrain loss: 0.026268805757388193\n",
      "\tValid loss: 0.028608362232126407\n",
      "Epoch: 5/15, time: 4s, lr = [0.1]\n",
      "\tTrain loss: 0.02497523906553506\n",
      "\tValid loss: 0.029746816368467772\n",
      "Epoch: 6/15, time: 3s, lr = [0.010000000000000002]\n",
      "\tTrain loss: 0.019576874941810686\n",
      "\tValid loss: 0.018491439771518778\n",
      "Epoch: 7/15, time: 3s, lr = [0.010000000000000002]\n",
      "\tTrain loss: 0.019584768197119014\n",
      "\tValid loss: 0.01859825304639873\n",
      "Epoch: 8/15, time: 3s, lr = [0.010000000000000002]\n",
      "\tTrain loss: 0.019642583202668342\n",
      "\tValid loss: 0.0184538496741608\n",
      "Epoch: 9/15, time: 3s, lr = [0.0010000000000000002]\n",
      "\tTrain loss: 0.018624398459711772\n",
      "\tValid loss: 0.01734019405861844\n",
      "Epoch: 10/15, time: 4s, lr = [0.0010000000000000002]\n",
      "\tTrain loss: 0.01858960043931945\n",
      "\tValid loss: 0.017333749334202772\n",
      "Epoch: 11/15, time: 4s, lr = [0.0010000000000000002]\n",
      "\tTrain loss: 0.018584246185611695\n",
      "\tValid loss: 0.017333730026634773\n",
      "Epoch: 12/15, time: 4s, lr = [0.00010000000000000003]\n",
      "\tTrain loss: 0.018431992692112476\n",
      "\tValid loss: 0.017329852833454288\n",
      "Epoch: 13/15, time: 4s, lr = [0.00010000000000000003]\n",
      "\tTrain loss: 0.01842667330544763\n",
      "\tValid loss: 0.017331601370737623\n",
      "Epoch: 14/15, time: 4s, lr = [0.00010000000000000003]\n",
      "\tTrain loss: 0.018425033466144002\n",
      "\tValid loss: 0.01733338663271114\n",
      "Epoch: 15/15, time: 4s, lr = [0.00010000000000000003]\n",
      "\tTrain loss: 0.018423167339871437\n",
      "\tValid loss: 0.017333777343381696\n"
     ]
    }
   ],
   "source": [
    "fit_model.fit()"
   ]
  },
  {
   "cell_type": "code",
   "execution_count": 64,
   "metadata": {},
   "outputs": [
    {
     "data": {
      "image/png": "[encoded data removed]",
      "text/plain": [
       "<Figure size 1200x600 with 2 Axes>"
      ]
     },
     "metadata": {},
     "output_type": "display_data"
    }
   ],
   "source": [
    "fit_model.plot_graph()"
   ]
  },
  {
   "cell_type": "code",
   "execution_count": 65,
   "metadata": {},
   "outputs": [
    {
     "name": "stderr",
     "output_type": "stream",
     "text": [
      "100%|██████████| 608/608 [00:01<00:00, 363.84it/s]\n",
      "100%|██████████| 150/150 [00:00<00:00, 412.32it/s]\n",
      "100%|██████████| 201/201 [00:00<00:00, 490.53it/s]\n",
      "100%|██████████| 608/608 [00:01<00:00, 363.84it/s]\n"
     ]
    }
   ],
   "source": [
    "fit_model.filtering_all_images()"
   ]
  },
  {
   "cell_type": "code",
   "execution_count": 66,
   "metadata": {},
   "outputs": [
    {
     "name": "stdout",
     "output_type": "stream",
     "text": [
      "After filtering\n",
      "\tSSIM: 0.806\n",
      "\tGMSD: 0.065\n",
      "Before filtering\n",
      "\tSSIM: 0.734\n",
      "\tGMSD: 0.088\n"
     ]
    }
   ],
   "source": [
    "fit_model.check_metrics()"
   ]
  }
 ],
 "metadata": {
  "kernelspec": {
   "display_name": "3.9_venv",
   "language": "python",
   "name": "python3"
  },
  "language_info": {
   "codemirror_mode": {
    "name": "ipython",
    "version": 3
   },
   "file_extension": ".py",
   "mimetype": "text/x-python",
   "name": "python",
   "nbconvert_exporter": "python",
   "pygments_lexer": "ipython3",
   "version": "3.9.13"
  },
  "orig_nbformat": 4,
  "vscode": {
   "interpreter": {
    "hash": "88cdb296fa45150573a7479e53c46514a0e326ba4c5c7ce7e99a342aad6ba12b"
   }
  }
 },
 "nbformat": 4,
 "nbformat_minor": 2
}
