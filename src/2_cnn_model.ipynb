{
 "cells": [
  {
   "cell_type": "code",
   "execution_count": 12,
   "metadata": {},
   "outputs": [],
   "source": [
    "# Data Handlers\n",
    "import pandas as pd\n",
    "import numpy as np\n",
    "from PIL import Image\n",
    "from PIL import ImageOps\n",
    "\n",
    "# Pytorch\n",
    "import torch\n",
    "import torch.nn as nn  # NN; networks (CNN, RNN, losses)\n",
    "import torch.optim as optim  # Optimizers (Adam, Adadelta, Adagrad)\n",
    "import torch.nn.functional as F\n",
    "import torchvision\n",
    "import torchvision.transforms as transforms\n",
    "from torch.utils.data import DataLoader, Dataset, IterableDataset  # Dataset manager\n",
    "# from torch.autograd import Variable\n",
    "from torchvision import datasets\n",
    "from torch.utils.data.sampler import SubsetRandomSampler\n",
    "\n",
    "# Other\n",
    "import datetime\n",
    "import os\n",
    "from tqdm import tqdm\n",
    "from pathlib import Path\n",
    "from os import listdir\n",
    "from skimage.metrics import structural_similarity as ssim\n",
    "# from fastaniso import anisodiff\n",
    "# from time import time\n",
    "from IPython.display import clear_output\n",
    "\n",
    "# Graphics\n",
    "from matplotlib import pyplot as plt\n",
    "import seaborn as sns\n",
    "\n",
    "# Additional modules\n",
    "# from dataset_creator import generate_csv\n",
    "# from assistive_funcs import filtering_image, check_ssim, convert_to_grayscale, get_dataset_name\n",
    "# from csv_dataloader import get_train_test_data\n",
    "from math import floor"
   ]
  },
  {
   "cell_type": "code",
   "execution_count": 13,
   "metadata": {},
   "outputs": [
    {
     "name": "stdout",
     "output_type": "stream",
     "text": [
      "device = device(type='cpu')\n"
     ]
    }
   ],
   "source": [
    "# Paths\n",
    "p_main_data = Path(\"../data\")\n",
    "p_models = Path(\"../models\")\n",
    "\n",
    "p_scv_folder = p_main_data / \"csv_files\" # datasets_path\n",
    "p_img = p_main_data / \"images\"\n",
    "\n",
    "p_noised_imgs = p_main_data / \"imgs_with_noise\" \n",
    "\n",
    "p_filtered_images = p_main_data / \"filtered_imgs\"\n",
    "\n",
    "p_gray_images = p_main_data / \"gray_images\"\n",
    "\n",
    "# Dataset\n",
    "win_size = 7\n",
    "_step = 4\n",
    "\n",
    "device = torch.device(\"cuda\" if torch.cuda.is_available() else \"cpu\")\n",
    "print(f\"{device = }\")"
   ]
  },
  {
   "cell_type": "code",
   "execution_count": 14,
   "metadata": {},
   "outputs": [],
   "source": [
    "def add_noise(img, scale=0.2707) -> np.array:\n",
    "\n",
    "    # Create noise\n",
    "    size = img.shape\n",
    "    noise = np.random.rayleigh(scale=scale, size=size)\n",
    "    # Add noise\n",
    "    noised_img = img + img * noise\n",
    "    noised_img = np.where(noised_img <= 255, noised_img, 255)\n",
    "    return torch.Tensor(noised_img)"
   ]
  },
  {
   "cell_type": "code",
   "execution_count": 15,
   "metadata": {},
   "outputs": [],
   "source": [
    "def load_data(w, h, test_size=0.2, batch_size=32):\n",
    "\n",
    "    transform = transforms.Compose([\n",
    "        transforms.Resize(size=(w, h)),\n",
    "        transforms.Grayscale(num_output_channels=1),\n",
    "        transforms.ToTensor(),\n",
    "        # transforms.Lambda(lambd=lambda x: x * 255)\n",
    "    ])\n",
    "        # transforms.Normalize((0.5,), (0.5,)),\n",
    "        # transforms.Lambda(lambd=lambda x: x / 255),\n",
    "    \n",
    "    Data = datasets.ImageFolder(p_main_data / \"images_for_cnn\", transform=transform)\n",
    "\n",
    "\n",
    "    num_data = len(Data)\n",
    "    indices_data = list(range(num_data))\n",
    "    np.random.shuffle(indices_data)\n",
    "    split_tt = int(np.floor(test_size * num_data))\n",
    "    train_idx, test_idx = indices_data[split_tt:], indices_data[:split_tt]\n",
    "\n",
    "    # define samplers for obtaining training and validation batches\n",
    "    train_sampler = SubsetRandomSampler(train_idx)\n",
    "    test_sampler = SubsetRandomSampler(test_idx)\n",
    "\n",
    "    trainloader = torch.utils.data.DataLoader(Data, sampler=train_sampler, batch_size=batch_size)  # num_workers=4\n",
    "    testloader = torch.utils.data.DataLoader(Data, sampler=test_sampler,  batch_size=batch_size)  # num_workers=4\n",
    "\n",
    "    return trainloader, testloader"
   ]
  },
  {
   "cell_type": "code",
   "execution_count": 16,
   "metadata": {},
   "outputs": [
    {
     "name": "stdout",
     "output_type": "stream",
     "text": [
      "[tensor([[[[0.2627, 0.2706, 0.2745,  ..., 0.6235, 0.6118, 0.5882],\n",
      "          [0.2667, 0.2784, 0.2824,  ..., 0.6157, 0.6078, 0.5961],\n",
      "          [0.2706, 0.2824, 0.2863,  ..., 0.6157, 0.6118, 0.6118],\n",
      "          ...,\n",
      "          [0.4549, 0.4039, 0.4000,  ..., 0.2118, 0.2314, 0.2471],\n",
      "          [0.4667, 0.4078, 0.4118,  ..., 0.2000, 0.2314, 0.2549],\n",
      "          [0.5216, 0.4784, 0.4863,  ..., 0.2471, 0.2784, 0.2667]]]]), tensor([0])]\n",
      "tensor([[0.2627, 0.2706, 0.2745,  ..., 0.6235, 0.6118, 0.5882],\n",
      "        [0.2667, 0.2784, 0.2824,  ..., 0.6157, 0.6078, 0.5961],\n",
      "        [0.2706, 0.2824, 0.2863,  ..., 0.6157, 0.6118, 0.6118],\n",
      "        ...,\n",
      "        [0.4549, 0.4039, 0.4000,  ..., 0.2118, 0.2314, 0.2471],\n",
      "        [0.4667, 0.4078, 0.4118,  ..., 0.2000, 0.2314, 0.2549],\n",
      "        [0.5216, 0.4784, 0.4863,  ..., 0.2471, 0.2784, 0.2667]])\n"
     ]
    }
   ],
   "source": [
    "w, h = 608, 608\n",
    "batch_size = 1\n",
    "test_size = 0.2\n",
    "trainloader, testloader = load_data(w, h, test_size=test_size, batch_size=batch_size)\n",
    "\n",
    "for image in testloader:\n",
    "    print(image)\n",
    "    image = image[0].squeeze()\n",
    "    print(image)\n",
    "    break"
   ]
  },
  {
   "cell_type": "code",
   "execution_count": 17,
   "metadata": {},
   "outputs": [],
   "source": [
    "class CNNModel(nn.Module):\n",
    "    def __init__(self, *, num_filter=64, num_channel=1, kernel_size=5, padding=1) -> None:\n",
    "        super().__init__()\n",
    "        self.sequential = nn.Sequential(\n",
    "            nn.Conv2d(1, num_filter, kernel_size, padding=1),\n",
    "            nn.BatchNorm2d(num_filter),\n",
    "            nn.ReLU(),\n",
    "            \n",
    "            nn.Conv2d(num_filter, num_filter, kernel_size, padding=1),\n",
    "            nn.BatchNorm2d(num_filter),\n",
    "            nn.ReLU(),\n",
    "            \n",
    "            nn.Conv2d(num_filter, num_filter, kernel_size, padding=1),\n",
    "            nn.BatchNorm2d(num_filter),\n",
    "            nn.ReLU(),\n",
    "            \n",
    "            nn.Conv2d(num_filter, num_filter, kernel_size, padding=1),\n",
    "            nn.BatchNorm2d(num_filter),\n",
    "            nn.ReLU(),\n",
    "            \n",
    "            nn.Conv2d(num_filter, num_filter, kernel_size, padding=1),\n",
    "            nn.BatchNorm2d(num_filter),\n",
    "            nn.ReLU(),\n",
    "            \n",
    "            nn.Conv2d(num_filter, num_channel, kernel_size, padding=1),\n",
    "            nn.BatchNorm2d(1),\n",
    "            nn.ReLU(),\n",
    "        )\n",
    "    def forward(self, x):        \n",
    "        return self.sequential(x)"
   ]
  },
  {
   "cell_type": "code",
   "execution_count": 18,
   "metadata": {},
   "outputs": [],
   "source": [
    "num_filter = 128\n",
    "num_channel = 1\n",
    "kernel_size = 3\n",
    "learning_rate = 0.001\n",
    "padding = 1\n",
    "\n",
    "model = CNNModel(num_filter=num_filter, num_channel=num_channel, kernel_size=kernel_size, padding=padding)\n",
    "\n",
    "loss_metric = nn.MSELoss()\n",
    "optimizer = torch.optim.Adam(model.parameters(), lr=learning_rate)\n"
   ]
  },
  {
   "cell_type": "code",
   "execution_count": 19,
   "metadata": {},
   "outputs": [
    {
     "data": {
      "image/png": "[encoded data removed]",
      "text/plain": [
       "<Figure size 640x480 with 1 Axes>"
      ]
     },
     "metadata": {},
     "output_type": "display_data"
    },
    {
     "ename": "KeyboardInterrupt",
     "evalue": "",
     "output_type": "error",
     "traceback": [
      "\u001b[1;31m---------------------------------------------------------------------------\u001b[0m",
      "\u001b[1;31mKeyboardInterrupt\u001b[0m                         Traceback (most recent call last)",
      "Cell \u001b[1;32mIn [19], line 15\u001b[0m\n\u001b[0;32m     13\u001b[0m out_image \u001b[39m=\u001b[39m noised_image \u001b[39m/\u001b[39m (\u001b[39m1\u001b[39m \u001b[39m+\u001b[39m predicted_noise)\u001b[39m.\u001b[39msqueeze()\n\u001b[0;32m     14\u001b[0m loss \u001b[39m=\u001b[39m loss_metric(out_image, image)\n\u001b[1;32m---> 15\u001b[0m loss\u001b[39m.\u001b[39;49mbackward()\n\u001b[0;32m     16\u001b[0m optimizer\u001b[39m.\u001b[39mstep()\n\u001b[0;32m     17\u001b[0m losses\u001b[39m.\u001b[39mappend(loss\u001b[39m.\u001b[39mitem())\n",
      "File \u001b[1;32md:\\projects\\.venvs\\p_39\\lib\\site-packages\\torch\\_tensor.py:396\u001b[0m, in \u001b[0;36mTensor.backward\u001b[1;34m(self, gradient, retain_graph, create_graph, inputs)\u001b[0m\n\u001b[0;32m    387\u001b[0m \u001b[39mif\u001b[39;00m has_torch_function_unary(\u001b[39mself\u001b[39m):\n\u001b[0;32m    388\u001b[0m     \u001b[39mreturn\u001b[39;00m handle_torch_function(\n\u001b[0;32m    389\u001b[0m         Tensor\u001b[39m.\u001b[39mbackward,\n\u001b[0;32m    390\u001b[0m         (\u001b[39mself\u001b[39m,),\n\u001b[1;32m   (...)\u001b[0m\n\u001b[0;32m    394\u001b[0m         create_graph\u001b[39m=\u001b[39mcreate_graph,\n\u001b[0;32m    395\u001b[0m         inputs\u001b[39m=\u001b[39minputs)\n\u001b[1;32m--> 396\u001b[0m torch\u001b[39m.\u001b[39;49mautograd\u001b[39m.\u001b[39;49mbackward(\u001b[39mself\u001b[39;49m, gradient, retain_graph, create_graph, inputs\u001b[39m=\u001b[39;49minputs)\n",
      "File \u001b[1;32md:\\projects\\.venvs\\p_39\\lib\\site-packages\\torch\\autograd\\__init__.py:173\u001b[0m, in \u001b[0;36mbackward\u001b[1;34m(tensors, grad_tensors, retain_graph, create_graph, grad_variables, inputs)\u001b[0m\n\u001b[0;32m    168\u001b[0m     retain_graph \u001b[39m=\u001b[39m create_graph\n\u001b[0;32m    170\u001b[0m \u001b[39m# The reason we repeat same the comment below is that\u001b[39;00m\n\u001b[0;32m    171\u001b[0m \u001b[39m# some Python versions print out the first line of a multi-line function\u001b[39;00m\n\u001b[0;32m    172\u001b[0m \u001b[39m# calls in the traceback and some print out the last line\u001b[39;00m\n\u001b[1;32m--> 173\u001b[0m Variable\u001b[39m.\u001b[39;49m_execution_engine\u001b[39m.\u001b[39;49mrun_backward(  \u001b[39m# Calls into the C++ engine to run the backward pass\u001b[39;49;00m\n\u001b[0;32m    174\u001b[0m     tensors, grad_tensors_, retain_graph, create_graph, inputs,\n\u001b[0;32m    175\u001b[0m     allow_unreachable\u001b[39m=\u001b[39;49m\u001b[39mTrue\u001b[39;49;00m, accumulate_grad\u001b[39m=\u001b[39;49m\u001b[39mTrue\u001b[39;49;00m)\n",
      "\u001b[1;31mKeyboardInterrupt\u001b[0m: "
     ]
    }
   ],
   "source": [
    "EPOCHS = 40\n",
    "losses = []\n",
    "\n",
    "for epoch in range(EPOCHS):\n",
    "    for i, image in enumerate(trainloader):\n",
    "        image = image[0].squeeze() * 255\n",
    "        \n",
    "        optimizer.zero_grad()\n",
    "        \n",
    "        noised_image = add_noise(image)\n",
    "        \n",
    "        predicted_noise = model(noised_image[None, None])\n",
    "        out_image = noised_image / (1 + predicted_noise).squeeze()\n",
    "        loss = loss_metric(out_image, image)\n",
    "        loss.backward()\n",
    "        optimizer.step()\n",
    "        losses.append(loss.item())\n",
    "        clear_output()\n",
    "        plt.plot(losses)\n",
    "        plt.title(f\"{epoch = }, {i = }, loss = {loss.item():.2f}\")\n",
    "        plt.show()"
   ]
  },
  {
   "cell_type": "code",
   "execution_count": null,
   "metadata": {},
   "outputs": [],
   "source": [
    "# torch.save(model, p_models / \"conv_model.pt\")\n",
    "# torch.save(model.state_dict(), p_models / \"conv_model_state_dict.pt\")"
   ]
  },
  {
   "cell_type": "code",
   "execution_count": null,
   "metadata": {},
   "outputs": [],
   "source": [
    "# model = torch.load(p_models / \"conv_model.pt\")"
   ]
  },
  {
   "cell_type": "code",
   "execution_count": 21,
   "metadata": {},
   "outputs": [
    {
     "name": "stdout",
     "output_type": "stream",
     "text": [
      "Statistics: mean = 0.10517542064189911, std = 0.1512717604637146 "
     ]
    },
    {
     "data": {
      "image/png": "[encoded data removed]",
      "text/plain": [
       "<Figure size 640x480 with 1 Axes>"
      ]
     },
     "metadata": {},
     "output_type": "display_data"
    },
    {
     "name": "stdout",
     "output_type": "stream",
     "text": [
      "SSIM = 0.393\n"
     ]
    }
   ],
   "source": [
    "def evaluate():\n",
    "    with torch.no_grad():\n",
    "        model.eval()\n",
    "        for i, image in enumerate(testloader):\n",
    "            image = image[0].squeeze() * 255\n",
    "            Image.fromarray(image.numpy()).show(title=\"Genuine image\")\n",
    "            \n",
    "            noised_image = add_noise(image)\n",
    "            Image.fromarray(noised_image.numpy()).show(title=\"Noised image\")\n",
    "            \n",
    "            predicted_noise = model(image[None, None]).squeeze()\n",
    "            print(f\"Statistics: mean = {predicted_noise.mean()}, std = {predicted_noise.std()} \", end=\"\")\n",
    "            plt.hist(predicted_noise.squeeze().numpy().flatten(), bins=20, )\n",
    "            plt.show()\n",
    "            \n",
    "            out_image = noised_image / (1 + predicted_noise)\n",
    "            Image.fromarray(out_image.numpy()).show(title=\"Filtered image\")\n",
    "            \n",
    "            filtered_img = out_image.numpy()\n",
    "            genuine_img = image.numpy()\n",
    "            ssim_metric = ssim(filtered_img, genuine_img)\n",
    "            print(f\"SSIM = {ssim_metric:.3f}\")\n",
    "            \n",
    "            return \n",
    "        \n",
    "evaluate()"
   ]
  },
  {
   "cell_type": "code",
   "execution_count": null,
   "metadata": {},
   "outputs": [],
   "source": []
  }
 ],
 "metadata": {
  "kernelspec": {
   "display_name": "Python 3.9.13 ('ml_venv_p39')",
   "language": "python",
   "name": "python3"
  },
  "language_info": {
   "codemirror_mode": {
    "name": "ipython",
    "version": 3
   },
   "file_extension": ".py",
   "mimetype": "text/x-python",
   "name": "python",
   "nbconvert_exporter": "python",
   "pygments_lexer": "ipython3",
   "version": "3.9.13"
  },
  "orig_nbformat": 4,
  "vscode": {
   "interpreter": {
    "hash": "4768d2f058c14b479e138ff57b58bdd686493c6bb5dedc1b4ea8047c7aed7072"
   }
  }
 },
 "nbformat": 4,
 "nbformat_minor": 2
}
