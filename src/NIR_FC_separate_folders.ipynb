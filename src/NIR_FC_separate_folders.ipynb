{
 "cells": [
  {
   "cell_type": "code",
   "execution_count": 15,
   "metadata": {},
   "outputs": [],
   "source": [
    "# Data Handlers\n",
    "import numpy as np\n",
    "\n",
    "# Pytorch\n",
    "import torch\n",
    "import torch.nn as nn\n",
    "import torch.optim as optim\n",
    "\n",
    "# Other\n",
    "from pathlib import Path\n",
    "from os import listdir\n",
    "from time import time\n",
    "from sklearn.preprocessing import OneHotEncoder\n",
    "from fastaniso import anisodiff\n",
    "\n",
    "# Graphics\n",
    "from matplotlib import pyplot as plt\n",
    "import seaborn as sns\n",
    "\n",
    "# Additional modules\n",
    "from dataset_creator import generate_unshuffled_csv\n",
    "from assistive_funcs import filtering_image, check_ssim, check_gmsd\n",
    "from csv_dataloader import get_train_test_small_data"
   ]
  },
  {
   "cell_type": "code",
   "execution_count": 16,
   "metadata": {},
   "outputs": [
    {
     "data": {
      "text/plain": [
       "device(type='cuda')"
      ]
     },
     "execution_count": 16,
     "metadata": {},
     "output_type": "execute_result"
    }
   ],
   "source": [
    "# Paths\n",
    "p_main_data = Path(\"../data/large_data\")\n",
    "p_models = Path(\"../models\")\n",
    "\n",
    "p_scv_folder = p_main_data / \"csv_files\"\n",
    "\n",
    "p_train_images = p_main_data / \"train_images\"\n",
    "p_test_images = p_main_data / \"test_images\"\n",
    "\n",
    "p_train_noised_images = p_main_data / \"train_images_noised\"\n",
    "p_test_noised_images = p_main_data / \"test_images_noised\"\n",
    "\n",
    "p_train_filtered_images = p_main_data / \"train_images_filtered\"\n",
    "p_test_filtered_images = p_main_data / \"test_images_filtered\"\n",
    "\n",
    "device = torch.device(\"cuda\" if torch.cuda.is_available() else \"cpu\")\n",
    "device"
   ]
  },
  {
   "cell_type": "code",
   "execution_count": 17,
   "metadata": {},
   "outputs": [],
   "source": [
    "# Dataset\n",
    "win_size = 5\n",
    "step = 3\n",
    "create_dataset = 1\n",
    "train_dataset_name = f\"train_W{win_size}_S{step}.csv\"\n",
    "test_dataset_name = f\"valid_W{win_size}_S{step}.csv\""
   ]
  },
  {
   "cell_type": "code",
   "execution_count": 18,
   "metadata": {},
   "outputs": [
    {
     "name": "stdout",
     "output_type": "stream",
     "text": [
      "img: 8/8\n",
      "Samples: 329672\n"
     ]
    }
   ],
   "source": [
    "# Train dataset\n",
    "if create_dataset:\n",
    "    generate_unshuffled_csv(win_size=win_size, dump_to_file=100000, step=step,\n",
    "                 img_path=p_train_images,\n",
    "                 datasets_path=p_scv_folder,\n",
    "                 noise_imgs_path=p_train_noised_images,\n",
    "                 dataset_name=train_dataset_name,\n",
    "                 force_create_dataset=1)"
   ]
  },
  {
   "cell_type": "code",
   "execution_count": 19,
   "metadata": {},
   "outputs": [
    {
     "name": "stdout",
     "output_type": "stream",
     "text": [
      "img: 2/2\n",
      "Samples: 82418\n"
     ]
    }
   ],
   "source": [
    "# Valid dataset\n",
    "if create_dataset:\n",
    "    generate_unshuffled_csv(win_size=win_size, dump_to_file=10000, step=step,\n",
    "                 img_path=p_test_images,\n",
    "                 datasets_path=p_scv_folder,\n",
    "                 noise_imgs_path=p_test_noised_images,\n",
    "                 dataset_name=test_dataset_name,\n",
    "                 force_create_dataset=1)"
   ]
  },
  {
   "cell_type": "code",
   "execution_count": 20,
   "metadata": {},
   "outputs": [],
   "source": [
    "class FCBlock(nn.Module):\n",
    "    def __init__(self, in_len, out_len, p_dropout=False) -> None:\n",
    "        super().__init__()\n",
    "        if p_dropout:\n",
    "            self.fc_block = nn.Sequential(\n",
    "                nn.Linear(in_len, out_len),\n",
    "                nn.Dropout(p_dropout),\n",
    "                nn.ReLU(),\n",
    "            )\n",
    "        else:\n",
    "            self.fc_block = nn.Sequential(\n",
    "                nn.Linear(in_len, out_len),\n",
    "                nn.BatchNorm1d(out_len),\n",
    "                nn.ReLU(),\n",
    "            )\n",
    "    \n",
    "    def forward(self, x):\n",
    "        return self.fc_block(x)"
   ]
  },
  {
   "cell_type": "code",
   "execution_count": 21,
   "metadata": {},
   "outputs": [],
   "source": [
    "class DefaultModel(nn.Module):\n",
    "    def __init__(self, in_len, out_len) -> None:\n",
    "        super().__init__()\n",
    "        double_in_len = in_len * 2\n",
    "        triple_in_len = in_len * 3\n",
    "\n",
    "        self.structure = nn.Sequential(\n",
    "            FCBlock(in_len, in_len,               p_dropout=0),\n",
    "            FCBlock(in_len, double_in_len,        p_dropout=0),\n",
    "            # FCBlock(double_in_len, double_in_len, p_dropout=0),\n",
    "            # FCBlock(double_in_len, double_in_len, p_dropout=0),\n",
    "            FCBlock(double_in_len, triple_in_len, p_dropout=0),\n",
    "            FCBlock(triple_in_len, triple_in_len, p_dropout=0),\n",
    "            nn.Linear(triple_in_len, out_len),\n",
    "        )\n",
    "\n",
    "    def forward(self, x):\n",
    "        x = self.structure(x)\n",
    "        return x"
   ]
  },
  {
   "cell_type": "code",
   "execution_count": 22,
   "metadata": {},
   "outputs": [],
   "source": [
    "class FitModel():\n",
    "    def __init__(self, model, criterion, optimizer, scheduler,\n",
    "                 p_scv_folder, train_dataset_name, test_dataset_name,\n",
    "                 batch_size, device, num_epoches, classification=False):\n",
    "        # Model\n",
    "        self.model = model\n",
    "        self.criterion = criterion\n",
    "        self.optimizer = optimizer\n",
    "        self.scheduler = scheduler\n",
    "        \n",
    "        # Params\n",
    "        self.num_epoches = num_epoches\n",
    "        self.batch_size = batch_size\n",
    "        \n",
    "        # Folders\n",
    "        self.p_scv_folder = p_scv_folder\n",
    "        self.train_dataset_name = train_dataset_name\n",
    "        self.test_dataset_name = test_dataset_name\n",
    "        \n",
    "        # Flags\n",
    "        self.classification = classification\n",
    "        self.device = device  \n",
    "        \n",
    "        # Constants\n",
    "        self.train_losses = []\n",
    "        self.valid_losses = []\n",
    "        self.images_filtered = False\n",
    "        \n",
    "        if self.classification:\n",
    "            X = [[i] for i in range(0, 256)]\n",
    "            self.enc = OneHotEncoder()\n",
    "            self.enc.fit(X)\n",
    "\n",
    "    def _train(self, current_epoch):\n",
    "        total_loss = []\n",
    "        start_time = time()\n",
    "        self.model.train()\n",
    "        for data, targets in self.train_loader:\n",
    "            data = data.to(device=self.device)\n",
    "            if self.classification:\n",
    "                targets = torch.Tensor(self.enc.transform(targets).toarray())\n",
    "            targets = targets.to(device=self.device)\n",
    "\n",
    "            scores = self.model(data)\n",
    "            loss = self.criterion(scores, targets)\n",
    "            loss.backward()\n",
    "           \n",
    "            self.optimizer.step()\n",
    "            self.optimizer.zero_grad()\n",
    "            \n",
    "            total_loss.append(loss.item())\n",
    "        \n",
    "        mean_total_loss = np.mean(total_loss)\n",
    "        self.train_losses.append(mean_total_loss)\n",
    "        print(f\"Epoch: {current_epoch}/{self.num_epoches}, time: {int(time() - start_time)}s, lr = {self.scheduler.get_last_lr()}\\n\\tTrain loss: {mean_total_loss:.2f}\")\n",
    "        \n",
    "    def _valid(self, current_epoch):\n",
    "        total_loss = []\n",
    "\n",
    "        self.model.eval()\n",
    "        with torch.no_grad():\n",
    "            for data, targets in self.test_loader:\n",
    "                \n",
    "                data = data.to(device=self.device)\n",
    "                if self.classification:\n",
    "                    targets = torch.Tensor(self.enc.transform(targets).toarray())\n",
    "                targets = targets.to(device=self.device)\n",
    "                \n",
    "                # Forward\n",
    "                scores = self.model(data)\n",
    "                loss = self.criterion(scores, targets)\n",
    "                total_loss.append(loss.item())\n",
    "        \n",
    "        mean_total_loss = np.mean(total_loss)\n",
    "        self.valid_losses.append(mean_total_loss)\n",
    "        print(f\"\\tValid loss: {mean_total_loss:.2f}\")\n",
    "    \n",
    "    def fit(self):\n",
    "        self.train_loader = get_train_test_small_data(scv_folder=self.p_scv_folder, dataset_name=self.train_dataset_name,\n",
    "                                                        batch_size=self.batch_size, split=False)\n",
    "        self.test_loader = get_train_test_small_data(scv_folder=self.p_scv_folder, dataset_name=self.test_dataset_name,\n",
    "                                                        batch_size=self.batch_size, split=False)\n",
    "        for epoch in range(self.num_epoches):\n",
    "            self._train(epoch + 1)\n",
    "            self._valid(epoch + 1)\n",
    "            if self.scheduler is not None:\n",
    "                self.scheduler.step()\n",
    "                \n",
    "    def plot_graph(self):\n",
    "        sns.set()\n",
    "        fig, (ax_train, ax_test) = plt.subplots(nrows=1, ncols=2, figsize=(12, 6))\n",
    "        fig.suptitle('Loss')\n",
    "\n",
    "        ax_train.set_title(\"Train loss\")\n",
    "        ax_test.set_title(\"Valid loss\")\n",
    "\n",
    "        ax_train.set_ylabel('Loss value')\n",
    "        ax_test.set_ylabel('Loss value')\n",
    "\n",
    "        ax_train.set_xlabel(\"Batch\")\n",
    "        ax_test.set_xlabel(\"Batch\")\n",
    "\n",
    "        sns.lineplot(data=self.train_losses, ax=ax_train)\n",
    "        sns.lineplot(data=self.valid_losses, ax=ax_test)\n",
    "\n",
    "        plt.show()\n",
    "    \n",
    "    def filtering_all_images(self):\n",
    "        self.images_filtered = True\n",
    "        images_names = listdir(p_test_noised_images)\n",
    "        for name in images_names:\n",
    "            filtering_image(self.model, p_test_filtered_images, p_test_noised_images, name, win_size, self.device, classification=self.classification)\n",
    "        \n",
    "    @staticmethod\n",
    "    def _check_filtering(p_target_images, p_original_images):\n",
    "        ssim_metric = []\n",
    "        gmsd_metric = []\n",
    "        images_names = listdir(p_target_images)\n",
    "        for name in images_names:\n",
    "            ssim_metric.append(check_ssim(p_target_images, p_original_images, name))\n",
    "            gmsd_metric.append(check_gmsd(p_target_images, p_original_images, name))\n",
    "        return ssim_metric, gmsd_metric\n",
    "        # print(f\"SSIM avg: {sum(ssim_metric) / len(ssim_metric)}\")\n",
    "        # print(f\"GMSD avg: {sum(gmsd_metric) / len(gmsd_metric)}\")\n",
    "    \n",
    "    def check_metrics(self):\n",
    "        if not self.images_filtered:\n",
    "            print(\"Warning: images weren't filtered\")\n",
    "        metrics_after_filtering = self._check_filtering(p_test_filtered_images, p_test_images)\n",
    "        metrics_befor_filtering = self._check_filtering(p_test_noised_images, p_test_images)\n",
    "        print(f\"After filtering\\n\\tSSIM: {np.mean(metrics_after_filtering[0]):.3f}\\n\\tGMSD: {np.mean(metrics_after_filtering[1]):.3f}\")\n",
    "        \n",
    "        print(f\"Before filtering\\n\\tSSIM: {np.mean(metrics_befor_filtering[0]):.3f}\\n\\tGMSD: {np.mean(metrics_befor_filtering[1]):.3f}\")\n",
    "        "
   ]
  },
  {
   "cell_type": "code",
   "execution_count": 46,
   "metadata": {},
   "outputs": [],
   "source": [
    "# Hyperparameters \n",
    "learning_rate = 0.1\n",
    "num_epoches = 9\n",
    "batch_size = 1024"
   ]
  },
  {
   "cell_type": "code",
   "execution_count": 47,
   "metadata": {},
   "outputs": [],
   "source": [
    "model = DefaultModel(in_len=(win_size ** 2), out_len=1).to(device=device)\n",
    "criterion = nn.MSELoss()\n",
    "\n",
    "# Adagrad, RAdam, Adam, Adamax, NAdam: SSIM ~ 0.89\n",
    "optimizer = optim.NAdam(model.parameters(), lr=learning_rate)\n",
    "\n",
    "# scheduler = optim.lr_scheduler.StepLR(optimizer, step_size=3, gamma=0.1)\n",
    "scheduler = optim.lr_scheduler.MultiStepLR(optimizer, milestones=[5, 7, 14], gamma=0.1)\n",
    "# scheduler = None"
   ]
  },
  {
   "cell_type": "code",
   "execution_count": 48,
   "metadata": {},
   "outputs": [
    {
     "name": "stdout",
     "output_type": "stream",
     "text": [
      "Epoch: 1/9, time: 5s, lr = [0.1]\n",
      "\tTrain loss: 354.28\n",
      "\tValid loss: 140.34\n",
      "Epoch: 2/9, time: 4s, lr = [0.1]\n",
      "\tTrain loss: 79.71\n",
      "\tValid loss: 135.53\n",
      "Epoch: 3/9, time: 4s, lr = [0.1]\n",
      "\tTrain loss: 71.08\n",
      "\tValid loss: 85.28\n",
      "Epoch: 4/9, time: 4s, lr = [0.1]\n",
      "\tTrain loss: 70.62\n",
      "\tValid loss: 69.80\n",
      "Epoch: 5/9, time: 4s, lr = [0.1]\n",
      "\tTrain loss: 63.98\n",
      "\tValid loss: 78.81\n",
      "Epoch: 6/9, time: 4s, lr = [0.010000000000000002]\n",
      "\tTrain loss: 42.58\n",
      "\tValid loss: 67.21\n",
      "Epoch: 7/9, time: 4s, lr = [0.010000000000000002]\n",
      "\tTrain loss: 43.28\n",
      "\tValid loss: 68.90\n",
      "Epoch: 8/9, time: 4s, lr = [0.0010000000000000002]\n",
      "\tTrain loss: 42.44\n",
      "\tValid loss: 67.72\n",
      "Epoch: 9/9, time: 4s, lr = [0.0010000000000000002]\n",
      "\tTrain loss: 41.76\n",
      "\tValid loss: 67.23\n"
     ]
    }
   ],
   "source": [
    "fit_model = FitModel(model, criterion, optimizer, scheduler,\n",
    "                     p_scv_folder, train_dataset_name, test_dataset_name,\n",
    "                     batch_size, device, num_epoches)\n",
    "fit_model.fit()"
   ]
  },
  {
   "cell_type": "code",
   "execution_count": 49,
   "metadata": {},
   "outputs": [
    {
     "data": {
      "image/png": "[encoded data removed]",
      "text/plain": [
       "<Figure size 1200x600 with 2 Axes>"
      ]
     },
     "metadata": {},
     "output_type": "display_data"
    }
   ],
   "source": [
    "fit_model.plot_graph()"
   ]
  },
  {
   "cell_type": "code",
   "execution_count": 50,
   "metadata": {},
   "outputs": [
    {
     "name": "stderr",
     "output_type": "stream",
     "text": [
      "100%|██████████| 608/608 [00:01<00:00, 469.04it/s]\n",
      "100%|██████████| 608/608 [00:01<00:00, 485.90it/s]\n"
     ]
    }
   ],
   "source": [
    "fit_model.filtering_all_images()"
   ]
  },
  {
   "cell_type": "code",
   "execution_count": 51,
   "metadata": {},
   "outputs": [
    {
     "name": "stdout",
     "output_type": "stream",
     "text": [
      "After filtering\n",
      "\tSSIM: 0.904\n",
      "\tGMSD: 0.051\n",
      "Before filtering\n",
      "\tSSIM: 0.696\n",
      "\tGMSD: 0.090\n"
     ]
    }
   ],
   "source": [
    "fit_model.check_metrics()"
   ]
  }
 ],
 "metadata": {
  "kernelspec": {
   "display_name": "3.9_venv",
   "language": "python",
   "name": "python3"
  },
  "language_info": {
   "codemirror_mode": {
    "name": "ipython",
    "version": 3
   },
   "file_extension": ".py",
   "mimetype": "text/x-python",
   "name": "python",
   "nbconvert_exporter": "python",
   "pygments_lexer": "ipython3",
   "version": "3.9.13"
  },
  "orig_nbformat": 4,
  "vscode": {
   "interpreter": {
    "hash": "88cdb296fa45150573a7479e53c46514a0e326ba4c5c7ce7e99a342aad6ba12b"
   }
  }
 },
 "nbformat": 4,
 "nbformat_minor": 2
}
