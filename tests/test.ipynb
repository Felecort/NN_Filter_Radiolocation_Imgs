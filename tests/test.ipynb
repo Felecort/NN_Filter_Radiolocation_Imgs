{
 "cells": [
  {
   "cell_type": "code",
   "execution_count": 8,
   "metadata": {},
   "outputs": [],
   "source": [
    "import os\n",
    "import pandas as pd\n",
    "import PIL\n",
    "from PIL import Image, ImageOps"
   ]
  },
  {
   "cell_type": "code",
   "execution_count": 9,
   "metadata": {},
   "outputs": [],
   "source": [
    "dataset = \"../datasets/csv_files/test_dataset.csv\"\n",
    "with pd.read_csv(dataset, header=None, index_col=False, chunksize=50000) as df:\n",
    "    chunk = df.__next__()"
   ]
  },
  {
   "cell_type": "code",
   "execution_count": 11,
   "metadata": {},
   "outputs": [
    {
     "data": {
      "text/plain": [
       "(43929, 4226)"
      ]
     },
     "execution_count": 11,
     "metadata": {},
     "output_type": "execute_result"
    }
   ],
   "source": [
    "chunk.shape"
   ]
  },
  {
   "cell_type": "code",
   "execution_count": 13,
   "metadata": {},
   "outputs": [],
   "source": [
    "arr = (chunk.iloc[42_650][:-1] * 255).to_numpy().reshape((65, 65))\n"
   ]
  },
  {
   "cell_type": "code",
   "execution_count": 14,
   "metadata": {},
   "outputs": [],
   "source": [
    "arr = (Image.fromarray(arr))\n",
    "arr.show()"
   ]
  },
  {
   "cell_type": "code",
   "execution_count": null,
   "metadata": {},
   "outputs": [],
   "source": [
    "import numpy as np\n",
    "from random import randint\n",
    "\n",
    "\n",
    "valid = []\n",
    "for _ in range(100_000):\n",
    "    step = randint(2, 20)\n",
    "    length = randint(25, 10_000)\n",
    "    x = np.arange(length + 1) * step\n",
    "    y = list(range(0, (length + 1) * step, step))\n",
    "    # print(list(x))\n",
    "    # print(y)\n",
    "    valid.append(list(x) == y)\n",
    "# print(valid)\n",
    "print(f\"total iterations = {len(valid)}\\nTrue = {sum(valid)}\")"
   ]
  },
  {
   "cell_type": "code",
   "execution_count": 3,
   "metadata": {},
   "outputs": [
    {
     "data": {
      "text/plain": [
       "[2, 0, 8, 4, 3, 6, 9, 5, 7, 1]"
      ]
     },
     "execution_count": 3,
     "metadata": {},
     "output_type": "execute_result"
    }
   ],
   "source": [
    "from random import sample\n",
    "\n",
    "x = list(range(10))\n",
    "sample(x, len(x))"
   ]
  },
  {
   "cell_type": "code",
   "execution_count": null,
   "metadata": {},
   "outputs": [],
   "source": []
  }
 ],
 "metadata": {
  "kernelspec": {
   "display_name": "Python 3.9.13 ('ml_venv_p39')",
   "language": "python",
   "name": "python3"
  },
  "language_info": {
   "codemirror_mode": {
    "name": "ipython",
    "version": 3
   },
   "file_extension": ".py",
   "mimetype": "text/x-python",
   "name": "python",
   "nbconvert_exporter": "python",
   "pygments_lexer": "ipython3",
   "version": "3.9.13"
  },
  "orig_nbformat": 4,
  "vscode": {
   "interpreter": {
    "hash": "4768d2f058c14b479e138ff57b58bdd686493c6bb5dedc1b4ea8047c7aed7072"
   }
  }
 },
 "nbformat": 4,
 "nbformat_minor": 2
}
